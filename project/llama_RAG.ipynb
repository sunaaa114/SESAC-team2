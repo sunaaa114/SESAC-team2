{
 "cells": [
  {
   "cell_type": "code",
   "execution_count": 1,
   "metadata": {
    "colab": {
     "base_uri": "https://localhost:8080/"
    },
    "executionInfo": {
     "elapsed": 11474,
     "status": "ok",
     "timestamp": 1713758484685,
     "user": {
      "displayName": "조선아",
      "userId": "02017584329632875227"
     },
     "user_tz": -540
    },
    "id": "9rJcS9J8Itnm",
    "outputId": "869394e2-0333-4b1c-ea1e-25698a9dd0ba",
    "tags": []
   },
   "outputs": [
    {
     "name": "stdout",
     "output_type": "stream",
     "text": [
      "Collecting langchain\n",
      "  Downloading langchain-0.1.16-py3-none-any.whl.metadata (13 kB)\n",
      "Collecting langchainhub\n",
      "  Downloading langchainhub-0.1.15-py3-none-any.whl.metadata (621 bytes)\n",
      "Requirement already satisfied: PyYAML>=5.3 in /opt/conda/lib/python3.10/site-packages (from langchain) (6.0.1)\n",
      "Requirement already satisfied: SQLAlchemy<3,>=1.4 in /opt/conda/lib/python3.10/site-packages (from langchain) (2.0.28)\n",
      "Requirement already satisfied: aiohttp<4.0.0,>=3.8.3 in /opt/conda/lib/python3.10/site-packages (from langchain) (3.9.3)\n",
      "Requirement already satisfied: async-timeout<5.0.0,>=4.0.0 in /opt/conda/lib/python3.10/site-packages (from langchain) (4.0.3)\n",
      "Collecting dataclasses-json<0.7,>=0.5.7 (from langchain)\n",
      "  Downloading dataclasses_json-0.6.4-py3-none-any.whl.metadata (25 kB)\n",
      "Requirement already satisfied: jsonpatch<2.0,>=1.33 in /opt/conda/lib/python3.10/site-packages (from langchain) (1.33)\n",
      "Collecting langchain-community<0.1,>=0.0.32 (from langchain)\n",
      "  Downloading langchain_community-0.0.34-py3-none-any.whl.metadata (8.5 kB)\n",
      "Collecting langchain-core<0.2.0,>=0.1.42 (from langchain)\n",
      "  Downloading langchain_core-0.1.45-py3-none-any.whl.metadata (5.9 kB)\n",
      "Collecting langchain-text-splitters<0.1,>=0.0.1 (from langchain)\n",
      "  Downloading langchain_text_splitters-0.0.1-py3-none-any.whl.metadata (2.0 kB)\n",
      "Collecting langsmith<0.2.0,>=0.1.17 (from langchain)\n",
      "  Downloading langsmith-0.1.49-py3-none-any.whl.metadata (13 kB)\n",
      "Requirement already satisfied: numpy<2,>=1 in /opt/conda/lib/python3.10/site-packages (from langchain) (1.25.2)\n",
      "Requirement already satisfied: pydantic<3,>=1 in /opt/conda/lib/python3.10/site-packages (from langchain) (1.10.14)\n",
      "Requirement already satisfied: requests<3,>=2 in /opt/conda/lib/python3.10/site-packages (from langchain) (2.31.0)\n",
      "Requirement already satisfied: tenacity<9.0.0,>=8.1.0 in /opt/conda/lib/python3.10/site-packages (from langchain) (8.2.3)\n",
      "Collecting types-requests<3.0.0.0,>=2.31.0.2 (from langchainhub)\n",
      "  Downloading types_requests-2.31.0.20240406-py3-none-any.whl.metadata (1.8 kB)\n",
      "Requirement already satisfied: aiosignal>=1.1.2 in /opt/conda/lib/python3.10/site-packages (from aiohttp<4.0.0,>=3.8.3->langchain) (1.3.1)\n",
      "Requirement already satisfied: attrs>=17.3.0 in /opt/conda/lib/python3.10/site-packages (from aiohttp<4.0.0,>=3.8.3->langchain) (23.2.0)\n",
      "Requirement already satisfied: frozenlist>=1.1.1 in /opt/conda/lib/python3.10/site-packages (from aiohttp<4.0.0,>=3.8.3->langchain) (1.4.1)\n",
      "Requirement already satisfied: multidict<7.0,>=4.5 in /opt/conda/lib/python3.10/site-packages (from aiohttp<4.0.0,>=3.8.3->langchain) (6.0.5)\n",
      "Requirement already satisfied: yarl<2.0,>=1.0 in /opt/conda/lib/python3.10/site-packages (from aiohttp<4.0.0,>=3.8.3->langchain) (1.9.4)\n",
      "Collecting marshmallow<4.0.0,>=3.18.0 (from dataclasses-json<0.7,>=0.5.7->langchain)\n",
      "  Downloading marshmallow-3.21.1-py3-none-any.whl.metadata (7.2 kB)\n",
      "Collecting typing-inspect<1,>=0.4.0 (from dataclasses-json<0.7,>=0.5.7->langchain)\n",
      "  Downloading typing_inspect-0.9.0-py3-none-any.whl.metadata (1.5 kB)\n",
      "Requirement already satisfied: jsonpointer>=1.9 in /opt/conda/lib/python3.10/site-packages (from jsonpatch<2.0,>=1.33->langchain) (2.4)\n",
      "Collecting packaging<24.0,>=23.2 (from langchain-core<0.2.0,>=0.1.42->langchain)\n",
      "  Downloading packaging-23.2-py3-none-any.whl.metadata (3.2 kB)\n",
      "Collecting orjson<4.0.0,>=3.9.14 (from langsmith<0.2.0,>=0.1.17->langchain)\n",
      "  Downloading orjson-3.10.1-cp310-cp310-manylinux_2_17_x86_64.manylinux2014_x86_64.whl.metadata (49 kB)\n",
      "\u001b[2K     \u001b[90m━━━━━━━━━━━━━━━━━━━━━━━━━━━━━━━━━━━━━━━━\u001b[0m \u001b[32m49.7/49.7 kB\u001b[0m \u001b[31m2.9 MB/s\u001b[0m eta \u001b[36m0:00:00\u001b[0m\n",
      "\u001b[?25hRequirement already satisfied: typing-extensions>=4.2.0 in /opt/conda/lib/python3.10/site-packages (from pydantic<3,>=1->langchain) (4.10.0)\n",
      "Requirement already satisfied: charset-normalizer<4,>=2 in /opt/conda/lib/python3.10/site-packages (from requests<3,>=2->langchain) (3.3.2)\n",
      "Requirement already satisfied: idna<4,>=2.5 in /opt/conda/lib/python3.10/site-packages (from requests<3,>=2->langchain) (3.6)\n",
      "Requirement already satisfied: urllib3<3,>=1.21.1 in /opt/conda/lib/python3.10/site-packages (from requests<3,>=2->langchain) (1.26.18)\n",
      "Requirement already satisfied: certifi>=2017.4.17 in /opt/conda/lib/python3.10/site-packages (from requests<3,>=2->langchain) (2024.2.2)\n",
      "Requirement already satisfied: greenlet!=0.4.17 in /opt/conda/lib/python3.10/site-packages (from SQLAlchemy<3,>=1.4->langchain) (3.0.3)\n",
      "Collecting urllib3<3,>=1.21.1 (from requests<3,>=2->langchain)\n",
      "  Downloading urllib3-2.2.1-py3-none-any.whl.metadata (6.4 kB)\n",
      "Collecting mypy-extensions>=0.3.0 (from typing-inspect<1,>=0.4.0->dataclasses-json<0.7,>=0.5.7->langchain)\n",
      "  Downloading mypy_extensions-1.0.0-py3-none-any.whl.metadata (1.1 kB)\n",
      "Downloading langchain-0.1.16-py3-none-any.whl (817 kB)\n",
      "\u001b[2K   \u001b[90m━━━━━━━━━━━━━━━━━━━━━━━━━━━━━━━━━━━━━━━━\u001b[0m \u001b[32m817.7/817.7 kB\u001b[0m \u001b[31m7.7 MB/s\u001b[0m eta \u001b[36m0:00:00\u001b[0m00:01\u001b[0m00:01\u001b[0m\n",
      "\u001b[?25hDownloading langchainhub-0.1.15-py3-none-any.whl (4.6 kB)\n",
      "Downloading dataclasses_json-0.6.4-py3-none-any.whl (28 kB)\n",
      "Downloading langchain_community-0.0.34-py3-none-any.whl (1.9 MB)\n",
      "\u001b[2K   \u001b[90m━━━━━━━━━━━━━━━━━━━━━━━━━━━━━━━━━━━━━━━━\u001b[0m \u001b[32m1.9/1.9 MB\u001b[0m \u001b[31m36.8 MB/s\u001b[0m eta \u001b[36m0:00:00\u001b[0ma \u001b[36m0:00:01\u001b[0m\n",
      "\u001b[?25hDownloading langchain_core-0.1.45-py3-none-any.whl (291 kB)\n",
      "\u001b[2K   \u001b[90m━━━━━━━━━━━━━━━━━━━━━━━━━━━━━━━━━━━━━━━━\u001b[0m \u001b[32m291.3/291.3 kB\u001b[0m \u001b[31m45.9 MB/s\u001b[0m eta \u001b[36m0:00:00\u001b[0m\n",
      "\u001b[?25hDownloading langchain_text_splitters-0.0.1-py3-none-any.whl (21 kB)\n",
      "Downloading langsmith-0.1.49-py3-none-any.whl (115 kB)\n",
      "\u001b[2K   \u001b[90m━━━━━━━━━━━━━━━━━━━━━━━━━━━━━━━━━━━━━━━━\u001b[0m \u001b[32m115.2/115.2 kB\u001b[0m \u001b[31m22.9 MB/s\u001b[0m eta \u001b[36m0:00:00\u001b[0m\n",
      "\u001b[?25hDownloading types_requests-2.31.0.20240406-py3-none-any.whl (15 kB)\n",
      "Downloading marshmallow-3.21.1-py3-none-any.whl (49 kB)\n",
      "\u001b[2K   \u001b[90m━━━━━━━━━━━━━━━━━━━━━━━━━━━━━━━━━━━━━━━━\u001b[0m \u001b[32m49.4/49.4 kB\u001b[0m \u001b[31m9.4 MB/s\u001b[0m eta \u001b[36m0:00:00\u001b[0m\n",
      "\u001b[?25hDownloading orjson-3.10.1-cp310-cp310-manylinux_2_17_x86_64.manylinux2014_x86_64.whl (141 kB)\n",
      "\u001b[2K   \u001b[90m━━━━━━━━━━━━━━━━━━━━━━━━━━━━━━━━━━━━━━━━\u001b[0m \u001b[32m141.1/141.1 kB\u001b[0m \u001b[31m26.2 MB/s\u001b[0m eta \u001b[36m0:00:00\u001b[0m\n",
      "\u001b[?25hDownloading packaging-23.2-py3-none-any.whl (53 kB)\n",
      "\u001b[2K   \u001b[90m━━━━━━━━━━━━━━━━━━━━━━━━━━━━━━━━━━━━━━━━\u001b[0m \u001b[32m53.0/53.0 kB\u001b[0m \u001b[31m10.5 MB/s\u001b[0m eta \u001b[36m0:00:00\u001b[0m\n",
      "\u001b[?25hDownloading typing_inspect-0.9.0-py3-none-any.whl (8.8 kB)\n",
      "Downloading urllib3-2.2.1-py3-none-any.whl (121 kB)\n",
      "\u001b[2K   \u001b[90m━━━━━━━━━━━━━━━━━━━━━━━━━━━━━━━━━━━━━━━━\u001b[0m \u001b[32m121.1/121.1 kB\u001b[0m \u001b[31m22.0 MB/s\u001b[0m eta \u001b[36m0:00:00\u001b[0m\n",
      "\u001b[?25hDownloading mypy_extensions-1.0.0-py3-none-any.whl (4.7 kB)\n",
      "Installing collected packages: urllib3, packaging, orjson, mypy-extensions, typing-inspect, types-requests, marshmallow, langsmith, langchainhub, dataclasses-json, langchain-core, langchain-text-splitters, langchain-community, langchain\n",
      "  Attempting uninstall: urllib3\n",
      "    Found existing installation: urllib3 1.26.18\n",
      "    Uninstalling urllib3-1.26.18:\n",
      "      Successfully uninstalled urllib3-1.26.18\n",
      "  Attempting uninstall: packaging\n",
      "    Found existing installation: packaging 24.0\n",
      "    Uninstalling packaging-24.0:\n",
      "      Successfully uninstalled packaging-24.0\n",
      "\u001b[31mERROR: pip's dependency resolver does not currently take into account all the packages that are installed. This behaviour is the source of the following dependency conflicts.\n",
      "kfp 2.5.0 requires urllib3<2.0.0, but you have urllib3 2.2.1 which is incompatible.\u001b[0m\u001b[31m\n",
      "\u001b[0mSuccessfully installed dataclasses-json-0.6.4 langchain-0.1.16 langchain-community-0.0.34 langchain-core-0.1.45 langchain-text-splitters-0.0.1 langchainhub-0.1.15 langsmith-0.1.49 marshmallow-3.21.1 mypy-extensions-1.0.0 orjson-3.10.1 packaging-23.2 types-requests-2.31.0.20240406 typing-inspect-0.9.0 urllib3-2.2.1\n"
     ]
    }
   ],
   "source": [
    "# !pip install langchain langchainhub"
   ]
  },
  {
   "cell_type": "code",
   "execution_count": 2,
   "metadata": {
    "executionInfo": {
     "elapsed": 66380,
     "status": "ok",
     "timestamp": 1713758551061,
     "user": {
      "displayName": "조선아",
      "userId": "02017584329632875227"
     },
     "user_tz": -540
    },
    "id": "v7KTSXMsIorY",
    "tags": []
   },
   "outputs": [
    {
     "name": "stdout",
     "output_type": "stream",
     "text": [
      "\u001b[31mERROR: pip's dependency resolver does not currently take into account all the packages that are installed. This behaviour is the source of the following dependency conflicts.\n",
      "gcsfs 2024.3.1 requires fsspec==2024.3.1, but you have fsspec 2023.10.0 which is incompatible.\u001b[0m\u001b[31m\n",
      "\u001b[0m"
     ]
    }
   ],
   "source": [
    "# !pip3 install -q -U bitsandbytes==0.42.0\n",
    "# !pip3 install -q -U peft==0.8.2\n",
    "# !pip3 install -q -U trl==0.7.10\n",
    "# !pip3 install -q -U accelerate==0.27.1\n",
    "# !pip3 install -q -U datasets==2.17.0\n",
    "# !pip3 install -q -U transformers==4.38.1"
   ]
  },
  {
   "cell_type": "code",
   "execution_count": 3,
   "metadata": {
    "colab": {
     "base_uri": "https://localhost:8080/"
    },
    "executionInfo": {
     "elapsed": 15099,
     "status": "ok",
     "timestamp": 1713758566147,
     "user": {
      "displayName": "조선아",
      "userId": "02017584329632875227"
     },
     "user_tz": -540
    },
    "id": "SLsjpNsTKoQH",
    "outputId": "47cc654f-7e36-424c-9dad-e0959f68bfd3",
    "tags": []
   },
   "outputs": [
    {
     "name": "stdout",
     "output_type": "stream",
     "text": [
      "Collecting selenium\n",
      "  Downloading selenium-4.19.0-py3-none-any.whl.metadata (6.9 kB)\n",
      "Collecting unstructured\n",
      "  Downloading unstructured-0.13.3-py3-none-any.whl.metadata (30 kB)\n",
      "Collecting sentence-transformers\n",
      "  Downloading sentence_transformers-2.7.0-py3-none-any.whl.metadata (11 kB)\n",
      "Collecting faiss-gpu\n",
      "  Downloading faiss_gpu-1.7.2-cp310-cp310-manylinux_2_17_x86_64.manylinux2014_x86_64.whl.metadata (1.4 kB)\n",
      "Collecting chromadb\n",
      "  Downloading chromadb-0.4.24-py3-none-any.whl.metadata (7.3 kB)\n",
      "Requirement already satisfied: urllib3<3,>=1.26 in /opt/conda/lib/python3.10/site-packages (from urllib3[socks]<3,>=1.26->selenium) (2.2.1)\n",
      "Collecting trio~=0.17 (from selenium)\n",
      "  Downloading trio-0.25.0-py3-none-any.whl.metadata (8.7 kB)\n",
      "Collecting trio-websocket~=0.9 (from selenium)\n",
      "  Downloading trio_websocket-0.11.1-py3-none-any.whl.metadata (4.7 kB)\n",
      "Requirement already satisfied: certifi>=2021.10.8 in /opt/conda/lib/python3.10/site-packages (from selenium) (2024.2.2)\n",
      "Requirement already satisfied: typing_extensions>=4.9.0 in /opt/conda/lib/python3.10/site-packages (from selenium) (4.10.0)\n",
      "Collecting chardet (from unstructured)\n",
      "  Downloading chardet-5.2.0-py3-none-any.whl.metadata (3.4 kB)\n",
      "Collecting filetype (from unstructured)\n",
      "  Downloading filetype-1.2.0-py2.py3-none-any.whl.metadata (6.5 kB)\n",
      "Collecting python-magic (from unstructured)\n",
      "  Downloading python_magic-0.4.27-py2.py3-none-any.whl.metadata (5.8 kB)\n",
      "Collecting lxml (from unstructured)\n",
      "  Downloading lxml-5.2.1-cp310-cp310-manylinux_2_28_x86_64.whl.metadata (3.4 kB)\n",
      "Collecting nltk (from unstructured)\n",
      "  Downloading nltk-3.8.1-py3-none-any.whl.metadata (2.8 kB)\n",
      "Requirement already satisfied: tabulate in /opt/conda/lib/python3.10/site-packages (from unstructured) (0.9.0)\n",
      "Requirement already satisfied: requests in /opt/conda/lib/python3.10/site-packages (from unstructured) (2.31.0)\n",
      "Requirement already satisfied: beautifulsoup4 in /opt/conda/lib/python3.10/site-packages (from unstructured) (4.12.3)\n",
      "Collecting emoji (from unstructured)\n",
      "  Downloading emoji-2.11.1-py2.py3-none-any.whl.metadata (5.3 kB)\n",
      "Requirement already satisfied: dataclasses-json in /opt/conda/lib/python3.10/site-packages (from unstructured) (0.6.4)\n",
      "Collecting python-iso639 (from unstructured)\n",
      "  Downloading python_iso639-2024.2.7-py3-none-any.whl.metadata (13 kB)\n",
      "Collecting langdetect (from unstructured)\n",
      "  Downloading langdetect-1.0.9.tar.gz (981 kB)\n",
      "\u001b[2K     \u001b[90m━━━━━━━━━━━━━━━━━━━━━━━━━━━━━━━━━━━━━━━\u001b[0m \u001b[32m981.5/981.5 kB\u001b[0m \u001b[31m8.2 MB/s\u001b[0m eta \u001b[36m0:00:00\u001b[0ma \u001b[36m0:00:01\u001b[0m\n",
      "\u001b[?25h  Preparing metadata (setup.py) ... \u001b[?25ldone\n",
      "\u001b[?25hRequirement already satisfied: numpy in /opt/conda/lib/python3.10/site-packages (from unstructured) (1.25.2)\n",
      "Collecting rapidfuzz (from unstructured)\n",
      "  Downloading rapidfuzz-3.8.1-cp310-cp310-manylinux_2_17_x86_64.manylinux2014_x86_64.whl.metadata (11 kB)\n",
      "Collecting backoff (from unstructured)\n",
      "  Downloading backoff-2.2.1-py3-none-any.whl.metadata (14 kB)\n",
      "Collecting unstructured-client (from unstructured)\n",
      "  Downloading unstructured_client-0.22.0-py3-none-any.whl.metadata (7.3 kB)\n",
      "Requirement already satisfied: wrapt in /opt/conda/lib/python3.10/site-packages (from unstructured) (1.16.0)\n",
      "Requirement already satisfied: transformers<5.0.0,>=4.34.0 in /opt/conda/lib/python3.10/site-packages (from sentence-transformers) (4.38.1)\n",
      "Requirement already satisfied: tqdm in /opt/conda/lib/python3.10/site-packages (from sentence-transformers) (4.66.2)\n",
      "Requirement already satisfied: torch>=1.11.0 in /opt/conda/lib/python3.10/site-packages (from sentence-transformers) (2.2.2)\n",
      "Requirement already satisfied: scikit-learn in /opt/conda/lib/python3.10/site-packages (from sentence-transformers) (1.4.1.post1)\n",
      "Requirement already satisfied: scipy in /opt/conda/lib/python3.10/site-packages (from sentence-transformers) (1.11.4)\n",
      "Requirement already satisfied: huggingface-hub>=0.15.1 in /opt/conda/lib/python3.10/site-packages (from sentence-transformers) (0.22.2)\n",
      "Requirement already satisfied: Pillow in /opt/conda/lib/python3.10/site-packages (from sentence-transformers) (10.2.0)\n",
      "Collecting build>=1.0.3 (from chromadb)\n",
      "  Downloading build-1.2.1-py3-none-any.whl.metadata (4.3 kB)\n",
      "Requirement already satisfied: pydantic>=1.9 in /opt/conda/lib/python3.10/site-packages (from chromadb) (1.10.14)\n",
      "Collecting chroma-hnswlib==0.7.3 (from chromadb)\n",
      "  Downloading chroma_hnswlib-0.7.3-cp310-cp310-manylinux_2_17_x86_64.manylinux2014_x86_64.whl.metadata (252 bytes)\n",
      "Requirement already satisfied: fastapi>=0.95.2 in /opt/conda/lib/python3.10/site-packages (from chromadb) (0.108.0)\n",
      "Requirement already satisfied: uvicorn>=0.18.3 in /opt/conda/lib/python3.10/site-packages (from uvicorn[standard]>=0.18.3->chromadb) (0.28.1)\n",
      "Collecting posthog>=2.4.0 (from chromadb)\n",
      "  Downloading posthog-3.5.0-py2.py3-none-any.whl.metadata (2.0 kB)\n",
      "Collecting pulsar-client>=3.1.0 (from chromadb)\n",
      "  Downloading pulsar_client-3.5.0-cp310-cp310-manylinux_2_17_x86_64.manylinux2014_x86_64.whl.metadata (1.0 kB)\n",
      "Collecting onnxruntime>=1.14.1 (from chromadb)\n",
      "  Downloading onnxruntime-1.17.3-cp310-cp310-manylinux_2_27_x86_64.manylinux_2_28_x86_64.whl.metadata (4.4 kB)\n",
      "Requirement already satisfied: opentelemetry-api>=1.2.0 in /opt/conda/lib/python3.10/site-packages (from chromadb) (1.23.0)\n",
      "Requirement already satisfied: opentelemetry-exporter-otlp-proto-grpc>=1.2.0 in /opt/conda/lib/python3.10/site-packages (from chromadb) (1.23.0)\n",
      "Collecting opentelemetry-instrumentation-fastapi>=0.41b0 (from chromadb)\n",
      "  Downloading opentelemetry_instrumentation_fastapi-0.45b0-py3-none-any.whl.metadata (2.0 kB)\n",
      "Requirement already satisfied: opentelemetry-sdk>=1.2.0 in /opt/conda/lib/python3.10/site-packages (from chromadb) (1.23.0)\n",
      "Requirement already satisfied: tokenizers>=0.13.2 in /opt/conda/lib/python3.10/site-packages (from chromadb) (0.15.2)\n",
      "Collecting pypika>=0.48.9 (from chromadb)\n",
      "  Downloading PyPika-0.48.9.tar.gz (67 kB)\n",
      "\u001b[2K     \u001b[90m━━━━━━━━━━━━━━━━━━━━━━━━━━━━━━━━━━━━━━━━\u001b[0m \u001b[32m67.3/67.3 kB\u001b[0m \u001b[31m13.1 MB/s\u001b[0m eta \u001b[36m0:00:00\u001b[0m\n",
      "\u001b[?25h  Installing build dependencies ... \u001b[?25ldone\n",
      "\u001b[?25h  Getting requirements to build wheel ... \u001b[?25ldone\n",
      "\u001b[?25h  Installing backend dependencies ... \u001b[?25ldone\n",
      "\u001b[?25h  Preparing metadata (pyproject.toml) ... \u001b[?25ldone\n",
      "\u001b[?25hRequirement already satisfied: overrides>=7.3.1 in /opt/conda/lib/python3.10/site-packages (from chromadb) (7.7.0)\n",
      "Requirement already satisfied: importlib-resources in /opt/conda/lib/python3.10/site-packages (from chromadb) (6.3.2)\n",
      "Requirement already satisfied: grpcio>=1.58.0 in /opt/conda/lib/python3.10/site-packages (from chromadb) (1.62.1)\n",
      "Collecting bcrypt>=4.0.1 (from chromadb)\n",
      "  Downloading bcrypt-4.1.2-cp39-abi3-manylinux_2_28_x86_64.whl.metadata (9.5 kB)\n",
      "Requirement already satisfied: typer>=0.9.0 in /opt/conda/lib/python3.10/site-packages (from chromadb) (0.9.0)\n",
      "Collecting kubernetes>=28.1.0 (from chromadb)\n",
      "  Downloading kubernetes-29.0.0-py2.py3-none-any.whl.metadata (1.5 kB)\n",
      "Requirement already satisfied: tenacity>=8.2.3 in /opt/conda/lib/python3.10/site-packages (from chromadb) (8.2.3)\n",
      "Requirement already satisfied: PyYAML>=6.0.0 in /opt/conda/lib/python3.10/site-packages (from chromadb) (6.0.1)\n",
      "Collecting mmh3>=4.0.1 (from chromadb)\n",
      "  Downloading mmh3-4.1.0-cp310-cp310-manylinux_2_5_x86_64.manylinux1_x86_64.manylinux_2_17_x86_64.manylinux2014_x86_64.whl.metadata (13 kB)\n",
      "Requirement already satisfied: orjson>=3.9.12 in /opt/conda/lib/python3.10/site-packages (from chromadb) (3.10.1)\n",
      "Requirement already satisfied: packaging>=19.1 in /opt/conda/lib/python3.10/site-packages (from build>=1.0.3->chromadb) (23.2)\n",
      "Collecting pyproject_hooks (from build>=1.0.3->chromadb)\n",
      "  Downloading pyproject_hooks-1.0.0-py3-none-any.whl.metadata (1.3 kB)\n",
      "Requirement already satisfied: tomli>=1.1.0 in /opt/conda/lib/python3.10/site-packages (from build>=1.0.3->chromadb) (2.0.1)\n",
      "Requirement already satisfied: starlette<0.33.0,>=0.29.0 in /opt/conda/lib/python3.10/site-packages (from fastapi>=0.95.2->chromadb) (0.32.0.post1)\n",
      "Requirement already satisfied: filelock in /opt/conda/lib/python3.10/site-packages (from huggingface-hub>=0.15.1->sentence-transformers) (3.13.1)\n",
      "Requirement already satisfied: fsspec>=2023.5.0 in /opt/conda/lib/python3.10/site-packages (from huggingface-hub>=0.15.1->sentence-transformers) (2023.10.0)\n",
      "Requirement already satisfied: six>=1.9.0 in /opt/conda/lib/python3.10/site-packages (from kubernetes>=28.1.0->chromadb) (1.16.0)\n",
      "Requirement already satisfied: python-dateutil>=2.5.3 in /opt/conda/lib/python3.10/site-packages (from kubernetes>=28.1.0->chromadb) (2.9.0)\n",
      "Requirement already satisfied: google-auth>=1.0.1 in /opt/conda/lib/python3.10/site-packages (from kubernetes>=28.1.0->chromadb) (2.28.2)\n",
      "Requirement already satisfied: websocket-client!=0.40.0,!=0.41.*,!=0.42.*,>=0.32.0 in /opt/conda/lib/python3.10/site-packages (from kubernetes>=28.1.0->chromadb) (1.7.0)\n",
      "Requirement already satisfied: requests-oauthlib in /opt/conda/lib/python3.10/site-packages (from kubernetes>=28.1.0->chromadb) (1.4.0)\n",
      "Requirement already satisfied: oauthlib>=3.2.2 in /opt/conda/lib/python3.10/site-packages (from kubernetes>=28.1.0->chromadb) (3.2.2)\n",
      "Collecting coloredlogs (from onnxruntime>=1.14.1->chromadb)\n",
      "  Downloading coloredlogs-15.0.1-py2.py3-none-any.whl.metadata (12 kB)\n",
      "Collecting flatbuffers (from onnxruntime>=1.14.1->chromadb)\n",
      "  Downloading flatbuffers-24.3.25-py2.py3-none-any.whl.metadata (850 bytes)\n",
      "Requirement already satisfied: protobuf in /opt/conda/lib/python3.10/site-packages (from onnxruntime>=1.14.1->chromadb) (3.20.3)\n",
      "Requirement already satisfied: sympy in /opt/conda/lib/python3.10/site-packages (from onnxruntime>=1.14.1->chromadb) (1.12)\n",
      "Requirement already satisfied: deprecated>=1.2.6 in /opt/conda/lib/python3.10/site-packages (from opentelemetry-api>=1.2.0->chromadb) (1.2.14)\n",
      "Requirement already satisfied: importlib-metadata<7.0,>=6.0 in /opt/conda/lib/python3.10/site-packages (from opentelemetry-api>=1.2.0->chromadb) (6.11.0)\n",
      "Requirement already satisfied: googleapis-common-protos~=1.52 in /opt/conda/lib/python3.10/site-packages (from opentelemetry-exporter-otlp-proto-grpc>=1.2.0->chromadb) (1.63.0)\n",
      "Requirement already satisfied: opentelemetry-exporter-otlp-proto-common==1.23.0 in /opt/conda/lib/python3.10/site-packages (from opentelemetry-exporter-otlp-proto-grpc>=1.2.0->chromadb) (1.23.0)\n",
      "Requirement already satisfied: opentelemetry-proto==1.23.0 in /opt/conda/lib/python3.10/site-packages (from opentelemetry-exporter-otlp-proto-grpc>=1.2.0->chromadb) (1.23.0)\n",
      "Collecting opentelemetry-instrumentation-asgi==0.45b0 (from opentelemetry-instrumentation-fastapi>=0.41b0->chromadb)\n",
      "  Downloading opentelemetry_instrumentation_asgi-0.45b0-py3-none-any.whl.metadata (1.9 kB)\n",
      "Collecting opentelemetry-instrumentation==0.45b0 (from opentelemetry-instrumentation-fastapi>=0.41b0->chromadb)\n",
      "  Downloading opentelemetry_instrumentation-0.45b0-py3-none-any.whl.metadata (6.1 kB)\n",
      "Collecting opentelemetry-semantic-conventions==0.45b0 (from opentelemetry-instrumentation-fastapi>=0.41b0->chromadb)\n",
      "  Downloading opentelemetry_semantic_conventions-0.45b0-py3-none-any.whl.metadata (2.2 kB)\n",
      "Collecting opentelemetry-util-http==0.45b0 (from opentelemetry-instrumentation-fastapi>=0.41b0->chromadb)\n",
      "  Downloading opentelemetry_util_http-0.45b0-py3-none-any.whl.metadata (2.4 kB)\n",
      "Requirement already satisfied: setuptools>=16.0 in /opt/conda/lib/python3.10/site-packages (from opentelemetry-instrumentation==0.45b0->opentelemetry-instrumentation-fastapi>=0.41b0->chromadb) (69.2.0)\n",
      "Collecting asgiref~=3.0 (from opentelemetry-instrumentation-asgi==0.45b0->opentelemetry-instrumentation-fastapi>=0.41b0->chromadb)\n",
      "  Downloading asgiref-3.8.1-py3-none-any.whl.metadata (9.3 kB)\n",
      "INFO: pip is looking at multiple versions of opentelemetry-sdk to determine which version is compatible with other requirements. This could take a while.\n",
      "Collecting opentelemetry-instrumentation-fastapi>=0.41b0 (from chromadb)\n",
      "  Downloading opentelemetry_instrumentation_fastapi-0.44b0-py3-none-any.whl.metadata (2.3 kB)\n",
      "Collecting opentelemetry-instrumentation-asgi==0.44b0 (from opentelemetry-instrumentation-fastapi>=0.41b0->chromadb)\n",
      "  Downloading opentelemetry_instrumentation_asgi-0.44b0-py3-none-any.whl.metadata (2.1 kB)\n",
      "Collecting opentelemetry-instrumentation==0.44b0 (from opentelemetry-instrumentation-fastapi>=0.41b0->chromadb)\n",
      "  Downloading opentelemetry_instrumentation-0.44b0-py3-none-any.whl.metadata (6.1 kB)\n",
      "Requirement already satisfied: opentelemetry-semantic-conventions==0.44b0 in /opt/conda/lib/python3.10/site-packages (from opentelemetry-instrumentation-fastapi>=0.41b0->chromadb) (0.44b0)\n",
      "Collecting opentelemetry-util-http==0.44b0 (from opentelemetry-instrumentation-fastapi>=0.41b0->chromadb)\n",
      "  Downloading opentelemetry_util_http-0.44b0-py3-none-any.whl.metadata (2.4 kB)\n",
      "Collecting monotonic>=1.5 (from posthog>=2.4.0->chromadb)\n",
      "  Downloading monotonic-1.6-py2.py3-none-any.whl.metadata (1.5 kB)\n",
      "Requirement already satisfied: charset-normalizer<4,>=2 in /opt/conda/lib/python3.10/site-packages (from requests->unstructured) (3.3.2)\n",
      "Requirement already satisfied: idna<4,>=2.5 in /opt/conda/lib/python3.10/site-packages (from requests->unstructured) (3.6)\n",
      "Requirement already satisfied: networkx in /opt/conda/lib/python3.10/site-packages (from torch>=1.11.0->sentence-transformers) (3.2.1)\n",
      "Requirement already satisfied: jinja2 in /opt/conda/lib/python3.10/site-packages (from torch>=1.11.0->sentence-transformers) (3.1.3)\n",
      "Requirement already satisfied: nvidia-cuda-nvrtc-cu12==12.1.105 in /opt/conda/lib/python3.10/site-packages (from torch>=1.11.0->sentence-transformers) (12.1.105)\n",
      "Requirement already satisfied: nvidia-cuda-runtime-cu12==12.1.105 in /opt/conda/lib/python3.10/site-packages (from torch>=1.11.0->sentence-transformers) (12.1.105)\n",
      "Requirement already satisfied: nvidia-cuda-cupti-cu12==12.1.105 in /opt/conda/lib/python3.10/site-packages (from torch>=1.11.0->sentence-transformers) (12.1.105)\n",
      "Requirement already satisfied: nvidia-cudnn-cu12==8.9.2.26 in /opt/conda/lib/python3.10/site-packages (from torch>=1.11.0->sentence-transformers) (8.9.2.26)\n",
      "Requirement already satisfied: nvidia-cublas-cu12==12.1.3.1 in /opt/conda/lib/python3.10/site-packages (from torch>=1.11.0->sentence-transformers) (12.1.3.1)\n",
      "Requirement already satisfied: nvidia-cufft-cu12==11.0.2.54 in /opt/conda/lib/python3.10/site-packages (from torch>=1.11.0->sentence-transformers) (11.0.2.54)\n",
      "Requirement already satisfied: nvidia-curand-cu12==10.3.2.106 in /opt/conda/lib/python3.10/site-packages (from torch>=1.11.0->sentence-transformers) (10.3.2.106)\n",
      "Requirement already satisfied: nvidia-cusolver-cu12==11.4.5.107 in /opt/conda/lib/python3.10/site-packages (from torch>=1.11.0->sentence-transformers) (11.4.5.107)\n",
      "Requirement already satisfied: nvidia-cusparse-cu12==12.1.0.106 in /opt/conda/lib/python3.10/site-packages (from torch>=1.11.0->sentence-transformers) (12.1.0.106)\n",
      "Requirement already satisfied: nvidia-nccl-cu12==2.19.3 in /opt/conda/lib/python3.10/site-packages (from torch>=1.11.0->sentence-transformers) (2.19.3)\n",
      "Requirement already satisfied: nvidia-nvtx-cu12==12.1.105 in /opt/conda/lib/python3.10/site-packages (from torch>=1.11.0->sentence-transformers) (12.1.105)\n",
      "Requirement already satisfied: triton==2.2.0 in /opt/conda/lib/python3.10/site-packages (from torch>=1.11.0->sentence-transformers) (2.2.0)\n",
      "Requirement already satisfied: nvidia-nvjitlink-cu12 in /opt/conda/lib/python3.10/site-packages (from nvidia-cusolver-cu12==11.4.5.107->torch>=1.11.0->sentence-transformers) (12.4.127)\n",
      "Requirement already satisfied: regex!=2019.12.17 in /opt/conda/lib/python3.10/site-packages (from transformers<5.0.0,>=4.34.0->sentence-transformers) (2024.4.16)\n",
      "Requirement already satisfied: safetensors>=0.4.1 in /opt/conda/lib/python3.10/site-packages (from transformers<5.0.0,>=4.34.0->sentence-transformers) (0.4.3)\n",
      "Requirement already satisfied: attrs>=23.2.0 in /opt/conda/lib/python3.10/site-packages (from trio~=0.17->selenium) (23.2.0)\n",
      "Collecting sortedcontainers (from trio~=0.17->selenium)\n",
      "  Downloading sortedcontainers-2.4.0-py2.py3-none-any.whl.metadata (10 kB)\n",
      "Collecting outcome (from trio~=0.17->selenium)\n",
      "  Downloading outcome-1.3.0.post0-py2.py3-none-any.whl.metadata (2.6 kB)\n",
      "Requirement already satisfied: sniffio>=1.3.0 in /opt/conda/lib/python3.10/site-packages (from trio~=0.17->selenium) (1.3.1)\n",
      "Requirement already satisfied: exceptiongroup in /opt/conda/lib/python3.10/site-packages (from trio~=0.17->selenium) (1.2.0)\n",
      "Collecting wsproto>=0.14 (from trio-websocket~=0.9->selenium)\n",
      "  Downloading wsproto-1.2.0-py3-none-any.whl.metadata (5.6 kB)\n",
      "Requirement already satisfied: click<9.0.0,>=7.1.1 in /opt/conda/lib/python3.10/site-packages (from typer>=0.9.0->chromadb) (8.1.7)\n",
      "Requirement already satisfied: pysocks!=1.5.7,<2.0,>=1.5.6 in /opt/conda/lib/python3.10/site-packages (from urllib3[socks]<3,>=1.26->selenium) (1.7.1)\n",
      "Requirement already satisfied: h11>=0.8 in /opt/conda/lib/python3.10/site-packages (from uvicorn>=0.18.3->uvicorn[standard]>=0.18.3->chromadb) (0.14.0)\n",
      "Requirement already satisfied: httptools>=0.5.0 in /opt/conda/lib/python3.10/site-packages (from uvicorn[standard]>=0.18.3->chromadb) (0.6.1)\n",
      "Requirement already satisfied: python-dotenv>=0.13 in /opt/conda/lib/python3.10/site-packages (from uvicorn[standard]>=0.18.3->chromadb) (1.0.1)\n",
      "Requirement already satisfied: uvloop!=0.15.0,!=0.15.1,>=0.14.0 in /opt/conda/lib/python3.10/site-packages (from uvicorn[standard]>=0.18.3->chromadb) (0.19.0)\n",
      "Requirement already satisfied: watchfiles>=0.13 in /opt/conda/lib/python3.10/site-packages (from uvicorn[standard]>=0.18.3->chromadb) (0.21.0)\n",
      "Requirement already satisfied: websockets>=10.4 in /opt/conda/lib/python3.10/site-packages (from uvicorn[standard]>=0.18.3->chromadb) (12.0)\n",
      "Requirement already satisfied: soupsieve>1.2 in /opt/conda/lib/python3.10/site-packages (from beautifulsoup4->unstructured) (2.5)\n",
      "Requirement already satisfied: marshmallow<4.0.0,>=3.18.0 in /opt/conda/lib/python3.10/site-packages (from dataclasses-json->unstructured) (3.21.1)\n",
      "Requirement already satisfied: typing-inspect<1,>=0.4.0 in /opt/conda/lib/python3.10/site-packages (from dataclasses-json->unstructured) (0.9.0)\n",
      "Requirement already satisfied: joblib in /opt/conda/lib/python3.10/site-packages (from nltk->unstructured) (1.3.2)\n",
      "Requirement already satisfied: threadpoolctl>=2.0.0 in /opt/conda/lib/python3.10/site-packages (from scikit-learn->sentence-transformers) (3.3.0)\n",
      "Collecting deepdiff>=6.0 (from unstructured-client->unstructured)\n",
      "  Downloading deepdiff-7.0.1-py3-none-any.whl.metadata (6.8 kB)\n",
      "Collecting jsonpath-python>=1.0.6 (from unstructured-client->unstructured)\n",
      "  Downloading jsonpath_python-1.0.6-py3-none-any.whl.metadata (12 kB)\n",
      "Requirement already satisfied: mypy-extensions>=1.0.0 in /opt/conda/lib/python3.10/site-packages (from unstructured-client->unstructured) (1.0.0)\n",
      "Collecting pypdf>=4.0 (from unstructured-client->unstructured)\n",
      "  Downloading pypdf-4.2.0-py3-none-any.whl.metadata (7.4 kB)\n",
      "Collecting ordered-set<4.2.0,>=4.1.0 (from deepdiff>=6.0->unstructured-client->unstructured)\n",
      "  Downloading ordered_set-4.1.0-py3-none-any.whl.metadata (5.3 kB)\n",
      "Requirement already satisfied: cachetools<6.0,>=2.0.0 in /opt/conda/lib/python3.10/site-packages (from google-auth>=1.0.1->kubernetes>=28.1.0->chromadb) (5.3.3)\n",
      "Requirement already satisfied: pyasn1-modules>=0.2.1 in /opt/conda/lib/python3.10/site-packages (from google-auth>=1.0.1->kubernetes>=28.1.0->chromadb) (0.3.0)\n",
      "Requirement already satisfied: rsa<5,>=3.1.4 in /opt/conda/lib/python3.10/site-packages (from google-auth>=1.0.1->kubernetes>=28.1.0->chromadb) (4.9)\n",
      "Requirement already satisfied: zipp>=0.5 in /opt/conda/lib/python3.10/site-packages (from importlib-metadata<7.0,>=6.0->opentelemetry-api>=1.2.0->chromadb) (3.17.0)\n",
      "Requirement already satisfied: anyio<5,>=3.4.0 in /opt/conda/lib/python3.10/site-packages (from starlette<0.33.0,>=0.29.0->fastapi>=0.95.2->chromadb) (4.3.0)\n",
      "Collecting humanfriendly>=9.1 (from coloredlogs->onnxruntime>=1.14.1->chromadb)\n",
      "  Downloading humanfriendly-10.0-py2.py3-none-any.whl.metadata (9.2 kB)\n",
      "Requirement already satisfied: MarkupSafe>=2.0 in /opt/conda/lib/python3.10/site-packages (from jinja2->torch>=1.11.0->sentence-transformers) (2.1.5)\n",
      "Requirement already satisfied: mpmath>=0.19 in /opt/conda/lib/python3.10/site-packages (from sympy->onnxruntime>=1.14.1->chromadb) (1.3.0)\n",
      "Requirement already satisfied: pyasn1<0.6.0,>=0.4.6 in /opt/conda/lib/python3.10/site-packages (from pyasn1-modules>=0.2.1->google-auth>=1.0.1->kubernetes>=28.1.0->chromadb) (0.5.1)\n",
      "Downloading selenium-4.19.0-py3-none-any.whl (10.5 MB)\n",
      "\u001b[2K   \u001b[90m━━━━━━━━━━━━━━━━━━━━━━━━━━━━━━━━━━━━━━━━\u001b[0m \u001b[32m10.5/10.5 MB\u001b[0m \u001b[31m59.1 MB/s\u001b[0m eta \u001b[36m0:00:00\u001b[0m00:01\u001b[0m0:01\u001b[0m\n",
      "\u001b[?25hDownloading unstructured-0.13.3-py3-none-any.whl (1.9 MB)\n",
      "\u001b[2K   \u001b[90m━━━━━━━━━━━━━━━━━━━━━━━━━━━━━━━━━━━━━━━━\u001b[0m \u001b[32m1.9/1.9 MB\u001b[0m \u001b[31m118.0 MB/s\u001b[0m eta \u001b[36m0:00:00\u001b[0m\n",
      "\u001b[?25hDownloading sentence_transformers-2.7.0-py3-none-any.whl (171 kB)\n",
      "\u001b[2K   \u001b[90m━━━━━━━━━━━━━━━━━━━━━━━━━━━━━━━━━━━━━━━━\u001b[0m \u001b[32m171.5/171.5 kB\u001b[0m \u001b[31m33.1 MB/s\u001b[0m eta \u001b[36m0:00:00\u001b[0m\n",
      "\u001b[?25hDownloading faiss_gpu-1.7.2-cp310-cp310-manylinux_2_17_x86_64.manylinux2014_x86_64.whl (85.5 MB)\n",
      "\u001b[2K   \u001b[90m━━━━━━━━━━━━━━━━━━━━━━━━━━━━━━━━━━━━━━━━\u001b[0m \u001b[32m85.5/85.5 MB\u001b[0m \u001b[31m16.7 MB/s\u001b[0m eta \u001b[36m0:00:00\u001b[0m00:01\u001b[0mm0:01\u001b[0m\n",
      "\u001b[?25hDownloading chromadb-0.4.24-py3-none-any.whl (525 kB)\n",
      "\u001b[2K   \u001b[90m━━━━━━━━━━━━━━━━━━━━━━━━━━━━━━━━━━━━━━━━\u001b[0m \u001b[32m525.5/525.5 kB\u001b[0m \u001b[31m58.7 MB/s\u001b[0m eta \u001b[36m0:00:00\u001b[0m\n",
      "\u001b[?25hDownloading chroma_hnswlib-0.7.3-cp310-cp310-manylinux_2_17_x86_64.manylinux2014_x86_64.whl (2.4 MB)\n",
      "\u001b[2K   \u001b[90m━━━━━━━━━━━━━━━━━━━━━━━━━━━━━━━━━━━━━━━━\u001b[0m \u001b[32m2.4/2.4 MB\u001b[0m \u001b[31m116.0 MB/s\u001b[0m eta \u001b[36m0:00:00\u001b[0m\n",
      "\u001b[?25hDownloading bcrypt-4.1.2-cp39-abi3-manylinux_2_28_x86_64.whl (698 kB)\n",
      "\u001b[2K   \u001b[90m━━━━━━━━━━━━━━━━━━━━━━━━━━━━━━━━━━━━━━━━\u001b[0m \u001b[32m698.9/698.9 kB\u001b[0m \u001b[31m72.0 MB/s\u001b[0m eta \u001b[36m0:00:00\u001b[0m\n",
      "\u001b[?25hDownloading build-1.2.1-py3-none-any.whl (21 kB)\n",
      "Downloading kubernetes-29.0.0-py2.py3-none-any.whl (1.6 MB)\n",
      "\u001b[2K   \u001b[90m━━━━━━━━━━━━━━━━━━━━━━━━━━━━━━━━━━━━━━━━\u001b[0m \u001b[32m1.6/1.6 MB\u001b[0m \u001b[31m101.1 MB/s\u001b[0m eta \u001b[36m0:00:00\u001b[0m\n",
      "\u001b[?25hDownloading mmh3-4.1.0-cp310-cp310-manylinux_2_5_x86_64.manylinux1_x86_64.manylinux_2_17_x86_64.manylinux2014_x86_64.whl (67 kB)\n",
      "\u001b[2K   \u001b[90m━━━━━━━━━━━━━━━━━━━━━━━━━━━━━━━━━━━━━━━━\u001b[0m \u001b[32m67.6/67.6 kB\u001b[0m \u001b[31m13.1 MB/s\u001b[0m eta \u001b[36m0:00:00\u001b[0m\n",
      "\u001b[?25hDownloading onnxruntime-1.17.3-cp310-cp310-manylinux_2_27_x86_64.manylinux_2_28_x86_64.whl (6.8 MB)\n",
      "\u001b[2K   \u001b[90m━━━━━━━━━━━━━━━━━━━━━━━━━━━━━━━━━━━━━━━━\u001b[0m \u001b[32m6.8/6.8 MB\u001b[0m \u001b[31m77.1 MB/s\u001b[0m eta \u001b[36m0:00:00\u001b[0m:00:01\u001b[0m00:01\u001b[0m\n",
      "\u001b[?25hDownloading opentelemetry_instrumentation_fastapi-0.44b0-py3-none-any.whl (11 kB)\n",
      "Downloading opentelemetry_instrumentation_asgi-0.44b0-py3-none-any.whl (14 kB)\n",
      "Downloading opentelemetry_instrumentation-0.44b0-py3-none-any.whl (28 kB)\n",
      "Downloading opentelemetry_util_http-0.44b0-py3-none-any.whl (6.9 kB)\n",
      "Downloading posthog-3.5.0-py2.py3-none-any.whl (41 kB)\n",
      "\u001b[2K   \u001b[90m━━━━━━━━━━━━━━━━━━━━━━━━━━━━━━━━━━━━━━━━\u001b[0m \u001b[32m41.3/41.3 kB\u001b[0m \u001b[31m7.9 MB/s\u001b[0m eta \u001b[36m0:00:00\u001b[0m\n",
      "\u001b[?25hDownloading backoff-2.2.1-py3-none-any.whl (15 kB)\n",
      "Downloading pulsar_client-3.5.0-cp310-cp310-manylinux_2_17_x86_64.manylinux2014_x86_64.whl (5.4 MB)\n",
      "\u001b[2K   \u001b[90m━━━━━━━━━━━━━━━━━━━━━━━━━━━━━━━━━━━━━━━━\u001b[0m \u001b[32m5.4/5.4 MB\u001b[0m \u001b[31m82.0 MB/s\u001b[0m eta \u001b[36m0:00:00\u001b[0mta \u001b[36m0:00:01\u001b[0m\n",
      "\u001b[?25hDownloading trio-0.25.0-py3-none-any.whl (467 kB)\n",
      "\u001b[2K   \u001b[90m━━━━━━━━━━━━━━━━━━━━━━━━━━━━━━━━━━━━━━━━\u001b[0m \u001b[32m467.2/467.2 kB\u001b[0m \u001b[31m58.1 MB/s\u001b[0m eta \u001b[36m0:00:00\u001b[0m\n",
      "\u001b[?25hDownloading trio_websocket-0.11.1-py3-none-any.whl (17 kB)\n",
      "Downloading chardet-5.2.0-py3-none-any.whl (199 kB)\n",
      "\u001b[2K   \u001b[90m━━━━━━━━━━━━━━━━━━━━━━━━━━━━━━━━━━━━━━━━\u001b[0m \u001b[32m199.4/199.4 kB\u001b[0m \u001b[31m35.1 MB/s\u001b[0m eta \u001b[36m0:00:00\u001b[0m\n",
      "\u001b[?25hDownloading emoji-2.11.1-py2.py3-none-any.whl (433 kB)\n",
      "\u001b[2K   \u001b[90m━━━━━━━━━━━━━━━━━━━━━━━━━━━━━━━━━━━━━━━━\u001b[0m \u001b[32m433.8/433.8 kB\u001b[0m \u001b[31m56.2 MB/s\u001b[0m eta \u001b[36m0:00:00\u001b[0m\n",
      "\u001b[?25hDownloading filetype-1.2.0-py2.py3-none-any.whl (19 kB)\n",
      "Downloading lxml-5.2.1-cp310-cp310-manylinux_2_28_x86_64.whl (5.0 MB)\n",
      "\u001b[2K   \u001b[90m━━━━━━━━━━━━━━━━━━━━━━━━━━━━━━━━━━━━━━━━\u001b[0m \u001b[32m5.0/5.0 MB\u001b[0m \u001b[31m62.6 MB/s\u001b[0m eta \u001b[36m0:00:00\u001b[0m00:01\u001b[0m:00:01\u001b[0m\n",
      "\u001b[?25hDownloading nltk-3.8.1-py3-none-any.whl (1.5 MB)\n",
      "\u001b[2K   \u001b[90m━━━━━━━━━━━━━━━━━━━━━━━━━━━━━━━━━━━━━━━━\u001b[0m \u001b[32m1.5/1.5 MB\u001b[0m \u001b[31m105.6 MB/s\u001b[0m eta \u001b[36m0:00:00\u001b[0m\n",
      "\u001b[?25hDownloading python_iso639-2024.2.7-py3-none-any.whl (274 kB)\n",
      "\u001b[2K   \u001b[90m━━━━━━━━━━━━━━━━━━━━━━━━━━━━━━━━━━━━━━━━\u001b[0m \u001b[32m274.7/274.7 kB\u001b[0m \u001b[31m44.0 MB/s\u001b[0m eta \u001b[36m0:00:00\u001b[0m\n",
      "\u001b[?25hDownloading python_magic-0.4.27-py2.py3-none-any.whl (13 kB)\n",
      "Downloading rapidfuzz-3.8.1-cp310-cp310-manylinux_2_17_x86_64.manylinux2014_x86_64.whl (3.4 MB)\n",
      "\u001b[2K   \u001b[90m━━━━━━━━━━━━━━━━━━━━━━━━━━━━━━━━━━━━━━━━\u001b[0m \u001b[32m3.4/3.4 MB\u001b[0m \u001b[31m65.3 MB/s\u001b[0m eta \u001b[36m0:00:00\u001b[0m:00:01\u001b[0m\n",
      "\u001b[?25hDownloading unstructured_client-0.22.0-py3-none-any.whl (28 kB)\n",
      "Downloading deepdiff-7.0.1-py3-none-any.whl (80 kB)\n",
      "\u001b[2K   \u001b[90m━━━━━━━━━━━━━━━━━━━━━━━━━━━━━━━━━━━━━━━━\u001b[0m \u001b[32m80.8/80.8 kB\u001b[0m \u001b[31m16.3 MB/s\u001b[0m eta \u001b[36m0:00:00\u001b[0m\n",
      "\u001b[?25hDownloading jsonpath_python-1.0.6-py3-none-any.whl (7.6 kB)\n",
      "Downloading monotonic-1.6-py2.py3-none-any.whl (8.2 kB)\n",
      "Downloading pypdf-4.2.0-py3-none-any.whl (290 kB)\n",
      "\u001b[2K   \u001b[90m━━━━━━━━━━━━━━━━━━━━━━━━━━━━━━━━━━━━━━━━\u001b[0m \u001b[32m290.4/290.4 kB\u001b[0m \u001b[31m36.1 MB/s\u001b[0m eta \u001b[36m0:00:00\u001b[0m\n",
      "\u001b[?25hDownloading wsproto-1.2.0-py3-none-any.whl (24 kB)\n",
      "Downloading coloredlogs-15.0.1-py2.py3-none-any.whl (46 kB)\n",
      "\u001b[2K   \u001b[90m━━━━━━━━━━━━━━━━━━━━━━━━━━━━━━━━━━━━━━━━\u001b[0m \u001b[32m46.0/46.0 kB\u001b[0m \u001b[31m8.5 MB/s\u001b[0m eta \u001b[36m0:00:00\u001b[0m\n",
      "\u001b[?25hDownloading flatbuffers-24.3.25-py2.py3-none-any.whl (26 kB)\n",
      "Downloading outcome-1.3.0.post0-py2.py3-none-any.whl (10 kB)\n",
      "Downloading pyproject_hooks-1.0.0-py3-none-any.whl (9.3 kB)\n",
      "Downloading sortedcontainers-2.4.0-py2.py3-none-any.whl (29 kB)\n",
      "Downloading asgiref-3.8.1-py3-none-any.whl (23 kB)\n",
      "Downloading humanfriendly-10.0-py2.py3-none-any.whl (86 kB)\n",
      "\u001b[2K   \u001b[90m━━━━━━━━━━━━━━━━━━━━━━━━━━━━━━━━━━━━━━━━\u001b[0m \u001b[32m86.8/86.8 kB\u001b[0m \u001b[31m18.6 MB/s\u001b[0m eta \u001b[36m0:00:00\u001b[0m\n",
      "\u001b[?25hDownloading ordered_set-4.1.0-py3-none-any.whl (7.6 kB)\n",
      "Building wheels for collected packages: pypika, langdetect\n",
      "  Building wheel for pypika (pyproject.toml) ... \u001b[?25ldone\n",
      "\u001b[?25h  Created wheel for pypika: filename=PyPika-0.48.9-py2.py3-none-any.whl size=53724 sha256=5c7a4bafeb6c24279f5e56b62d40b9009bcd7c25c0e52964a96ab312523e870f\n",
      "  Stored in directory: /home/josuna0114/.cache/pip/wheels/e1/26/51/d0bffb3d2fd82256676d7ad3003faea3bd6dddc9577af665f4\n",
      "  Building wheel for langdetect (setup.py) ... \u001b[?25ldone\n",
      "\u001b[?25h  Created wheel for langdetect: filename=langdetect-1.0.9-py3-none-any.whl size=993225 sha256=75c63e5f4450696849de88f8476942465c51401d312abb8d0278d976bb235cc0\n",
      "  Stored in directory: /home/josuna0114/.cache/pip/wheels/95/03/7d/59ea870c70ce4e5a370638b5462a7711ab78fba2f655d05106\n",
      "Successfully built pypika langdetect\n",
      "Installing collected packages: sortedcontainers, pypika, monotonic, mmh3, flatbuffers, filetype, faiss-gpu, wsproto, rapidfuzz, python-magic, python-iso639, pyproject_hooks, pypdf, pulsar-client, outcome, ordered-set, opentelemetry-util-http, nltk, lxml, langdetect, jsonpath-python, humanfriendly, emoji, chroma-hnswlib, chardet, bcrypt, backoff, asgiref, trio, posthog, deepdiff, coloredlogs, build, unstructured-client, trio-websocket, opentelemetry-instrumentation, onnxruntime, kubernetes, unstructured, selenium, opentelemetry-instrumentation-asgi, sentence-transformers, opentelemetry-instrumentation-fastapi, chromadb\n",
      "  Attempting uninstall: kubernetes\n",
      "    Found existing installation: kubernetes 26.1.0\n",
      "    Uninstalling kubernetes-26.1.0:\n",
      "      Successfully uninstalled kubernetes-26.1.0\n",
      "\u001b[31mERROR: pip's dependency resolver does not currently take into account all the packages that are installed. This behaviour is the source of the following dependency conflicts.\n",
      "kfp 2.5.0 requires kubernetes<27,>=8.0.0, but you have kubernetes 29.0.0 which is incompatible.\n",
      "kfp 2.5.0 requires urllib3<2.0.0, but you have urllib3 2.2.1 which is incompatible.\u001b[0m\u001b[31m\n",
      "\u001b[0mSuccessfully installed asgiref-3.8.1 backoff-2.2.1 bcrypt-4.1.2 build-1.2.1 chardet-5.2.0 chroma-hnswlib-0.7.3 chromadb-0.4.24 coloredlogs-15.0.1 deepdiff-7.0.1 emoji-2.11.1 faiss-gpu-1.7.2 filetype-1.2.0 flatbuffers-24.3.25 humanfriendly-10.0 jsonpath-python-1.0.6 kubernetes-29.0.0 langdetect-1.0.9 lxml-5.2.1 mmh3-4.1.0 monotonic-1.6 nltk-3.8.1 onnxruntime-1.17.3 opentelemetry-instrumentation-0.44b0 opentelemetry-instrumentation-asgi-0.44b0 opentelemetry-instrumentation-fastapi-0.44b0 opentelemetry-util-http-0.44b0 ordered-set-4.1.0 outcome-1.3.0.post0 posthog-3.5.0 pulsar-client-3.5.0 pypdf-4.2.0 pypika-0.48.9 pyproject_hooks-1.0.0 python-iso639-2024.2.7 python-magic-0.4.27 rapidfuzz-3.8.1 selenium-4.19.0 sentence-transformers-2.7.0 sortedcontainers-2.4.0 trio-0.25.0 trio-websocket-0.11.1 unstructured-0.13.3 unstructured-client-0.22.0 wsproto-1.2.0\n"
     ]
    }
   ],
   "source": [
    "# !pip install selenium unstructured sentence-transformers faiss-gpu chromadb"
   ]
  },
  {
   "cell_type": "code",
   "execution_count": 4,
   "metadata": {
    "colab": {
     "base_uri": "https://localhost:8080/"
    },
    "executionInfo": {
     "elapsed": 12969,
     "status": "ok",
     "timestamp": 1713758579102,
     "user": {
      "displayName": "조선아",
      "userId": "02017584329632875227"
     },
     "user_tz": -540
    },
    "id": "vKXxtScz29yd",
    "outputId": "6ed466c9-a935-4c93-b25d-d3e02e3964c2",
    "tags": []
   },
   "outputs": [
    {
     "name": "stdout",
     "output_type": "stream",
     "text": [
      "Collecting html2text\n",
      "  Downloading html2text-2024.2.26.tar.gz (56 kB)\n",
      "\u001b[2K     \u001b[90m━━━━━━━━━━━━━━━━━━━━━━━━━━━━━━━━━━━━━━━━\u001b[0m \u001b[32m56.5/56.5 kB\u001b[0m \u001b[31m1.2 MB/s\u001b[0m eta \u001b[36m0:00:00\u001b[0ma \u001b[36m0:00:01\u001b[0m\n",
      "\u001b[?25h  Preparing metadata (setup.py) ... \u001b[?25ldone\n",
      "\u001b[?25hBuilding wheels for collected packages: html2text\n",
      "  Building wheel for html2text (setup.py) ... \u001b[?25ldone\n",
      "\u001b[?25h  Created wheel for html2text: filename=html2text-2024.2.26-py3-none-any.whl size=33110 sha256=221cf57e24a99875955882bfb12eb37a690413600ec03b711996be5c261bd556\n",
      "  Stored in directory: /home/josuna0114/.cache/pip/wheels/f3/96/6d/a7eba8f80d31cbd188a2787b81514d82fc5ae6943c44777659\n",
      "Successfully built html2text\n",
      "Installing collected packages: html2text\n",
      "Successfully installed html2text-2024.2.26\n"
     ]
    }
   ],
   "source": [
    "# !pip install html2text"
   ]
  },
  {
   "cell_type": "code",
   "execution_count": 5,
   "metadata": {
    "executionInfo": {
     "elapsed": 10,
     "status": "ok",
     "timestamp": 1713752293801,
     "user": {
      "displayName": "조선아",
      "userId": "02017584329632875227"
     },
     "user_tz": -540
    },
    "id": "sWwSxDNLIorZ"
   },
   "outputs": [],
   "source": [
    "# !pip install unstructured sentence-transformers faiss-cpu accelerate sentencepiece bitsandbytes peft trl"
   ]
  },
  {
   "cell_type": "code",
   "execution_count": 1,
   "metadata": {
    "executionInfo": {
     "elapsed": 1150,
     "status": "ok",
     "timestamp": 1713758580247,
     "user": {
      "displayName": "조선아",
      "userId": "02017584329632875227"
     },
     "user_tz": -540
    },
    "id": "yzFFwfBDIorW",
    "tags": []
   },
   "outputs": [],
   "source": [
    "import langchain\n",
    "import pandas as pd"
   ]
  },
  {
   "cell_type": "code",
   "execution_count": 2,
   "metadata": {
    "colab": {
     "base_uri": "https://localhost:8080/",
     "height": 206
    },
    "executionInfo": {
     "elapsed": 495,
     "status": "ok",
     "timestamp": 1713758580740,
     "user": {
      "displayName": "조선아",
      "userId": "02017584329632875227"
     },
     "user_tz": -540
    },
    "id": "ZqFQPaKrIora",
    "outputId": "983026eb-56d6-4472-81b7-9ce30fccb237",
    "tags": []
   },
   "outputs": [
    {
     "data": {
      "text/html": [
       "<div>\n",
       "<style scoped>\n",
       "    .dataframe tbody tr th:only-of-type {\n",
       "        vertical-align: middle;\n",
       "    }\n",
       "\n",
       "    .dataframe tbody tr th {\n",
       "        vertical-align: top;\n",
       "    }\n",
       "\n",
       "    .dataframe thead th {\n",
       "        text-align: right;\n",
       "    }\n",
       "</style>\n",
       "<table border=\"1\" class=\"dataframe\">\n",
       "  <thead>\n",
       "    <tr style=\"text-align: right;\">\n",
       "      <th></th>\n",
       "      <th>url</th>\n",
       "    </tr>\n",
       "  </thead>\n",
       "  <tbody>\n",
       "    <tr>\n",
       "      <th>0</th>\n",
       "      <td>https://www.health.kr/searchDrug/result_drug.a...</td>\n",
       "    </tr>\n",
       "    <tr>\n",
       "      <th>1</th>\n",
       "      <td>https://www.health.kr/searchDrug/result_drug.a...</td>\n",
       "    </tr>\n",
       "    <tr>\n",
       "      <th>2</th>\n",
       "      <td>https://www.health.kr/searchDrug/result_drug.a...</td>\n",
       "    </tr>\n",
       "    <tr>\n",
       "      <th>3</th>\n",
       "      <td>https://www.health.kr/searchDrug/result_drug.a...</td>\n",
       "    </tr>\n",
       "    <tr>\n",
       "      <th>4</th>\n",
       "      <td>https://www.health.kr/searchDrug/result_drug.a...</td>\n",
       "    </tr>\n",
       "  </tbody>\n",
       "</table>\n",
       "</div>"
      ],
      "text/plain": [
       "                                                 url\n",
       "0  https://www.health.kr/searchDrug/result_drug.a...\n",
       "1  https://www.health.kr/searchDrug/result_drug.a...\n",
       "2  https://www.health.kr/searchDrug/result_drug.a...\n",
       "3  https://www.health.kr/searchDrug/result_drug.a...\n",
       "4  https://www.health.kr/searchDrug/result_drug.a..."
      ]
     },
     "execution_count": 2,
     "metadata": {},
     "output_type": "execute_result"
    }
   ],
   "source": [
    "url_df = pd.read_csv('medicine_url.csv')\n",
    "url_df.head()"
   ]
  },
  {
   "cell_type": "code",
   "execution_count": 3,
   "metadata": {
    "colab": {
     "base_uri": "https://localhost:8080/"
    },
    "executionInfo": {
     "elapsed": 2,
     "status": "ok",
     "timestamp": 1713751593536,
     "user": {
      "displayName": "조선아",
      "userId": "02017584329632875227"
     },
     "user_tz": -540
    },
    "id": "arNJ9oiXIorb",
    "outputId": "36083998-b3d4-4d95-d72f-41d548005f4e",
    "tags": []
   },
   "outputs": [
    {
     "data": {
      "text/plain": [
       "(47005, 1)"
      ]
     },
     "execution_count": 3,
     "metadata": {},
     "output_type": "execute_result"
    }
   ],
   "source": [
    "url_df.shape"
   ]
  },
  {
   "cell_type": "code",
   "execution_count": 4,
   "metadata": {
    "colab": {
     "base_uri": "https://localhost:8080/"
    },
    "executionInfo": {
     "elapsed": 3,
     "status": "ok",
     "timestamp": 1713751593868,
     "user": {
      "displayName": "조선아",
      "userId": "02017584329632875227"
     },
     "user_tz": -540
    },
    "id": "-1YdNfd6Iorb",
    "outputId": "1d91ec67-477f-492a-b869-0087faac867a",
    "tags": []
   },
   "outputs": [
    {
     "data": {
      "text/plain": [
       "0        https://www.health.kr/searchDrug/result_drug.a...\n",
       "1        https://www.health.kr/searchDrug/result_drug.a...\n",
       "2        https://www.health.kr/searchDrug/result_drug.a...\n",
       "3        https://www.health.kr/searchDrug/result_drug.a...\n",
       "4        https://www.health.kr/searchDrug/result_drug.a...\n",
       "                               ...                        \n",
       "47000    https://www.health.kr/searchDrug/result_drug.a...\n",
       "47001    https://www.health.kr/searchDrug/result_drug.a...\n",
       "47002    https://nedrug.mfds.go.kr/pbp/CCBBB01/getItemD...\n",
       "47003    https://www.health.kr/searchDrug/result_drug.a...\n",
       "47004    https://www.health.kr/searchDrug/result_drug.a...\n",
       "Name: url, Length: 47005, dtype: object"
      ]
     },
     "execution_count": 4,
     "metadata": {},
     "output_type": "execute_result"
    }
   ],
   "source": [
    "url_df['url']"
   ]
  },
  {
   "cell_type": "code",
   "execution_count": 5,
   "metadata": {
    "colab": {
     "base_uri": "https://localhost:8080/",
     "height": 35
    },
    "executionInfo": {
     "elapsed": 4,
     "status": "ok",
     "timestamp": 1713751594572,
     "user": {
      "displayName": "조선아",
      "userId": "02017584329632875227"
     },
     "user_tz": -540
    },
    "id": "nQHO6b8NIorb",
    "outputId": "5b2096c9-4ff8-497c-8c74-fd03370d8c66",
    "tags": []
   },
   "outputs": [
    {
     "data": {
      "text/plain": [
       "'https://www.health.kr/searchDrug/result_drug.asp?drug_cd=2018061800005'"
      ]
     },
     "execution_count": 5,
     "metadata": {},
     "output_type": "execute_result"
    }
   ],
   "source": [
    "url_df['url'][0]"
   ]
  },
  {
   "cell_type": "markdown",
   "metadata": {
    "id": "MN-flIySIorc"
   },
   "source": [
    "## URL Loader"
   ]
  },
  {
   "cell_type": "code",
   "execution_count": 3,
   "metadata": {
    "executionInfo": {
     "elapsed": 1476,
     "status": "ok",
     "timestamp": 1713758582214,
     "user": {
      "displayName": "조선아",
      "userId": "02017584329632875227"
     },
     "user_tz": -540
    },
    "id": "dFL-80IFldzL",
    "tags": []
   },
   "outputs": [],
   "source": [
    "from langchain_community.document_loaders import SeleniumURLLoader\n",
    "from langchain_community.document_transformers import Html2TextTransformer"
   ]
  },
  {
   "cell_type": "code",
   "execution_count": 39,
   "metadata": {
    "tags": []
   },
   "outputs": [],
   "source": [
    "loaders = []"
   ]
  },
  {
   "cell_type": "code",
   "execution_count": 65,
   "metadata": {
    "tags": []
   },
   "outputs": [],
   "source": [
    "for url in url_df['url'][500:600]:\n",
    "    loaders.append(( url, SeleniumURLLoader(urls=[url]) ))"
   ]
  },
  {
   "cell_type": "code",
   "execution_count": 41,
   "metadata": {
    "tags": []
   },
   "outputs": [],
   "source": [
    "docs = []"
   ]
  },
  {
   "cell_type": "code",
   "execution_count": 42,
   "metadata": {
    "executionInfo": {
     "elapsed": 36423,
     "status": "ok",
     "timestamp": 1713758618634,
     "user": {
      "displayName": "조선아",
      "userId": "02017584329632875227"
     },
     "user_tz": -540
    },
    "id": "37g79ldE1DoF",
    "tags": []
   },
   "outputs": [],
   "source": [
    "for i in range(len(loaders)):  # loaders 리스트의 각 로더에 대해 반복합니다.\n",
    "    data = loaders[i][1].load()\n",
    "\n",
    "    # 필요없는 정보 제거\n",
    "    try:\n",
    "        if loaders[i][0].startswith(\"https://nedrug\"):\n",
    "            data[0].page_content = data[0].page_content[data[0].page_content.find(\"제품명 \") : data[0].page_content.find(\"재심사대상\")]\n",
    "        else:\n",
    "            data[0].page_content = data[0].page_content[data[0].page_content.find(\"제품명\") : data[0].page_content.find(\"즐겨찾기\")]\n",
    "            data[0].page_content = data[0].page_content[data[0].page_content[1:].find(\"제품명\") + 1:]\n",
    "    except:\n",
    "        continue\n",
    "\n",
    "    html2text = Html2TextTransformer()\n",
    "    data = html2text.transform_documents(data)\n",
    "\n",
    "    docs.extend(\n",
    "        data\n",
    "    )  # 로더를 사용하여 문서를 로드하고 docs 리스트에 추가합니다.\n"
   ]
  },
  {
   "cell_type": "code",
   "execution_count": 68,
   "metadata": {
    "colab": {
     "base_uri": "https://localhost:8080/"
    },
    "executionInfo": {
     "elapsed": 18,
     "status": "ok",
     "timestamp": 1713757645011,
     "user": {
      "displayName": "조선아",
      "userId": "02017584329632875227"
     },
     "user_tz": -540
    },
    "id": "NNtHeKxDnoUN",
    "outputId": "33ceb0ae-290c-49f6-a959-e8dd8cfe4f06",
    "tags": []
   },
   "outputs": [
    {
     "data": {
      "text/plain": [
       "100"
      ]
     },
     "execution_count": 68,
     "metadata": {},
     "output_type": "execute_result"
    }
   ],
   "source": [
    "len(docs)"
   ]
  },
  {
   "cell_type": "code",
   "execution_count": 29,
   "metadata": {
    "tags": []
   },
   "outputs": [
    {
     "data": {
      "text/plain": [
       "Document(page_content='제품명 게스트란정 Gestran Tab. 게스트란정 식별표시 K G M P 장축(mm) 9.2 단축(mm) 4.7 두께(mm) 3.6 성상\\n흰색의 장방형 필름 코팅정 식별정보 제품정보 제품설명서 변경등록 (2019-08-01) K G M P 장축(mm) 단축(mm) 두께(mm)\\n성상 의약품이미지 확대보기 식별정보 제품정보 제품설명서 의약품이미지 확대보기 식별정보 제품정보 제품설명서 성분 / 함량 동일성분 의약품\\nMosapride Citrate Hydrate 모사프리드시트르산염수화물 5.29mg 첨가제 첨가제 더보기 경질무수규산 산화티탄\\n스테아르산마그네슘 옥수수전분 유당수화물 저치환도히드록시프로필셀룰로오스 전분글리콜산나트륨 폴리에틸렌글리콜6000 히드록시프로필셀룰로오스\\n히프로멜로오스 도핑금지 약물정보 경기기간중 : 허용 경기기간외 : 허용 상세정보 확인 ※ 상세정보는 반드시 한국도핑방지위원회 홈페이지를 통해\\n확인해주세요. 전문 / 일반 전문 단일 / 복합 단일 제조 / 수입사 한국글로벌제약 회사명 한국글로벌제약 회사 영문명 Korea Global\\nPharm 주소 (153-023) 서울 금천구 가산동 505-18 에이스하이엔드타워 5차 6층 전화번호 02-3394-5780 FAX\\n02-3394-5781 홈페이지 https://globalpharm.co.kr/ 제형 정제 투여경로 경구(내용고형) 성상 흰색의 장방형 필름\\n코팅정 허가일 2006년 11월 14일 [신약] 재심사 대조 / 생동 생동인정품목 급여정보 693200540 - 103원/1정\\n급여(2017-02-01) 약가이력정보 약가이력정보 [{\"boh_history2\":\" 693200540\\n103\\\\uC6D0\\\\/1\\\\uC815\\\\t2017-02-01\\\\t\\\\uAE09\\\\uC5EC\"}] 급여인정기준 · [일반원칙] 국민건강보험 요양급여의\\n기준에 관한 규칙 제5조제4항에 의하여 중증환자 중 암환자에게 처방·투여하는 약제로서 건강보험심사평가원장이 정하여 공고하는 약제의 범위 및\\n비용부담 , 2019.11.01 ATC 코드 A03FA09 : MOSAPRIDE 식약처 분류 기타의 소화기관용약 (239) KPIC 약효분류\\nMosapride Citrate Hydrate : 소화기계질환 > 위장관 운동 조절제 > 소화관 운동 조절 KPIC 학술 팜리뷰 약물사용에\\n대한 최신지견 : 위식도역류질환 , 약학정보원(곽혜선), 2018-03-05 팜리뷰 [소화불량_양방] 소화불량(Dyspepsia)의 합리적\\n접근법 , 약학정보원(김성철), 2016-11-14 대한약사저널 비밀노트 위장관 운동촉진제 Prokinetics , 박정빈 약사,\\n2021-07-12 제품설명서 보 기 ( 2019-08-13 게시 ) 의약품안전성 정보(DUR) 상세보기 없음 포장단위 (식약처 기준)\\n30정/병, 600정/병 심평원 기준 포장단위 심평원 기준 포장단위 정보 건강보험심사평가원 의약품관리종합센터에서 부여하는 표준코드 자료를\\n토대로 한 포장단위 정보입니다. 표준코드는 포장단위 별로 부여되며 바코드에 사용됩니다. 제품명 제품 총 수량 단위 포장형태 표준코드 비고\\n게스트란정(모사프리드시트르산염수화물) 30 정 병 8806932005418 게스트란정(모사프리드시트르산염수화물) 100 정 병\\n8806932005425 게스트란정(모사프리드시트르산염수화물) 500 정 병 8806932005432 게스트란정(모사프리드시트르산염수화물)\\n600 정 병 8806932005449 게스트란정(모사프리드시트르산염수화물) 300 정 병 8806932005456 저장방법 밀폐용기,\\n실온(1-30℃)보관 허가정보 ∙ 복약정보 전 체 효능 · 효과 용법 · 용량 주의사항 복약정보 제조/수입사 효능 · 효과 기능성소화불량으로\\n인한 소화기증상(속쓰림, 구역, 구토) 용법 · 용량 [허가사항변경(2011년 재평가), 의약품관리과-6843, 2012.12.31)]\\n(정제)(산제) 성인: 모사프리드시트르산염무수물로서 1일 15 mg을 3회로 나누어 식전 또는 식후에 경구투여한다. 사용상의 주의사항 1\\\\.\\n다음 환자에는 투여하지 말 것. 이 약은 유당을함유하고 있으므로, 갈락토오스 불내성(galactoseintolerance), Lapp\\n유당분해효소 결핍증(Lapplactasedeficiency) 또는 포도당-갈락토오스 흡수장애(glucose-\\ngalactosemalabsorption) 등의 유전적인 문제가 있는 환자에게는 투여하면 안된다. 2\\\\. 이상반응 998례 중 40례(4.0\\n%)에서 이상반응이 나타났다. 주요한 이상반응으로는 설사ㆍ묽은 변(1.8 %), 구갈(0.5 %), 권태감(0.3 %)등이 있다.\\n임상검사치에서는 792례 중 30례(3.8 %)에서 이상변동이 보였다. 주요 내용으로는 호산구증가(1.1%), 중성지방의 상승(1.0 %),\\nAST, ALT, ALP 및 γ-GTP의 상승(각 0.4 %) 등이 있다. 1) 중대한 이상반응 전격성간염, 간기능 장애와 황달(각 0.1\\n%미만) : 전격성간염, 현저한 AST, ALT, γ-GTP의 상승 등을 동반한 심각한 간기능 장애, 황달이 나타나는 경우가 있고, 사망에\\n이른 예도 있으므로, 충분히 관찰하고, 이상이 확인되는 경우에는 즉시 투여를 중지하고, 적절한 처치를 실시한다. 2) 기타 이상반응 (1)\\n과민반응 : 발진, 두드러기, 때때로 부종 (2) 혈액계 : 때때로 호산구증가, 백혈구감소 (3) 소화기계 : 복부팽만감, 구강마비(혀와\\n입술을 포함), 때때로 설사, 묽은변, 구갈, 복통, 구역, 구토, 미각이상 (4) 간장 : 때때로 ALP의 상승, 빌리루빈상승, ALT\\n상승. 드물게 AST, γ-GTP의 상승 (5) 순환기계 : 때때로 심계항진 (6) 정신신경계 : 때때로 어지럼, 휘청거림, 두통 (7)\\n기타 : 진전, 때때로 권태감, 중성지방의 상승 3) 국내 시판후 조사결과 국내에서 재심사를 위하여 6년 동안 745명을 대상으로 실시한\\n시판후 사용성적조사결과 이상반응의 발현증례율은 인과관계 여부와 상관없이 1.9 %(14례/745례)로 보고되었고, 이 중 이 약과 인과관계가\\n있는 것으로 조사된 것은 1.3 %(10례/745례)이다. 이상반응은 인과관계 여부와 상관없이 복통, 설사 각 4례, 묽은 변 3례, 구역\\n2례, 복부팽만, 소화불량, 유즙분비과다, 권태, 발진 각 1례로 나타났다. 이 중 시판전 임상시험에서 나타나지 않았던 새로운 이상반응으로\\n소화불량, 유즙분비과다가 각 1례씩 보고되었다. 4) 외국에서의 시판후 조사결과 일본에서 실시한 시판후 사용성적조사결과 3,014례 중\\n74례(2.5 %)에서 이상반응이 나타났다. 주요한 이상반응으로는 설사·묽은 변(0.8 %), 복통(0.4 %), 구갈(0.3 %) 등이\\n있다. 5) 국내 자발적 이상사례 보고자료(1989-2013년)를 분석한 결과, 이상사례가 보고된 다른 의약품에서 발생한 이상사례에 비해\\n통계적으로 유의하게 많이 보고된 이상사례는 다음과 같이 나타났다. 다만, 이로서 곧 해당성분과 다음의 이상사례 간에 인과관계가 입증된 것\\n의미하는 것은 아니다. ⦁ 졸림 3\\\\. 일반적 주의 일정기간(보통 2주) 투여하여도 소화기 증상의 개선이 보이지 않을 경우 장기간 투여하지\\n않는다. 4\\\\. 상호작용 이 약의 소화관운동촉진작용은 콜린작동성 신경과의 관련성으로 인해 항콜린제(황산아트로핀, 부틸스코폴라민브롬화물 등)와\\n병용 투여시 이 약의 작용이 감소될 수 있으므로 복용 간격을 두는 등 병용시 주의한다. 5\\\\. 임부 및 수유부에 대한 투여 1) 임신 중의\\n투여에 관한 안전성은 확립되어 있지 않으므로 임부 또는 임신하고 있을 가능성이 있는 여성에는 치료의 유익성이 위험성을 상회한다고 판단되는\\n경우에만 투여한다. 2) 동물실험에서 모유 중으로의 이행이 보고되어 있으므로 수유 중에는 투여를 피하고, 부득이한 경우에는 수유를 중단한다.\\n6\\\\. 소아에 대한 투여 소아 등에 대한 안전성이 확립되어있지 않다(사용경험이 없다.). 7\\\\. 고령자에 대한 투여 일반적으로 고령자에서는\\n신기능, 간기능 등의 생리기능이 저하되어 있으므로 환자의 상태를 관찰하면서 신중히 투여하고 이상반응이 발현된 경우에는 감량(예, 1일 7.5\\nmg)하는 등 적절한 처치를 한다. 8\\\\. 보관 및 취급상의 주의사항 1) 어린이의 손이 닿지 않는 곳에 보관한다. 2) 다른 용기에 바꾸어\\n넣는 것은 사고원인이 되거나 품질유지 면에서 바람직하지 않으므로 이를 주의한다. 9\\\\. 의약품동등성시험 정보 가. 시험약\\n게스트란정(모사프리드시트르산염수화물)[㈜한국글로벌제약]과 대조약 가스모틴정5밀리그램(모사프리드시트르산염수화물)[㈜대웅제약]을 2×2\\n교차시험으로 각 1정씩 건강한 성인에게 공복 시 단회 경구투여하여 38명의 혈중 모사프리드를 측정한 결과, 비교평가항목치(AUCt,\\nCmax)를 로그변환하여 통계처리하였을 때, 평균치 차의 90% 신뢰구간이 log 0.8에서 log 1.25 이내로서 생물학적으로 동등함을\\n입증하였다. 구분 비교평가항목 참고평가항목 AUC0-8hr (ng·hr/mL) Cmax (ng/mL) Tmax (hr) t1/2 (hr)\\n대조약 가스모틴정5밀리그램(모사프리드시트르산염수화물) [㈜대웅제약] 40.88±10.66 25.23±8.88 0.50 (0.33~1.00)\\n1.84±0.22 시험약 게스트란정(모사프리드시트르산염수화물) [㈜한국글로벌제약] 41.55±14.55 25.58±12.82 0.50\\n(0.17~2.00) 1.84±0.23 90% 신뢰구간* (기준 : log 0.8 ~ log 1.25) log 0.9311 ~ 1.0485\\nlog 0.8289 ~ 1.0821 - - (AUCt, Cmax, Tmax ; 중앙값(범위), n=38) AUCt : 투약시간부터\\n최종혈중농도 정량시간 t까지의 혈중농도-시간곡선하면적 Cmax : 최고혈중농도 Tmax : 최고혈중농도 도달시간 t1/2 : 말단 소실\\n반감기 * 비교평가항목치를 로그변환한 평균치 차의 90%신뢰구간 10\\\\. 기타 설치류에 임상통상용량의 100 ∼ 300배(30 ∼ 100\\nmg/kg/일)을 장기간 경구투여한 시험(랫트 104주, 마우스 92주간)에 있어 종양(간세포선종 및 갑상샘여포성 종양) 발생률의 상승이\\n나타났다. 복약정보 식사와 관계없이 투여해도 괜찮아요. 설사가 나타날 수 있어요. 증상이 심하면 전문가와 상의하세요. 어지럽거나 졸음이 올\\n수 있으므로 운전, 위험한 기계조작시 주의하세요. 황달 등 간기능 이상징후가 나타날 경우에는 전문가와 상의하세요. 2주 정도 투여해도 증상\\n개선이 없는 경우 전문가와 상의하세요. 맞춤형 복약안내문 아래 버튼을 클릭하시면 식품의약품안전처에서 제공하는 대상별 상세 복약안내문을 보실\\n수 있습니다. 제조 · 수입사 한국글로벌제약 Korea Global Pharm (153-023) 서울 금천구 가산동 505-18\\n에이스하이엔드타워 5차 6층 02-3394-5780 02-3394-5781 https://globalpharm.co.kr/ 기능성소화불량으로\\n인한 소화기증상(속쓰림, 구역, 구토) [허가사항변경(2011년 재평가), 의약품관리과-6843, 2012.12.31)] (정제)(산제)\\n성인: 모사프리드시트르산염무수물로서 1일 15 mg을 3회로 나누어 식전 또는 식후에 경구투여한다. 1\\\\. 다음 환자에는 투여하지 말 것.\\n이 약은 유당을함유하고 있으므로, 갈락토오스 불내성(galactoseintolerance), Lapp 유당분해효소\\n결핍증(Lapplactasedeficiency) 또는 포도당-갈락토오스 흡수장애(glucose-galactosemalabsorption)\\n등의 유전적인 문제가 있는 환자에게는 투여하면 안된다. 2\\\\. 이상반응 998례 중 40례(4.0 %)에서 이상반응이 나타났다. 주요한\\n이상반응으로는 설사ㆍ묽은 변(1.8 %), 구갈(0.5 %), 권태감(0.3 %)등이 있다. 임상검사치에서는 792례 중 30례(3.8\\n%)에서 이상변동이 보였다. 주요 내용으로는 호산구증가(1.1%), 중성지방의 상승(1.0 %), AST, ALT, ALP 및 γ-GTP의\\n상승(각 0.4 %) 등이 있다. 1) 중대한 이상반응 전격성간염, 간기능 장애와 황달(각 0.1 %미만) : 전격성간염, 현저한 AST,\\nALT, γ-GTP의 상승 등을 동반한 심각한 간기능 장애, 황달이 나타나는 경우가 있고, 사망에 이른 예도 있으므로, 충분히 관찰하고,\\n이상이 확인되는 경우에는 즉시 투여를 중지하고, 적절한 처치를 실시한다. 2) 기타 이상반응 (1) 과민반응 : 발진, 두드러기, 때때로\\n부종 (2) 혈액계 : 때때로 호산구증가, 백혈구감소 (3) 소화기계 : 복부팽만감, 구강마비(혀와 입술을 포함), 때때로 설사, 묽은변,\\n구갈, 복통, 구역, 구토, 미각이상 (4) 간장 : 때때로 ALP의 상승, 빌리루빈상승, ALT 상승. 드물게 AST, γ-GTP의 상승\\n(5) 순환기계 : 때때로 심계항진 (6) 정신신경계 : 때때로 어지럼, 휘청거림, 두통 (7) 기타 : 진전, 때때로 권태감, 중성지방의\\n상승 3) 국내 시판후 조사결과 국내에서 재심사를 위하여 6년 동안 745명을 대상으로 실시한 시판후 사용성적조사결과 이상반응의 발현증례율은\\n인과관계 여부와 상관없이 1.9 %(14례/745례)로 보고되었고, 이 중 이 약과 인과관계가 있는 것으로 조사된 것은 1.3\\n%(10례/745례)이다. 이상반응은 인과관계 여부와 상관없이 복통, 설사 각 4례, 묽은 변 3례, 구역 2례, 복부팽만, 소화불량,\\n유즙분비과다, 권태, 발진 각 1례로 나타났다. 이 중 시판전 임상시험에서 나타나지 않았던 새로운 이상반응으로 소화불량, 유즙분비과다가 각\\n1례씩 보고되었다. 4) 외국에서의 시판후 조사결과 일본에서 실시한 시판후 사용성적조사결과 3,014례 중 74례(2.5 %)에서 이상반응이\\n나타났다. 주요한 이상반응으로는 설사·묽은 변(0.8 %), 복통(0.4 %), 구갈(0.3 %) 등이 있다. 5) 국내 자발적 이상사례\\n보고자료(1989-2013년)를 분석한 결과, 이상사례가 보고된 다른 의약품에서 발생한 이상사례에 비해 통계적으로 유의하게 많이 보고된\\n이상사례는 다음과 같이 나타났다. 다만, 이로서 곧 해당성분과 다음의 이상사례 간에 인과관계가 입증된 것 의미하는 것은 아니다. ⦁ 졸림\\n3\\\\. 일반적 주의 일정기간(보통 2주) 투여하여도 소화기 증상의 개선이 보이지 않을 경우 장기간 투여하지 않는다. 4\\\\. 상호작용 이 약의\\n소화관운동촉진작용은 콜린작동성 신경과의 관련성으로 인해 항콜린제(황산아트로핀, 부틸스코폴라민브롬화물 등)와 병용 투여시 이 약의 작용이\\n감소될 수 있으므로 복용 간격을 두는 등 병용시 주의한다. 5\\\\. 임부 및 수유부에 대한 투여 1) 임신 중의 투여에 관한 안전성은 확립되어\\n있지 않으므로 임부 또는 임신하고 있을 가능성이 있는 여성에는 치료의 유익성이 위험성을 상회한다고 판단되는 경우에만 투여한다. 2)\\n동물실험에서 모유 중으로의 이행이 보고되어 있으므로 수유 중에는 투여를 피하고, 부득이한 경우에는 수유를 중단한다. 6\\\\. 소아에 대한 투여\\n소아 등에 대한 안전성이 확립되어있지 않다(사용경험이 없다.). 7\\\\. 고령자에 대한 투여 일반적으로 고령자에서는 신기능, 간기능 등의\\n생리기능이 저하되어 있으므로 환자의 상태를 관찰하면서 신중히 투여하고 이상반응이 발현된 경우에는 감량(예, 1일 7.5 mg)하는 등 적절한\\n처치를 한다. 8\\\\. 보관 및 취급상의 주의사항 1) 어린이의 손이 닿지 않는 곳에 보관한다. 2) 다른 용기에 바꾸어 넣는 것은 사고원인이\\n되거나 품질유지 면에서 바람직하지 않으므로 이를 주의한다. 9\\\\. 의약품동등성시험 정보 가. 시험약\\n게스트란정(모사프리드시트르산염수화물)[㈜한국글로벌제약]과 대조약 가스모틴정5밀리그램(모사프리드시트르산염수화물)[㈜대웅제약]을 2×2\\n교차시험으로 각 1정씩 건강한 성인에게 공복 시 단회 경구투여하여 38명의 혈중 모사프리드를 측정한 결과, 비교평가항목치(AUCt,\\nCmax)를 로그변환하여 통계처리하였을 때, 평균치 차의 90% 신뢰구간이 log 0.8에서 log 1.25 이내로서 생물학적으로 동등함을\\n입증하였다. 구분 비교평가항목 참고평가항목 AUC0-8hr (ng·hr/mL) Cmax (ng/mL) Tmax (hr) t1/2 (hr)\\n대조약 가스모틴정5밀리그램(모사프리드시트르산염수화물) [㈜대웅제약] 40.88±10.66 25.23±8.88 0.50 (0.33~1.00)\\n1.84±0.22 시험약 게스트란정(모사프리드시트르산염수화물) [㈜한국글로벌제약] 41.55±14.55 25.58±12.82 0.50\\n(0.17~2.00) 1.84±0.23 90% 신뢰구간* (기준 : log 0.8 ~ log 1.25) log 0.9311 ~ 1.0485\\nlog 0.8289 ~ 1.0821 - - (AUCt, Cmax, Tmax ; 중앙값(범위), n=38) AUCt : 투약시간부터\\n최종혈중농도 정량시간 t까지의 혈중농도-시간곡선하면적 Cmax : 최고혈중농도 Tmax : 최고혈중농도 도달시간 t1/2 : 말단 소실\\n반감기 * 비교평가항목치를 로그변환한 평균치 차의 90%신뢰구간 10\\\\. 기타 설치류에 임상통상용량의 100 ∼ 300배(30 ∼ 100\\nmg/kg/일)을 장기간 경구투여한 시험(랫트 104주, 마우스 92주간)에 있어 종양(간세포선종 및 갑상샘여포성 종양) 발생률의 상승이\\n나타났다. 복약정보 식사와 관계없이 투여해도 괜찮아요. 설사가 나타날 수 있어요. 증상이 심하면 전문가와 상의하세요. 어지럽거나 졸음이 올\\n수 있으므로 운전, 위험한 기계조작시 주의하세요. 황달 등 간기능 이상징후가 나타날 경우에는 전문가와 상의하세요. 2주 정도 투여해도 증상\\n개선이 없는 경우 전문가와 상의하세요. 한국글로벌제약 Korea Global Pharm (153-023) 서울 금천구 가산동 505-18\\n에이스하이엔드타워 5차 6층 02-3394-5780 02-3394-5781 https://globalpharm.co.kr/\\n\\n', metadata={'source': 'https://www.health.kr/searchDrug/result_drug.asp?drug_cd=A11AKP08G3511', 'title': '게스트란정 Gestran Tab. 의약품 정보', 'description': 'No description found.', 'language': 'ko'})"
      ]
     },
     "execution_count": 29,
     "metadata": {},
     "output_type": "execute_result"
    }
   ],
   "source": [
    "docs[-1]"
   ]
  },
  {
   "cell_type": "markdown",
   "metadata": {
    "id": "cXZjMTsfIorh"
   },
   "source": [
    "## Embedding"
   ]
  },
  {
   "cell_type": "code",
   "execution_count": 4,
   "metadata": {
    "colab": {
     "base_uri": "https://localhost:8080/"
    },
    "executionInfo": {
     "elapsed": 16668,
     "status": "ok",
     "timestamp": 1713758635290,
     "user": {
      "displayName": "조선아",
      "userId": "02017584329632875227"
     },
     "user_tz": -540
    },
    "id": "I53LL0ZZIorh",
    "outputId": "2303be28-0e9d-4d98-da75-ddce5ae4c180",
    "tags": []
   },
   "outputs": [],
   "source": [
    "from langchain_community.embeddings import HuggingFaceEmbeddings\n",
    "\n",
    "embeddings = HuggingFaceEmbeddings(model_name='intfloat/multilingual-e5-base', model_kwargs={'device': 'cuda'})\n",
    "# BAA/bge-m3"
   ]
  },
  {
   "cell_type": "code",
   "execution_count": 5,
   "metadata": {
    "tags": []
   },
   "outputs": [
    {
     "data": {
      "text/plain": [
       "HuggingFaceEmbeddings(client=SentenceTransformer(\n",
       "  (0): Transformer({'max_seq_length': 512, 'do_lower_case': False}) with Transformer model: XLMRobertaModel \n",
       "  (1): Pooling({'word_embedding_dimension': 768, 'pooling_mode_cls_token': False, 'pooling_mode_mean_tokens': True, 'pooling_mode_max_tokens': False, 'pooling_mode_mean_sqrt_len_tokens': False, 'pooling_mode_weightedmean_tokens': False, 'pooling_mode_lasttoken': False, 'include_prompt': True})\n",
       "  (2): Normalize()\n",
       "), model_name='intfloat/multilingual-e5-base', cache_folder=None, model_kwargs={'device': 'cuda'}, encode_kwargs={}, multi_process=False, show_progress=False)"
      ]
     },
     "execution_count": 5,
     "metadata": {},
     "output_type": "execute_result"
    }
   ],
   "source": [
    "embeddings"
   ]
  },
  {
   "cell_type": "markdown",
   "metadata": {
    "id": "bNHaomUBIorf"
   },
   "source": [
    "## Text Split & Vector Store"
   ]
  },
  {
   "cell_type": "code",
   "execution_count": 5,
   "metadata": {
    "executionInfo": {
     "elapsed": 956,
     "status": "ok",
     "timestamp": 1713758636241,
     "user": {
      "displayName": "조선아",
      "userId": "02017584329632875227"
     },
     "user_tz": -540
    },
    "id": "QjLfzo_ukP60",
    "tags": []
   },
   "outputs": [],
   "source": [
    "from langchain.text_splitter import RecursiveCharacterTextSplitter\n",
    "from langchain.storage import InMemoryStore\n",
    "from langchain_community.vectorstores import Chroma\n",
    "from langchain.retrievers import ParentDocumentRetriever"
   ]
  },
  {
   "cell_type": "code",
   "execution_count": 6,
   "metadata": {
    "executionInfo": {
     "elapsed": 314,
     "status": "ok",
     "timestamp": 1713756939501,
     "user": {
      "displayName": "조선아",
      "userId": "02017584329632875227"
     },
     "user_tz": -540
    },
    "id": "aaiAwnWR-ae2",
    "tags": []
   },
   "outputs": [],
   "source": [
    "# 부모 문서를 생성하는 데 사용되는 텍스트 분할기입니다.\n",
    "parent_splitter = RecursiveCharacterTextSplitter(chunk_size=1000, chunk_overlap = 200)\n",
    "# 자식 문서를 생성하는 데 사용되는 텍스트 분할기입니다.\n",
    "# 부모보다 작은 문서를 생성해야 합니다.\n",
    "child_splitter = RecursiveCharacterTextSplitter(chunk_size=300, chunk_overlap = 80)\n",
    "# 자식 청크를 인덱싱하는 데 사용할 벡터 저장소입니다.\n",
    "vectorstore = Chroma(\n",
    "    collection_name=\"split_parents\", embedding_function=embeddings, persist_directory='db'\n",
    ")\n",
    "\n",
    "# 부모 문서의 저장 계층입니다.\n",
    "store = InMemoryStore()\n",
    "\n",
    "retriever = ParentDocumentRetriever(\n",
    "    # 벡터 저장소를 지정합니다.\n",
    "    vectorstore=vectorstore,\n",
    "    # 문서 저장소를 지정합니다.\n",
    "    docstore=store,\n",
    "    # 하위 문서 분할기를 지정합니다.\n",
    "    child_splitter=child_splitter,\n",
    "    # 상위 문서 분할기를 지정합니다.\n",
    "    parent_splitter=parent_splitter,\n",
    ")"
   ]
  },
  {
   "cell_type": "code",
   "execution_count": 43,
   "metadata": {
    "tags": []
   },
   "outputs": [],
   "source": [
    "retriever.add_documents(docs)"
   ]
  },
  {
   "cell_type": "code",
   "execution_count": 44,
   "metadata": {
    "colab": {
     "base_uri": "https://localhost:8080/"
    },
    "executionInfo": {
     "elapsed": 3,
     "status": "ok",
     "timestamp": 1713756941267,
     "user": {
      "displayName": "조선아",
      "userId": "02017584329632875227"
     },
     "user_tz": -540
    },
    "id": "qC6J80pk-wjT",
    "outputId": "1a65db25-2659-4f28-f396-9f41985918c5",
    "tags": []
   },
   "outputs": [
    {
     "data": {
      "text/plain": [
       "12"
      ]
     },
     "execution_count": 44,
     "metadata": {},
     "output_type": "execute_result"
    }
   ],
   "source": [
    "len(list(store.yield_keys()))"
   ]
  },
  {
   "cell_type": "code",
   "execution_count": 45,
   "metadata": {
    "tags": []
   },
   "outputs": [],
   "source": [
    "# vectorstore 저장\n",
    "vectorstore.persist()"
   ]
  },
  {
   "cell_type": "code",
   "execution_count": 26,
   "metadata": {
    "tags": []
   },
   "outputs": [
    {
     "data": {
      "text/plain": [
       "'https://www.health.kr/searchDrug/result_drug.asp?drug_cd=A11A0360A0160'"
      ]
     },
     "execution_count": 26,
     "metadata": {},
     "output_type": "execute_result"
    }
   ],
   "source": [
    "url_df['url'][3000]"
   ]
  },
  {
   "cell_type": "code",
   "execution_count": 7,
   "metadata": {
    "colab": {
     "base_uri": "https://localhost:8080/"
    },
    "executionInfo": {
     "elapsed": 4,
     "status": "ok",
     "timestamp": 1713756942797,
     "user": {
      "displayName": "조선아",
      "userId": "02017584329632875227"
     },
     "user_tz": -540
    },
    "id": "6UTOX2W1-1Ji",
    "outputId": "5d5a43fe-7f86-42bb-f33c-9325ffede22c",
    "tags": []
   },
   "outputs": [
    {
     "data": {
      "text/plain": [
       "[Document(page_content='제품명 가그린목액 Garglin Mok Solution 가그린목액 식별표시 장축(mm) 단축(mm) 두께(mm) 성상 식별정보 제품정보\\n제품설명서 장축(mm) 단축(mm) 두께(mm) 성상 의약품이미지 확대보기 식별정보 제품정보 제품설명서 성분 / 함량 동일성분 의약품\\nBenzydamine Hydrochloride 벤지다민염산염 1.5mg/mL Cetylpyridinium Chloride Hydrate\\n세틸피리디늄염화물수화물 0.5mg/mL 첨가제 첨가제 더보기 농글리세린 사카린나트륨수화물 소르빈산칼륨 시트르산수화물 에탄올 정제수', metadata={'description': 'No description found.', 'doc_id': 'cf9de4a8-c280-4c8e-90f3-aa756d2db8f8', 'language': 'ko', 'source': 'https://www.health.kr/searchDrug/result_drug.asp?drug_cd=2018061800005', 'title': '가그린목액 Garglin Mok Solution 의약품 정보'}),\n",
       " Document(page_content='약학정보원(최선), 2018-09-17 대한약사저널 OTC vs OTC 헥사메딘액 vs 가그린 , 약국약학연구회 신재연 약사,\\n2020-08-31 제품설명서 제품설명서 이미지가 없습니다. 의약품안전성 정보(DUR) 상세보기 없음 포장단위 (식약처 기준) 100mL/병\\n저장방법 차광기밀용기, 상온보존 허가정보 ∙ 복약정보 전 체 효능 · 효과 용법 · 용량 주의사항 복약정보 제조/수입사 효능 · 효과 1\\\\.', metadata={'description': 'No description found.', 'doc_id': 'f55f6bb7-a513-4de5-bd56-18445846da5c', 'language': 'ko', 'source': 'https://www.health.kr/searchDrug/result_drug.asp?drug_cd=2019022200053', 'title': '그린헥시딘가글액 Green Hexidine Oral Rinse 의약품 정보'}),\n",
       " Document(page_content='약효분류 Chlorhexidine Gluconate Solution : 눈ㆍ귀ㆍ치과ㆍ구강용 약물 > 치과ㆍ구강용 약물 > 살균소독제 KPIC\\n학술 팜리뷰 구내염(Stomatitis) , 약학정보원(최선), 2018-09-17 대한약사저널 OTC vs OTC 헥사메딘액 vs 가그린\\n, 약국약학연구회 신재연 약사, 2020-08-31 제품설명서 제품설명서 이미지가 없습니다. 의약품안전성 정보(DUR) 상세보기 없음', metadata={'description': 'No description found.', 'doc_id': '47b85443-a285-445b-9e28-8c6e505f4733', 'language': 'ko', 'source': 'https://www.health.kr/searchDrug/result_drug.asp?drug_cd=2020072200006', 'title': '그린헥시딘가글액0.12% Green Hexidine Oral Rinse 0.12% 의약품 정보'}),\n",
       " Document(page_content='학술 팜리뷰 구내염(Stomatitis) , 약학정보원(최선), 2018-09-17 대한약사저널 OTC vs OTC 헥사메딘액 vs 가그린\\n, 약국약학연구회 신재연 약사, 2020-08-31 제품설명서 제품설명서 이미지가 없습니다. 의약품안전성 정보(DUR) 상세보기 없음\\n포장단위 (식약처 기준) 100mL/병, 125mL/병, 250mL/병 저장방법 차광기밀용기, 상온(15~25℃)보관 허가정보 ∙ 복약정보', metadata={'description': 'No description found.', 'doc_id': '47b85443-a285-445b-9e28-8c6e505f4733', 'language': 'ko', 'source': 'https://www.health.kr/searchDrug/result_drug.asp?drug_cd=2020072200006', 'title': '그린헥시딘가글액0.12% Green Hexidine Oral Rinse 0.12% 의약품 정보'})]"
      ]
     },
     "execution_count": 7,
     "metadata": {},
     "output_type": "execute_result"
    }
   ],
   "source": [
    "sub_docs = vectorstore.similarity_search(\"가그린목액\")\n",
    "sub_docs"
   ]
  },
  {
   "cell_type": "code",
   "execution_count": 8,
   "metadata": {
    "tags": []
   },
   "outputs": [
    {
     "data": {
      "text/plain": [
       "[Document(page_content='제품명 가그린목액 Garglin Mok Solution 가그린목액 식별표시 장축(mm) 단축(mm) 두께(mm) 성상 식별정보 제품정보\\n제품설명서 장축(mm) 단축(mm) 두께(mm) 성상 의약품이미지 확대보기 식별정보 제품정보 제품설명서 성분 / 함량 동일성분 의약품\\nBenzydamine Hydrochloride 벤지다민염산염 1.5mg/mL Cetylpyridinium Chloride Hydrate\\n세틸피리디늄염화물수화물 0.5mg/mL 첨가제 첨가제 더보기 농글리세린 사카린나트륨수화물 소르빈산칼륨 시트르산수화물 에탄올 정제수', metadata={'description': 'No description found.', 'doc_id': 'cf9de4a8-c280-4c8e-90f3-aa756d2db8f8', 'language': 'ko', 'source': 'https://www.health.kr/searchDrug/result_drug.asp?drug_cd=2018061800005', 'title': '가그린목액 Garglin Mok Solution 의약품 정보'}),\n",
       " Document(page_content='약학정보원(최선), 2018-09-17 대한약사저널 OTC vs OTC 헥사메딘액 vs 가그린 , 약국약학연구회 신재연 약사,\\n2020-08-31 제품설명서 제품설명서 이미지가 없습니다. 의약품안전성 정보(DUR) 상세보기 없음 포장단위 (식약처 기준) 100mL/병\\n저장방법 차광기밀용기, 상온보존 허가정보 ∙ 복약정보 전 체 효능 · 효과 용법 · 용량 주의사항 복약정보 제조/수입사 효능 · 효과 1\\\\.', metadata={'description': 'No description found.', 'doc_id': 'f55f6bb7-a513-4de5-bd56-18445846da5c', 'language': 'ko', 'source': 'https://www.health.kr/searchDrug/result_drug.asp?drug_cd=2019022200053', 'title': '그린헥시딘가글액 Green Hexidine Oral Rinse 의약품 정보'}),\n",
       " Document(page_content='약효분류 Chlorhexidine Gluconate Solution : 눈ㆍ귀ㆍ치과ㆍ구강용 약물 > 치과ㆍ구강용 약물 > 살균소독제 KPIC\\n학술 팜리뷰 구내염(Stomatitis) , 약학정보원(최선), 2018-09-17 대한약사저널 OTC vs OTC 헥사메딘액 vs 가그린\\n, 약국약학연구회 신재연 약사, 2020-08-31 제품설명서 제품설명서 이미지가 없습니다. 의약품안전성 정보(DUR) 상세보기 없음', metadata={'description': 'No description found.', 'doc_id': '47b85443-a285-445b-9e28-8c6e505f4733', 'language': 'ko', 'source': 'https://www.health.kr/searchDrug/result_drug.asp?drug_cd=2020072200006', 'title': '그린헥시딘가글액0.12% Green Hexidine Oral Rinse 0.12% 의약품 정보'}),\n",
       " Document(page_content='학술 팜리뷰 구내염(Stomatitis) , 약학정보원(최선), 2018-09-17 대한약사저널 OTC vs OTC 헥사메딘액 vs 가그린\\n, 약국약학연구회 신재연 약사, 2020-08-31 제품설명서 제품설명서 이미지가 없습니다. 의약품안전성 정보(DUR) 상세보기 없음\\n포장단위 (식약처 기준) 100mL/병, 125mL/병, 250mL/병 저장방법 차광기밀용기, 상온(15~25℃)보관 허가정보 ∙ 복약정보', metadata={'description': 'No description found.', 'doc_id': '47b85443-a285-445b-9e28-8c6e505f4733', 'language': 'ko', 'source': 'https://www.health.kr/searchDrug/result_drug.asp?drug_cd=2020072200006', 'title': '그린헥시딘가글액0.12% Green Hexidine Oral Rinse 0.12% 의약품 정보'})]"
      ]
     },
     "execution_count": 8,
     "metadata": {},
     "output_type": "execute_result"
    }
   ],
   "source": [
    "vectorstore.as_retriever().invoke(\"가그린목액\")"
   ]
  },
  {
   "cell_type": "markdown",
   "metadata": {},
   "source": [
    "### vector store DB 저장 자동화"
   ]
  },
  {
   "cell_type": "code",
   "execution_count": 8,
   "metadata": {
    "tags": []
   },
   "outputs": [],
   "source": [
    "def vector_store_db_save(url_index):\n",
    "\n",
    "    loaders = []\n",
    "\n",
    "    for url in url_df['url'][url_index:url_index + 10]:\n",
    "        loaders.append(( url, SeleniumURLLoader(urls=[url]) ))\n",
    "\n",
    "    docs = []\n",
    "\n",
    "    for i in range(len(loaders)):  # loaders 리스트의 각 로더에 대해 반복합니다.\n",
    "        data = loaders[i][1].load()\n",
    "\n",
    "        # 필요없는 정보 제거\n",
    "        try:\n",
    "            if loaders[i][0].startswith(\"https://nedrug\"):\n",
    "                data[0].page_content = data[0].page_content[data[0].page_content.find(\"제품명 \") : data[0].page_content.find(\"재심사대상\")]\n",
    "            else:\n",
    "                data[0].page_content = data[0].page_content[data[0].page_content.find(\"제품명\") : data[0].page_content.find(\"즐겨찾기\")]\n",
    "                data[0].page_content = data[0].page_content[data[0].page_content[1:].find(\"제품명\") + 1:]\n",
    "        except:\n",
    "            continue\n",
    "\n",
    "        html2text = Html2TextTransformer()\n",
    "        data = html2text.transform_documents(data)\n",
    "\n",
    "        docs.extend(\n",
    "            data\n",
    "        )  # 로더를 사용하여 문서를 로드하고 docs 리스트에 추가합니다.\n",
    "\n",
    "    print(f\"docs 개수 ({url_index} ~ {url_index + 10}) : \", len(docs))\n",
    "\n",
    "    retriever.add_documents(docs)\n",
    "\n",
    "    print(\"만들어진 DB 행 개수\", len(list(store.yield_keys())))\n",
    "\n",
    "    vectorstore.persist()"
   ]
  },
  {
   "cell_type": "code",
   "execution_count": null,
   "metadata": {
    "tags": []
   },
   "outputs": [
    {
     "name": "stdout",
     "output_type": "stream",
     "text": [
      "docs 개수 (13830 ~ 13840) :  10\n",
      "만들어진 DB 행 개수 490\n",
      "docs 개수 (13840 ~ 13850) :  10\n",
      "만들어진 DB 행 개수 687\n",
      "docs 개수 (13850 ~ 13860) :  10\n",
      "만들어진 DB 행 개수 919\n",
      "docs 개수 (13860 ~ 13870) :  10\n",
      "만들어진 DB 행 개수 1336\n",
      "docs 개수 (13870 ~ 13880) :  10\n",
      "만들어진 DB 행 개수 1513\n",
      "docs 개수 (13880 ~ 13890) :  10\n",
      "만들어진 DB 행 개수 1830\n",
      "docs 개수 (13890 ~ 13900) :  10\n",
      "만들어진 DB 행 개수 1936\n",
      "docs 개수 (13900 ~ 13910) :  10\n",
      "만들어진 DB 행 개수 2057\n",
      "docs 개수 (13910 ~ 13920) :  10\n",
      "만들어진 DB 행 개수 2366\n",
      "docs 개수 (13920 ~ 13930) :  10\n",
      "만들어진 DB 행 개수 2764\n",
      "docs 개수 (13930 ~ 13940) :  10\n",
      "만들어진 DB 행 개수 3008\n",
      "docs 개수 (13940 ~ 13950) :  10\n",
      "만들어진 DB 행 개수 3189\n",
      "docs 개수 (13950 ~ 13960) :  10\n",
      "만들어진 DB 행 개수 3655\n"
     ]
    }
   ],
   "source": [
    "for i in range(13830, 15000, 10):\n",
    "    vector_store_db_save(i)"
   ]
  },
  {
   "cell_type": "markdown",
   "metadata": {},
   "source": [
    "만들어진 RAG\n",
    "- 0 ~ 13959\n",
    "- 15000 ~ 15999\n",
    "- 총 : 14960개"
   ]
  },
  {
   "cell_type": "markdown",
   "metadata": {
    "id": "gA_Ak54BOWFn"
   },
   "source": [
    "## RAG 프롬프트"
   ]
  },
  {
   "cell_type": "code",
   "execution_count": 20,
   "metadata": {
    "executionInfo": {
     "elapsed": 3626,
     "status": "ok",
     "timestamp": 1713758644712,
     "user": {
      "displayName": "조선아",
      "userId": "02017584329632875227"
     },
     "user_tz": -540
    },
    "id": "GimaHk0bIoro",
    "tags": []
   },
   "outputs": [],
   "source": [
    "from langchain import hub\n",
    "\n",
    "prompt = hub.pull(\"rlm/rag-prompt\")"
   ]
  },
  {
   "cell_type": "code",
   "execution_count": 21,
   "metadata": {
    "tags": []
   },
   "outputs": [],
   "source": [
    "prompt.messages[0].prompt.template = \"You are an assistant in answering drug information. You need to know how to explain the ingredients, effects, side effects, etc. of the drug.Use the following pieces of retrieved context to answer the question. If you don't know the answer, just say that you don't know. Keep the answer concise and answer in Korean.\\nQuestion: {question} \\nContext: {context} \\nAnswer:\""
   ]
  },
  {
   "cell_type": "code",
   "execution_count": 22,
   "metadata": {
    "colab": {
     "base_uri": "https://localhost:8080/"
    },
    "executionInfo": {
     "elapsed": 8,
     "status": "ok",
     "timestamp": 1713758644713,
     "user": {
      "displayName": "조선아",
      "userId": "02017584329632875227"
     },
     "user_tz": -540
    },
    "id": "cYklk2yjq5K9",
    "outputId": "6e11a22c-44df-4a73-eec3-da8b1e341f64",
    "tags": []
   },
   "outputs": [
    {
     "data": {
      "text/plain": [
       "ChatPromptTemplate(input_variables=['context', 'question'], metadata={'lc_hub_owner': 'rlm', 'lc_hub_repo': 'rag-prompt', 'lc_hub_commit_hash': '50442af133e61576e74536c6556cefe1fac147cad032f4377b60c436e6cdcb6e'}, messages=[HumanMessagePromptTemplate(prompt=PromptTemplate(input_variables=['context', 'question'], template=\"You are an assistant for question-answering tasks. Use the following pieces of retrieved context to answer the question. If you don't know the answer, just say that you don't know. Use three sentences maximum and keep the answer concise. And answer in Korean.\\nQuestion: {question} \\nContext: {context} \\nAnswer:\"))])"
      ]
     },
     "execution_count": 22,
     "metadata": {},
     "output_type": "execute_result"
    }
   ],
   "source": [
    "prompt"
   ]
  },
  {
   "cell_type": "markdown",
   "metadata": {
    "id": "lzyvRrJCPl-3"
   },
   "source": [
    "## LLAMA 모델 생성"
   ]
  },
  {
   "cell_type": "code",
   "execution_count": 16,
   "metadata": {
    "colab": {
     "base_uri": "https://localhost:8080/"
    },
    "executionInfo": {
     "elapsed": 4563,
     "status": "ok",
     "timestamp": 1713758649272,
     "user": {
      "displayName": "조선아",
      "userId": "02017584329632875227"
     },
     "user_tz": -540
    },
    "id": "UrloialOLCyb",
    "outputId": "08bd87bc-3ebb-4cb8-bbbc-2a4c4ea10921",
    "tags": []
   },
   "outputs": [],
   "source": [
    "# !huggingface-cli login\n",
    "# !huggingface-cli login --token \"토큰키\""
   ]
  },
  {
   "cell_type": "code",
   "execution_count": 23,
   "metadata": {
    "colab": {
     "base_uri": "https://localhost:8080/"
    },
    "executionInfo": {
     "elapsed": 1143,
     "status": "ok",
     "timestamp": 1713687593331,
     "user": {
      "displayName": "조선아",
      "userId": "02017584329632875227"
     },
     "user_tz": -540
    },
    "id": "KkeVJ35tIork",
    "outputId": "ac386be9-eb1e-4d09-f82b-1c694b701e99",
    "tags": []
   },
   "outputs": [
    {
     "name": "stderr",
     "output_type": "stream",
     "text": [
      "huggingface/tokenizers: The current process just got forked, after parallelism has already been used. Disabling parallelism to avoid deadlocks...\n",
      "To disable this warning, you can either:\n",
      "\t- Avoid using `tokenizers` before the fork if possible\n",
      "\t- Explicitly set the environment variable TOKENIZERS_PARALLELISM=(true | false)\n"
     ]
    },
    {
     "name": "stdout",
     "output_type": "stream",
     "text": [
      "suusuu00\n"
     ]
    }
   ],
   "source": [
    "!huggingface-cli whoami"
   ]
  },
  {
   "cell_type": "code",
   "execution_count": 24,
   "metadata": {
    "executionInfo": {
     "elapsed": 311,
     "status": "ok",
     "timestamp": 1713758652971,
     "user": {
      "displayName": "조선아",
      "userId": "02017584329632875227"
     },
     "user_tz": -540
    },
    "id": "N73xCxGdIorm",
    "tags": []
   },
   "outputs": [],
   "source": [
    "from transformers import BitsAndBytesConfig\n",
    "import torch\n",
    "\n",
    "quant_config = BitsAndBytesConfig(\n",
    "    load_in_8bit = True,        # 양자화 (용량을 줄여서 올림)\n",
    "    bnb_4bit_compute_dtype = torch.float16\n",
    ")"
   ]
  },
  {
   "cell_type": "code",
   "execution_count": 41,
   "metadata": {
    "colab": {
     "base_uri": "https://localhost:8080/",
     "height": 259,
     "referenced_widgets": [
      "7192eb876b974a3eabe810cfd44fe335",
      "59be698078464662a29dada61b920f1e",
      "f448389ec8624cc3aa56ad02cfe9cb4d",
      "a4a2183632e74f65a13a0877d4da004e",
      "31213b76afdf4f83865a3cafab51a932",
      "85839098676d42a9989811c22bf305fa",
      "db2ed46ddeaa4b1f8034ebfe42b28d3f",
      "d1b19fac5969407b88a6d6bafd913a11",
      "31e85ac3e0954b77954622cb13a03d36",
      "1dd6ab7404cf4118a1964430b4c1dcb6",
      "789580073ed04443acabb32e10ffe2a5",
      "536e7237ffa54d57824976ef1a5b52ec",
      "51a1d6ad629b41e3b9b3768ab19797a5",
      "08f2389dfc82408795cf379a80fa3972",
      "f9f646eeffcb44e7b1d5f0370292edd5",
      "c62f1e4921a34862b0f4f5ac23ad6b8d",
      "81568670b3c848428c40e6c22471843a",
      "52ec9866c3074c8b8fcab66408d99c97",
      "7476ae20371949abb4d58b2188cc15b2",
      "79193ac66d2b47669e1096322b806cbb",
      "e9004589f0074f8caa8c26e6a4e236da",
      "2c1638de96144697887afeaae207db49",
      "14e9c32cbc9049839fad580432ebf79f",
      "ee09cecad90141f4aef194c581205bec",
      "b747128228e2454aae821ebc9bb9ea50",
      "878848fd0f2541059632ab17266f727a",
      "72a50cad96f24abb96cca7ed4b679d02",
      "968f2da1b7c74d19bd926f93f58564bb",
      "837e196043ae4971a424b94ab0370b90",
      "cb2a95e18da941169821debbaa6f25bd",
      "32145c378fab47f98a17bbc446d6d003",
      "487af6dd54bb478d8dc70c61f0dbbe02",
      "b9cae4c21e504baebda2630901efb433",
      "eae19fb76cb246518acaf54db43d3607",
      "69835e1d1b8a4112ae86ba608b44aa52",
      "875aeb23698643739987df037dce0cef",
      "7121113e0abc4fe9a790861cba94ae6f",
      "be0964438adf432aad4325eb76f9872a",
      "33eebed8093c4891a874cebaf44adee9",
      "9ee87be0af5b4cd2bf06813d2dc65bd8",
      "a8b6e5c262c24ca18e76cd7c7bc38ab5",
      "d3973adbcb1f4aa4a1582634756d4779",
      "991e33644181496487de4f65226067f7",
      "0a51a9504c66433e8a3afd4abac9ee8e",
      "bc91faa30b99471fb0e7c849924af60d",
      "74ecb6861dc5402a89a60c0a6ba4acdf",
      "f23c2e59ee204f88b6f9de056a75fd67",
      "5aa8eb07ccce4d10a80243d1b116da69",
      "ac49d2f3b1534b5f8bf349f89fad717e",
      "03b5abe8e2a143a48592b50a660607e3",
      "a627d4d85cf34cd5b60248613d1b6b92",
      "7b9023826b96493c8800d36f73b8b2e4",
      "9ba1c1827cb84065a873ec4f8b32f175",
      "bce38c9c20954638a2ae5d81a00806b8",
      "186f5a13189f4f90a45bb67b5153334d",
      "aadf9532ba5b4d8da5fbec29861ed714",
      "99372b9c4efd4dab8b5ec2f37df01b1c",
      "c32c6121d42b404782265b9728c969e6",
      "3c434cbc1e3c47e0891769a897150c84",
      "6eafc72cf6d44aaf89652d2bfffc05a0",
      "3108c67ace514c88b444738c8a5909e7",
      "6ea04de1aab04017a61f755c92e843da",
      "4a6aebbad1ee447fa829776b6d174dc3",
      "bdb4151245fe44299e88287024def3e1",
      "58f0dd327e264a80b1a57f9184640d78",
      "7c9cee39ece244b4b6388aa9a55d5ab7",
      "8d34bdd407cd444083c9b91bbc8f5f1f",
      "e09b2cd994eb49afa697ef916c893e8e",
      "9df8ca4425aa4b82bcd56c7806a50175",
      "649dfbd9c68e49fa90b56342bb46a33c",
      "83fa2efc216946919c1f19533dab97b0",
      "e31e171bff3d4839973847a7ece4acd2",
      "feea14b6743b49b4b05493f50814c637",
      "19ebfd84ca0245e38644b3ad5b80e8f4",
      "74650ba879c94521a77525298115b0ec",
      "c5e0f80d8b6a40d7b49218ecb7d21a84",
      "2a1e97b52d4a4d3fbb95583a64ba6b5b"
     ]
    },
    "id": "GUOqGHVOIorm",
    "outputId": "8aae917f-7a6e-49eb-bb02-9ad76a2b0ad8",
    "tags": []
   },
   "outputs": [
    {
     "name": "stderr",
     "output_type": "stream",
     "text": [
      "Special tokens have been added in the vocabulary, make sure the associated word embeddings are fine-tuned or trained.\n"
     ]
    },
    {
     "data": {
      "application/vnd.jupyter.widget-view+json": {
       "model_id": "12f30aa0425345fc9c1b86390fb2730d",
       "version_major": 2,
       "version_minor": 0
      },
      "text/plain": [
       "Loading checkpoint shards:   0%|          | 0/4 [00:00<?, ?it/s]"
      ]
     },
     "metadata": {},
     "output_type": "display_data"
    }
   ],
   "source": [
    "LLM_MODEL_PATH = 'meta-llama/Meta-Llama-3-8B'\n",
    "from transformers import AutoModelForCausalLM, AutoTokenizer\n",
    "\n",
    "\n",
    "tokenizer = AutoTokenizer.from_pretrained(LLM_MODEL_PATH, use_fast = True, device_map = 'cuda')\n",
    "model = AutoModelForCausalLM.from_pretrained(LLM_MODEL_PATH,\n",
    "                                             low_cpu_mem_usage = True,      # 학습 중 out of memory가 뜨는 것을 막기 위해 CPU 사용 허용함\n",
    "                                             quantization_config=quant_config,\n",
    "                                             device_map = 'cuda'\n",
    "                                             )"
   ]
  },
  {
   "cell_type": "markdown",
   "metadata": {
    "id": "WIa10oKlIoro"
   },
   "source": [
    "---"
   ]
  },
  {
   "cell_type": "markdown",
   "metadata": {
    "id": "MiV6VggQRfs1"
   },
   "source": [
    "## RAG Chain"
   ]
  },
  {
   "cell_type": "code",
   "execution_count": 42,
   "metadata": {
    "id": "re2ptCtrSNQI",
    "tags": []
   },
   "outputs": [],
   "source": [
    "from langchain_core.runnables import RunnablePassthrough\n",
    "from langchain_core.output_parsers import StrOutputParser\n",
    "from langchain.chains import RetrievalQA\n",
    "import transformers\n",
    "import time\n",
    "\n",
    "from langchain.llms import HuggingFacePipeline"
   ]
  },
  {
   "cell_type": "code",
   "execution_count": 43,
   "metadata": {
    "id": "MwtnOwUUxHPs",
    "tags": []
   },
   "outputs": [],
   "source": [
    "query_pipeline = transformers.pipeline(\n",
    "    \"text-generation\",\n",
    "    model=model,\n",
    "    tokenizer = tokenizer,\n",
    "    torch_dtype=torch.float16,\n",
    "    device_map=\"auto\",          # GPU 8개를 쓴다면 자동적으로 GPU 전체에 분산시켜줌\n",
    "    max_new_tokens = 300,\n",
    "    do_sample = True,\n",
    "    # num_return_sequences = 1      # default 값임\n",
    ")"
   ]
  },
  {
   "cell_type": "code",
   "execution_count": 44,
   "metadata": {
    "executionInfo": {
     "elapsed": 14,
     "status": "ok",
     "timestamp": 1713758165665,
     "user": {
      "displayName": "조선아",
      "userId": "02017584329632875227"
     },
     "user_tz": -540
    },
    "id": "JSbcEArJuRu7",
    "tags": []
   },
   "outputs": [],
   "source": [
    "llm = HuggingFacePipeline(pipeline=query_pipeline)"
   ]
  },
  {
   "cell_type": "code",
   "execution_count": null,
   "metadata": {},
   "outputs": [],
   "source": [
    "rag_chain = (\n",
    "    {\"context\": retriever, \"question\": RunnablePassthrough()}\n",
    "    | prompt\n",
    "    | llm\n",
    "    | StrOutputParser()\n",
    ")\n",
    "\n",
    "question = \"가그린목액에 대해 설명해주세요\"\n",
    "response = rag_chain.invoke(question)"
   ]
  },
  {
   "cell_type": "code",
   "execution_count": null,
   "metadata": {},
   "outputs": [],
   "source": [
    "print(response)"
   ]
  },
  {
   "cell_type": "code",
   "execution_count": 45,
   "metadata": {
    "executionInfo": {
     "elapsed": 13,
     "status": "ok",
     "timestamp": 1713758165665,
     "user": {
      "displayName": "조선아",
      "userId": "02017584329632875227"
     },
     "user_tz": -540
    },
    "id": "IANxZDHMvs9c",
    "tags": []
   },
   "outputs": [],
   "source": [
    "qa = RetrievalQA.from_chain_type(\n",
    "    llm=llm,\n",
    "    chain_type=\"stuff\",\n",
    "    retriever=retriever,\n",
    "    verbose=True,\n",
    "    return_source_documents = True\n",
    ")"
   ]
  },
  {
   "cell_type": "code",
   "execution_count": null,
   "metadata": {
    "colab": {
     "base_uri": "https://localhost:8080/"
    },
    "executionInfo": {
     "elapsed": 150448,
     "status": "ok",
     "timestamp": 1713758316100,
     "user": {
      "displayName": "조선아",
      "userId": "02017584329632875227"
     },
     "user_tz": -540
    },
    "id": "YXktMA-2v5lv",
    "outputId": "b1ab5360-f242-40e5-aa3e-852efce9c1d7",
    "tags": []
   },
   "outputs": [],
   "source": [
    "answer = qa.invoke(\"가그린목액에 대해 설명해주세요\")\n",
    "answer"
   ]
  },
  {
   "cell_type": "code",
   "execution_count": null,
   "metadata": {
    "tags": []
   },
   "outputs": [],
   "source": [
    "answer = qa.invoke(\"가나릴정에 대해 설명해주세요\")\n",
    "answer"
   ]
  }
 ],
 "metadata": {
  "accelerator": "GPU",
  "colab": {
   "gpuType": "T4",
   "provenance": []
  },
  "kernelspec": {
   "display_name": "Python 3 (Local)",
   "language": "python",
   "name": "python3"
  },
  "language_info": {
   "codemirror_mode": {
    "name": "ipython",
    "version": 3
   },
   "file_extension": ".py",
   "mimetype": "text/x-python",
   "name": "python",
   "nbconvert_exporter": "python",
   "pygments_lexer": "ipython3",
   "version": "3.10.14"
  },
  "widgets": {
   "application/vnd.jupyter.widget-state+json": {
    "03b5abe8e2a143a48592b50a660607e3": {
     "model_module": "@jupyter-widgets/base",
     "model_module_version": "1.2.0",
     "model_name": "LayoutModel",
     "state": {
      "_model_module": "@jupyter-widgets/base",
      "_model_module_version": "1.2.0",
      "_model_name": "LayoutModel",
      "_view_count": null,
      "_view_module": "@jupyter-widgets/base",
      "_view_module_version": "1.2.0",
      "_view_name": "LayoutView",
      "align_content": null,
      "align_items": null,
      "align_self": null,
      "border": null,
      "bottom": null,
      "display": null,
      "flex": null,
      "flex_flow": null,
      "grid_area": null,
      "grid_auto_columns": null,
      "grid_auto_flow": null,
      "grid_auto_rows": null,
      "grid_column": null,
      "grid_gap": null,
      "grid_row": null,
      "grid_template_areas": null,
      "grid_template_columns": null,
      "grid_template_rows": null,
      "height": null,
      "justify_content": null,
      "justify_items": null,
      "left": null,
      "margin": null,
      "max_height": null,
      "max_width": null,
      "min_height": null,
      "min_width": null,
      "object_fit": null,
      "object_position": null,
      "order": null,
      "overflow": null,
      "overflow_x": null,
      "overflow_y": null,
      "padding": null,
      "right": null,
      "top": null,
      "visibility": null,
      "width": null
     }
    },
    "08f2389dfc82408795cf379a80fa3972": {
     "model_module": "@jupyter-widgets/controls",
     "model_module_version": "1.5.0",
     "model_name": "FloatProgressModel",
     "state": {
      "_dom_classes": [],
      "_model_module": "@jupyter-widgets/controls",
      "_model_module_version": "1.5.0",
      "_model_name": "FloatProgressModel",
      "_view_count": null,
      "_view_module": "@jupyter-widgets/controls",
      "_view_module_version": "1.5.0",
      "_view_name": "ProgressView",
      "bar_style": "success",
      "description": "",
      "description_tooltip": null,
      "layout": "IPY_MODEL_7476ae20371949abb4d58b2188cc15b2",
      "max": 9084490,
      "min": 0,
      "orientation": "horizontal",
      "style": "IPY_MODEL_79193ac66d2b47669e1096322b806cbb",
      "value": 9084490
     }
    },
    "0a51a9504c66433e8a3afd4abac9ee8e": {
     "model_module": "@jupyter-widgets/controls",
     "model_module_version": "1.5.0",
     "model_name": "DescriptionStyleModel",
     "state": {
      "_model_module": "@jupyter-widgets/controls",
      "_model_module_version": "1.5.0",
      "_model_name": "DescriptionStyleModel",
      "_view_count": null,
      "_view_module": "@jupyter-widgets/base",
      "_view_module_version": "1.2.0",
      "_view_name": "StyleView",
      "description_width": ""
     }
    },
    "14e9c32cbc9049839fad580432ebf79f": {
     "model_module": "@jupyter-widgets/controls",
     "model_module_version": "1.5.0",
     "model_name": "HBoxModel",
     "state": {
      "_dom_classes": [],
      "_model_module": "@jupyter-widgets/controls",
      "_model_module_version": "1.5.0",
      "_model_name": "HBoxModel",
      "_view_count": null,
      "_view_module": "@jupyter-widgets/controls",
      "_view_module_version": "1.5.0",
      "_view_name": "HBoxView",
      "box_style": "",
      "children": [
       "IPY_MODEL_ee09cecad90141f4aef194c581205bec",
       "IPY_MODEL_b747128228e2454aae821ebc9bb9ea50",
       "IPY_MODEL_878848fd0f2541059632ab17266f727a"
      ],
      "layout": "IPY_MODEL_72a50cad96f24abb96cca7ed4b679d02"
     }
    },
    "186f5a13189f4f90a45bb67b5153334d": {
     "model_module": "@jupyter-widgets/controls",
     "model_module_version": "1.5.0",
     "model_name": "DescriptionStyleModel",
     "state": {
      "_model_module": "@jupyter-widgets/controls",
      "_model_module_version": "1.5.0",
      "_model_name": "DescriptionStyleModel",
      "_view_count": null,
      "_view_module": "@jupyter-widgets/base",
      "_view_module_version": "1.2.0",
      "_view_name": "StyleView",
      "description_width": ""
     }
    },
    "19ebfd84ca0245e38644b3ad5b80e8f4": {
     "model_module": "@jupyter-widgets/base",
     "model_module_version": "1.2.0",
     "model_name": "LayoutModel",
     "state": {
      "_model_module": "@jupyter-widgets/base",
      "_model_module_version": "1.2.0",
      "_model_name": "LayoutModel",
      "_view_count": null,
      "_view_module": "@jupyter-widgets/base",
      "_view_module_version": "1.2.0",
      "_view_name": "LayoutView",
      "align_content": null,
      "align_items": null,
      "align_self": null,
      "border": null,
      "bottom": null,
      "display": null,
      "flex": null,
      "flex_flow": null,
      "grid_area": null,
      "grid_auto_columns": null,
      "grid_auto_flow": null,
      "grid_auto_rows": null,
      "grid_column": null,
      "grid_gap": null,
      "grid_row": null,
      "grid_template_areas": null,
      "grid_template_columns": null,
      "grid_template_rows": null,
      "height": null,
      "justify_content": null,
      "justify_items": null,
      "left": null,
      "margin": null,
      "max_height": null,
      "max_width": null,
      "min_height": null,
      "min_width": null,
      "object_fit": null,
      "object_position": null,
      "order": null,
      "overflow": null,
      "overflow_x": null,
      "overflow_y": null,
      "padding": null,
      "right": null,
      "top": null,
      "visibility": null,
      "width": null
     }
    },
    "1dd6ab7404cf4118a1964430b4c1dcb6": {
     "model_module": "@jupyter-widgets/base",
     "model_module_version": "1.2.0",
     "model_name": "LayoutModel",
     "state": {
      "_model_module": "@jupyter-widgets/base",
      "_model_module_version": "1.2.0",
      "_model_name": "LayoutModel",
      "_view_count": null,
      "_view_module": "@jupyter-widgets/base",
      "_view_module_version": "1.2.0",
      "_view_name": "LayoutView",
      "align_content": null,
      "align_items": null,
      "align_self": null,
      "border": null,
      "bottom": null,
      "display": null,
      "flex": null,
      "flex_flow": null,
      "grid_area": null,
      "grid_auto_columns": null,
      "grid_auto_flow": null,
      "grid_auto_rows": null,
      "grid_column": null,
      "grid_gap": null,
      "grid_row": null,
      "grid_template_areas": null,
      "grid_template_columns": null,
      "grid_template_rows": null,
      "height": null,
      "justify_content": null,
      "justify_items": null,
      "left": null,
      "margin": null,
      "max_height": null,
      "max_width": null,
      "min_height": null,
      "min_width": null,
      "object_fit": null,
      "object_position": null,
      "order": null,
      "overflow": null,
      "overflow_x": null,
      "overflow_y": null,
      "padding": null,
      "right": null,
      "top": null,
      "visibility": null,
      "width": null
     }
    },
    "2a1e97b52d4a4d3fbb95583a64ba6b5b": {
     "model_module": "@jupyter-widgets/controls",
     "model_module_version": "1.5.0",
     "model_name": "DescriptionStyleModel",
     "state": {
      "_model_module": "@jupyter-widgets/controls",
      "_model_module_version": "1.5.0",
      "_model_name": "DescriptionStyleModel",
      "_view_count": null,
      "_view_module": "@jupyter-widgets/base",
      "_view_module_version": "1.2.0",
      "_view_name": "StyleView",
      "description_width": ""
     }
    },
    "2c1638de96144697887afeaae207db49": {
     "model_module": "@jupyter-widgets/controls",
     "model_module_version": "1.5.0",
     "model_name": "DescriptionStyleModel",
     "state": {
      "_model_module": "@jupyter-widgets/controls",
      "_model_module_version": "1.5.0",
      "_model_name": "DescriptionStyleModel",
      "_view_count": null,
      "_view_module": "@jupyter-widgets/base",
      "_view_module_version": "1.2.0",
      "_view_name": "StyleView",
      "description_width": ""
     }
    },
    "3108c67ace514c88b444738c8a5909e7": {
     "model_module": "@jupyter-widgets/base",
     "model_module_version": "1.2.0",
     "model_name": "LayoutModel",
     "state": {
      "_model_module": "@jupyter-widgets/base",
      "_model_module_version": "1.2.0",
      "_model_name": "LayoutModel",
      "_view_count": null,
      "_view_module": "@jupyter-widgets/base",
      "_view_module_version": "1.2.0",
      "_view_name": "LayoutView",
      "align_content": null,
      "align_items": null,
      "align_self": null,
      "border": null,
      "bottom": null,
      "display": null,
      "flex": null,
      "flex_flow": null,
      "grid_area": null,
      "grid_auto_columns": null,
      "grid_auto_flow": null,
      "grid_auto_rows": null,
      "grid_column": null,
      "grid_gap": null,
      "grid_row": null,
      "grid_template_areas": null,
      "grid_template_columns": null,
      "grid_template_rows": null,
      "height": null,
      "justify_content": null,
      "justify_items": null,
      "left": null,
      "margin": null,
      "max_height": null,
      "max_width": null,
      "min_height": null,
      "min_width": null,
      "object_fit": null,
      "object_position": null,
      "order": null,
      "overflow": null,
      "overflow_x": null,
      "overflow_y": null,
      "padding": null,
      "right": null,
      "top": null,
      "visibility": null,
      "width": null
     }
    },
    "31213b76afdf4f83865a3cafab51a932": {
     "model_module": "@jupyter-widgets/base",
     "model_module_version": "1.2.0",
     "model_name": "LayoutModel",
     "state": {
      "_model_module": "@jupyter-widgets/base",
      "_model_module_version": "1.2.0",
      "_model_name": "LayoutModel",
      "_view_count": null,
      "_view_module": "@jupyter-widgets/base",
      "_view_module_version": "1.2.0",
      "_view_name": "LayoutView",
      "align_content": null,
      "align_items": null,
      "align_self": null,
      "border": null,
      "bottom": null,
      "display": null,
      "flex": null,
      "flex_flow": null,
      "grid_area": null,
      "grid_auto_columns": null,
      "grid_auto_flow": null,
      "grid_auto_rows": null,
      "grid_column": null,
      "grid_gap": null,
      "grid_row": null,
      "grid_template_areas": null,
      "grid_template_columns": null,
      "grid_template_rows": null,
      "height": null,
      "justify_content": null,
      "justify_items": null,
      "left": null,
      "margin": null,
      "max_height": null,
      "max_width": null,
      "min_height": null,
      "min_width": null,
      "object_fit": null,
      "object_position": null,
      "order": null,
      "overflow": null,
      "overflow_x": null,
      "overflow_y": null,
      "padding": null,
      "right": null,
      "top": null,
      "visibility": null,
      "width": null
     }
    },
    "31e85ac3e0954b77954622cb13a03d36": {
     "model_module": "@jupyter-widgets/controls",
     "model_module_version": "1.5.0",
     "model_name": "ProgressStyleModel",
     "state": {
      "_model_module": "@jupyter-widgets/controls",
      "_model_module_version": "1.5.0",
      "_model_name": "ProgressStyleModel",
      "_view_count": null,
      "_view_module": "@jupyter-widgets/base",
      "_view_module_version": "1.2.0",
      "_view_name": "StyleView",
      "bar_color": null,
      "description_width": ""
     }
    },
    "32145c378fab47f98a17bbc446d6d003": {
     "model_module": "@jupyter-widgets/controls",
     "model_module_version": "1.5.0",
     "model_name": "ProgressStyleModel",
     "state": {
      "_model_module": "@jupyter-widgets/controls",
      "_model_module_version": "1.5.0",
      "_model_name": "ProgressStyleModel",
      "_view_count": null,
      "_view_module": "@jupyter-widgets/base",
      "_view_module_version": "1.2.0",
      "_view_name": "StyleView",
      "bar_color": null,
      "description_width": ""
     }
    },
    "33eebed8093c4891a874cebaf44adee9": {
     "model_module": "@jupyter-widgets/base",
     "model_module_version": "1.2.0",
     "model_name": "LayoutModel",
     "state": {
      "_model_module": "@jupyter-widgets/base",
      "_model_module_version": "1.2.0",
      "_model_name": "LayoutModel",
      "_view_count": null,
      "_view_module": "@jupyter-widgets/base",
      "_view_module_version": "1.2.0",
      "_view_name": "LayoutView",
      "align_content": null,
      "align_items": null,
      "align_self": null,
      "border": null,
      "bottom": null,
      "display": null,
      "flex": null,
      "flex_flow": null,
      "grid_area": null,
      "grid_auto_columns": null,
      "grid_auto_flow": null,
      "grid_auto_rows": null,
      "grid_column": null,
      "grid_gap": null,
      "grid_row": null,
      "grid_template_areas": null,
      "grid_template_columns": null,
      "grid_template_rows": null,
      "height": null,
      "justify_content": null,
      "justify_items": null,
      "left": null,
      "margin": null,
      "max_height": null,
      "max_width": null,
      "min_height": null,
      "min_width": null,
      "object_fit": null,
      "object_position": null,
      "order": null,
      "overflow": null,
      "overflow_x": null,
      "overflow_y": null,
      "padding": null,
      "right": null,
      "top": null,
      "visibility": null,
      "width": null
     }
    },
    "3c434cbc1e3c47e0891769a897150c84": {
     "model_module": "@jupyter-widgets/controls",
     "model_module_version": "1.5.0",
     "model_name": "HTMLModel",
     "state": {
      "_dom_classes": [],
      "_model_module": "@jupyter-widgets/controls",
      "_model_module_version": "1.5.0",
      "_model_name": "HTMLModel",
      "_view_count": null,
      "_view_module": "@jupyter-widgets/controls",
      "_view_module_version": "1.5.0",
      "_view_name": "HTMLView",
      "description": "",
      "description_tooltip": null,
      "layout": "IPY_MODEL_58f0dd327e264a80b1a57f9184640d78",
      "placeholder": "​",
      "style": "IPY_MODEL_7c9cee39ece244b4b6388aa9a55d5ab7",
      "value": " 0/4 [00:00&lt;?, ?it/s]"
     }
    },
    "487af6dd54bb478d8dc70c61f0dbbe02": {
     "model_module": "@jupyter-widgets/base",
     "model_module_version": "1.2.0",
     "model_name": "LayoutModel",
     "state": {
      "_model_module": "@jupyter-widgets/base",
      "_model_module_version": "1.2.0",
      "_model_name": "LayoutModel",
      "_view_count": null,
      "_view_module": "@jupyter-widgets/base",
      "_view_module_version": "1.2.0",
      "_view_name": "LayoutView",
      "align_content": null,
      "align_items": null,
      "align_self": null,
      "border": null,
      "bottom": null,
      "display": null,
      "flex": null,
      "flex_flow": null,
      "grid_area": null,
      "grid_auto_columns": null,
      "grid_auto_flow": null,
      "grid_auto_rows": null,
      "grid_column": null,
      "grid_gap": null,
      "grid_row": null,
      "grid_template_areas": null,
      "grid_template_columns": null,
      "grid_template_rows": null,
      "height": null,
      "justify_content": null,
      "justify_items": null,
      "left": null,
      "margin": null,
      "max_height": null,
      "max_width": null,
      "min_height": null,
      "min_width": null,
      "object_fit": null,
      "object_position": null,
      "order": null,
      "overflow": null,
      "overflow_x": null,
      "overflow_y": null,
      "padding": null,
      "right": null,
      "top": null,
      "visibility": null,
      "width": null
     }
    },
    "4a6aebbad1ee447fa829776b6d174dc3": {
     "model_module": "@jupyter-widgets/base",
     "model_module_version": "1.2.0",
     "model_name": "LayoutModel",
     "state": {
      "_model_module": "@jupyter-widgets/base",
      "_model_module_version": "1.2.0",
      "_model_name": "LayoutModel",
      "_view_count": null,
      "_view_module": "@jupyter-widgets/base",
      "_view_module_version": "1.2.0",
      "_view_name": "LayoutView",
      "align_content": null,
      "align_items": null,
      "align_self": null,
      "border": null,
      "bottom": null,
      "display": null,
      "flex": null,
      "flex_flow": null,
      "grid_area": null,
      "grid_auto_columns": null,
      "grid_auto_flow": null,
      "grid_auto_rows": null,
      "grid_column": null,
      "grid_gap": null,
      "grid_row": null,
      "grid_template_areas": null,
      "grid_template_columns": null,
      "grid_template_rows": null,
      "height": null,
      "justify_content": null,
      "justify_items": null,
      "left": null,
      "margin": null,
      "max_height": null,
      "max_width": null,
      "min_height": null,
      "min_width": null,
      "object_fit": null,
      "object_position": null,
      "order": null,
      "overflow": null,
      "overflow_x": null,
      "overflow_y": null,
      "padding": null,
      "right": null,
      "top": null,
      "visibility": null,
      "width": null
     }
    },
    "51a1d6ad629b41e3b9b3768ab19797a5": {
     "model_module": "@jupyter-widgets/controls",
     "model_module_version": "1.5.0",
     "model_name": "HTMLModel",
     "state": {
      "_dom_classes": [],
      "_model_module": "@jupyter-widgets/controls",
      "_model_module_version": "1.5.0",
      "_model_name": "HTMLModel",
      "_view_count": null,
      "_view_module": "@jupyter-widgets/controls",
      "_view_module_version": "1.5.0",
      "_view_name": "HTMLView",
      "description": "",
      "description_tooltip": null,
      "layout": "IPY_MODEL_81568670b3c848428c40e6c22471843a",
      "placeholder": "​",
      "style": "IPY_MODEL_52ec9866c3074c8b8fcab66408d99c97",
      "value": "tokenizer.json: 100%"
     }
    },
    "52ec9866c3074c8b8fcab66408d99c97": {
     "model_module": "@jupyter-widgets/controls",
     "model_module_version": "1.5.0",
     "model_name": "DescriptionStyleModel",
     "state": {
      "_model_module": "@jupyter-widgets/controls",
      "_model_module_version": "1.5.0",
      "_model_name": "DescriptionStyleModel",
      "_view_count": null,
      "_view_module": "@jupyter-widgets/base",
      "_view_module_version": "1.2.0",
      "_view_name": "StyleView",
      "description_width": ""
     }
    },
    "536e7237ffa54d57824976ef1a5b52ec": {
     "model_module": "@jupyter-widgets/controls",
     "model_module_version": "1.5.0",
     "model_name": "HBoxModel",
     "state": {
      "_dom_classes": [],
      "_model_module": "@jupyter-widgets/controls",
      "_model_module_version": "1.5.0",
      "_model_name": "HBoxModel",
      "_view_count": null,
      "_view_module": "@jupyter-widgets/controls",
      "_view_module_version": "1.5.0",
      "_view_name": "HBoxView",
      "box_style": "",
      "children": [
       "IPY_MODEL_51a1d6ad629b41e3b9b3768ab19797a5",
       "IPY_MODEL_08f2389dfc82408795cf379a80fa3972",
       "IPY_MODEL_f9f646eeffcb44e7b1d5f0370292edd5"
      ],
      "layout": "IPY_MODEL_c62f1e4921a34862b0f4f5ac23ad6b8d"
     }
    },
    "58f0dd327e264a80b1a57f9184640d78": {
     "model_module": "@jupyter-widgets/base",
     "model_module_version": "1.2.0",
     "model_name": "LayoutModel",
     "state": {
      "_model_module": "@jupyter-widgets/base",
      "_model_module_version": "1.2.0",
      "_model_name": "LayoutModel",
      "_view_count": null,
      "_view_module": "@jupyter-widgets/base",
      "_view_module_version": "1.2.0",
      "_view_name": "LayoutView",
      "align_content": null,
      "align_items": null,
      "align_self": null,
      "border": null,
      "bottom": null,
      "display": null,
      "flex": null,
      "flex_flow": null,
      "grid_area": null,
      "grid_auto_columns": null,
      "grid_auto_flow": null,
      "grid_auto_rows": null,
      "grid_column": null,
      "grid_gap": null,
      "grid_row": null,
      "grid_template_areas": null,
      "grid_template_columns": null,
      "grid_template_rows": null,
      "height": null,
      "justify_content": null,
      "justify_items": null,
      "left": null,
      "margin": null,
      "max_height": null,
      "max_width": null,
      "min_height": null,
      "min_width": null,
      "object_fit": null,
      "object_position": null,
      "order": null,
      "overflow": null,
      "overflow_x": null,
      "overflow_y": null,
      "padding": null,
      "right": null,
      "top": null,
      "visibility": null,
      "width": null
     }
    },
    "59be698078464662a29dada61b920f1e": {
     "model_module": "@jupyter-widgets/controls",
     "model_module_version": "1.5.0",
     "model_name": "HTMLModel",
     "state": {
      "_dom_classes": [],
      "_model_module": "@jupyter-widgets/controls",
      "_model_module_version": "1.5.0",
      "_model_name": "HTMLModel",
      "_view_count": null,
      "_view_module": "@jupyter-widgets/controls",
      "_view_module_version": "1.5.0",
      "_view_name": "HTMLView",
      "description": "",
      "description_tooltip": null,
      "layout": "IPY_MODEL_85839098676d42a9989811c22bf305fa",
      "placeholder": "​",
      "style": "IPY_MODEL_db2ed46ddeaa4b1f8034ebfe42b28d3f",
      "value": "tokenizer_config.json: 100%"
     }
    },
    "5aa8eb07ccce4d10a80243d1b116da69": {
     "model_module": "@jupyter-widgets/controls",
     "model_module_version": "1.5.0",
     "model_name": "HTMLModel",
     "state": {
      "_dom_classes": [],
      "_model_module": "@jupyter-widgets/controls",
      "_model_module_version": "1.5.0",
      "_model_name": "HTMLModel",
      "_view_count": null,
      "_view_module": "@jupyter-widgets/controls",
      "_view_module_version": "1.5.0",
      "_view_name": "HTMLView",
      "description": "",
      "description_tooltip": null,
      "layout": "IPY_MODEL_bce38c9c20954638a2ae5d81a00806b8",
      "placeholder": "​",
      "style": "IPY_MODEL_186f5a13189f4f90a45bb67b5153334d",
      "value": " 23.9k/23.9k [00:00&lt;00:00, 422kB/s]"
     }
    },
    "649dfbd9c68e49fa90b56342bb46a33c": {
     "model_module": "@jupyter-widgets/controls",
     "model_module_version": "1.5.0",
     "model_name": "HTMLModel",
     "state": {
      "_dom_classes": [],
      "_model_module": "@jupyter-widgets/controls",
      "_model_module_version": "1.5.0",
      "_model_name": "HTMLModel",
      "_view_count": null,
      "_view_module": "@jupyter-widgets/controls",
      "_view_module_version": "1.5.0",
      "_view_name": "HTMLView",
      "description": "",
      "description_tooltip": null,
      "layout": "IPY_MODEL_c5e0f80d8b6a40d7b49218ecb7d21a84",
      "placeholder": "​",
      "style": "IPY_MODEL_2a1e97b52d4a4d3fbb95583a64ba6b5b",
      "value": " 2.60G/4.98G [00:18&lt;00:16, 145MB/s]"
     }
    },
    "69835e1d1b8a4112ae86ba608b44aa52": {
     "model_module": "@jupyter-widgets/controls",
     "model_module_version": "1.5.0",
     "model_name": "HTMLModel",
     "state": {
      "_dom_classes": [],
      "_model_module": "@jupyter-widgets/controls",
      "_model_module_version": "1.5.0",
      "_model_name": "HTMLModel",
      "_view_count": null,
      "_view_module": "@jupyter-widgets/controls",
      "_view_module_version": "1.5.0",
      "_view_name": "HTMLView",
      "description": "",
      "description_tooltip": null,
      "layout": "IPY_MODEL_33eebed8093c4891a874cebaf44adee9",
      "placeholder": "​",
      "style": "IPY_MODEL_9ee87be0af5b4cd2bf06813d2dc65bd8",
      "value": "config.json: 100%"
     }
    },
    "6ea04de1aab04017a61f755c92e843da": {
     "model_module": "@jupyter-widgets/controls",
     "model_module_version": "1.5.0",
     "model_name": "DescriptionStyleModel",
     "state": {
      "_model_module": "@jupyter-widgets/controls",
      "_model_module_version": "1.5.0",
      "_model_name": "DescriptionStyleModel",
      "_view_count": null,
      "_view_module": "@jupyter-widgets/base",
      "_view_module_version": "1.2.0",
      "_view_name": "StyleView",
      "description_width": ""
     }
    },
    "6eafc72cf6d44aaf89652d2bfffc05a0": {
     "model_module": "@jupyter-widgets/base",
     "model_module_version": "1.2.0",
     "model_name": "LayoutModel",
     "state": {
      "_model_module": "@jupyter-widgets/base",
      "_model_module_version": "1.2.0",
      "_model_name": "LayoutModel",
      "_view_count": null,
      "_view_module": "@jupyter-widgets/base",
      "_view_module_version": "1.2.0",
      "_view_name": "LayoutView",
      "align_content": null,
      "align_items": null,
      "align_self": null,
      "border": null,
      "bottom": null,
      "display": null,
      "flex": null,
      "flex_flow": null,
      "grid_area": null,
      "grid_auto_columns": null,
      "grid_auto_flow": null,
      "grid_auto_rows": null,
      "grid_column": null,
      "grid_gap": null,
      "grid_row": null,
      "grid_template_areas": null,
      "grid_template_columns": null,
      "grid_template_rows": null,
      "height": null,
      "justify_content": null,
      "justify_items": null,
      "left": null,
      "margin": null,
      "max_height": null,
      "max_width": null,
      "min_height": null,
      "min_width": null,
      "object_fit": null,
      "object_position": null,
      "order": null,
      "overflow": null,
      "overflow_x": null,
      "overflow_y": null,
      "padding": null,
      "right": null,
      "top": null,
      "visibility": null,
      "width": null
     }
    },
    "7121113e0abc4fe9a790861cba94ae6f": {
     "model_module": "@jupyter-widgets/controls",
     "model_module_version": "1.5.0",
     "model_name": "HTMLModel",
     "state": {
      "_dom_classes": [],
      "_model_module": "@jupyter-widgets/controls",
      "_model_module_version": "1.5.0",
      "_model_name": "HTMLModel",
      "_view_count": null,
      "_view_module": "@jupyter-widgets/controls",
      "_view_module_version": "1.5.0",
      "_view_name": "HTMLView",
      "description": "",
      "description_tooltip": null,
      "layout": "IPY_MODEL_991e33644181496487de4f65226067f7",
      "placeholder": "​",
      "style": "IPY_MODEL_0a51a9504c66433e8a3afd4abac9ee8e",
      "value": " 654/654 [00:00&lt;00:00, 43.0kB/s]"
     }
    },
    "7192eb876b974a3eabe810cfd44fe335": {
     "model_module": "@jupyter-widgets/controls",
     "model_module_version": "1.5.0",
     "model_name": "HBoxModel",
     "state": {
      "_dom_classes": [],
      "_model_module": "@jupyter-widgets/controls",
      "_model_module_version": "1.5.0",
      "_model_name": "HBoxModel",
      "_view_count": null,
      "_view_module": "@jupyter-widgets/controls",
      "_view_module_version": "1.5.0",
      "_view_name": "HBoxView",
      "box_style": "",
      "children": [
       "IPY_MODEL_59be698078464662a29dada61b920f1e",
       "IPY_MODEL_f448389ec8624cc3aa56ad02cfe9cb4d",
       "IPY_MODEL_a4a2183632e74f65a13a0877d4da004e"
      ],
      "layout": "IPY_MODEL_31213b76afdf4f83865a3cafab51a932"
     }
    },
    "72a50cad96f24abb96cca7ed4b679d02": {
     "model_module": "@jupyter-widgets/base",
     "model_module_version": "1.2.0",
     "model_name": "LayoutModel",
     "state": {
      "_model_module": "@jupyter-widgets/base",
      "_model_module_version": "1.2.0",
      "_model_name": "LayoutModel",
      "_view_count": null,
      "_view_module": "@jupyter-widgets/base",
      "_view_module_version": "1.2.0",
      "_view_name": "LayoutView",
      "align_content": null,
      "align_items": null,
      "align_self": null,
      "border": null,
      "bottom": null,
      "display": null,
      "flex": null,
      "flex_flow": null,
      "grid_area": null,
      "grid_auto_columns": null,
      "grid_auto_flow": null,
      "grid_auto_rows": null,
      "grid_column": null,
      "grid_gap": null,
      "grid_row": null,
      "grid_template_areas": null,
      "grid_template_columns": null,
      "grid_template_rows": null,
      "height": null,
      "justify_content": null,
      "justify_items": null,
      "left": null,
      "margin": null,
      "max_height": null,
      "max_width": null,
      "min_height": null,
      "min_width": null,
      "object_fit": null,
      "object_position": null,
      "order": null,
      "overflow": null,
      "overflow_x": null,
      "overflow_y": null,
      "padding": null,
      "right": null,
      "top": null,
      "visibility": null,
      "width": null
     }
    },
    "74650ba879c94521a77525298115b0ec": {
     "model_module": "@jupyter-widgets/controls",
     "model_module_version": "1.5.0",
     "model_name": "ProgressStyleModel",
     "state": {
      "_model_module": "@jupyter-widgets/controls",
      "_model_module_version": "1.5.0",
      "_model_name": "ProgressStyleModel",
      "_view_count": null,
      "_view_module": "@jupyter-widgets/base",
      "_view_module_version": "1.2.0",
      "_view_name": "StyleView",
      "bar_color": null,
      "description_width": ""
     }
    },
    "7476ae20371949abb4d58b2188cc15b2": {
     "model_module": "@jupyter-widgets/base",
     "model_module_version": "1.2.0",
     "model_name": "LayoutModel",
     "state": {
      "_model_module": "@jupyter-widgets/base",
      "_model_module_version": "1.2.0",
      "_model_name": "LayoutModel",
      "_view_count": null,
      "_view_module": "@jupyter-widgets/base",
      "_view_module_version": "1.2.0",
      "_view_name": "LayoutView",
      "align_content": null,
      "align_items": null,
      "align_self": null,
      "border": null,
      "bottom": null,
      "display": null,
      "flex": null,
      "flex_flow": null,
      "grid_area": null,
      "grid_auto_columns": null,
      "grid_auto_flow": null,
      "grid_auto_rows": null,
      "grid_column": null,
      "grid_gap": null,
      "grid_row": null,
      "grid_template_areas": null,
      "grid_template_columns": null,
      "grid_template_rows": null,
      "height": null,
      "justify_content": null,
      "justify_items": null,
      "left": null,
      "margin": null,
      "max_height": null,
      "max_width": null,
      "min_height": null,
      "min_width": null,
      "object_fit": null,
      "object_position": null,
      "order": null,
      "overflow": null,
      "overflow_x": null,
      "overflow_y": null,
      "padding": null,
      "right": null,
      "top": null,
      "visibility": null,
      "width": null
     }
    },
    "74ecb6861dc5402a89a60c0a6ba4acdf": {
     "model_module": "@jupyter-widgets/controls",
     "model_module_version": "1.5.0",
     "model_name": "HTMLModel",
     "state": {
      "_dom_classes": [],
      "_model_module": "@jupyter-widgets/controls",
      "_model_module_version": "1.5.0",
      "_model_name": "HTMLModel",
      "_view_count": null,
      "_view_module": "@jupyter-widgets/controls",
      "_view_module_version": "1.5.0",
      "_view_name": "HTMLView",
      "description": "",
      "description_tooltip": null,
      "layout": "IPY_MODEL_03b5abe8e2a143a48592b50a660607e3",
      "placeholder": "​",
      "style": "IPY_MODEL_a627d4d85cf34cd5b60248613d1b6b92",
      "value": "model.safetensors.index.json: 100%"
     }
    },
    "789580073ed04443acabb32e10ffe2a5": {
     "model_module": "@jupyter-widgets/controls",
     "model_module_version": "1.5.0",
     "model_name": "DescriptionStyleModel",
     "state": {
      "_model_module": "@jupyter-widgets/controls",
      "_model_module_version": "1.5.0",
      "_model_name": "DescriptionStyleModel",
      "_view_count": null,
      "_view_module": "@jupyter-widgets/base",
      "_view_module_version": "1.2.0",
      "_view_name": "StyleView",
      "description_width": ""
     }
    },
    "79193ac66d2b47669e1096322b806cbb": {
     "model_module": "@jupyter-widgets/controls",
     "model_module_version": "1.5.0",
     "model_name": "ProgressStyleModel",
     "state": {
      "_model_module": "@jupyter-widgets/controls",
      "_model_module_version": "1.5.0",
      "_model_name": "ProgressStyleModel",
      "_view_count": null,
      "_view_module": "@jupyter-widgets/base",
      "_view_module_version": "1.2.0",
      "_view_name": "StyleView",
      "bar_color": null,
      "description_width": ""
     }
    },
    "7b9023826b96493c8800d36f73b8b2e4": {
     "model_module": "@jupyter-widgets/base",
     "model_module_version": "1.2.0",
     "model_name": "LayoutModel",
     "state": {
      "_model_module": "@jupyter-widgets/base",
      "_model_module_version": "1.2.0",
      "_model_name": "LayoutModel",
      "_view_count": null,
      "_view_module": "@jupyter-widgets/base",
      "_view_module_version": "1.2.0",
      "_view_name": "LayoutView",
      "align_content": null,
      "align_items": null,
      "align_self": null,
      "border": null,
      "bottom": null,
      "display": null,
      "flex": null,
      "flex_flow": null,
      "grid_area": null,
      "grid_auto_columns": null,
      "grid_auto_flow": null,
      "grid_auto_rows": null,
      "grid_column": null,
      "grid_gap": null,
      "grid_row": null,
      "grid_template_areas": null,
      "grid_template_columns": null,
      "grid_template_rows": null,
      "height": null,
      "justify_content": null,
      "justify_items": null,
      "left": null,
      "margin": null,
      "max_height": null,
      "max_width": null,
      "min_height": null,
      "min_width": null,
      "object_fit": null,
      "object_position": null,
      "order": null,
      "overflow": null,
      "overflow_x": null,
      "overflow_y": null,
      "padding": null,
      "right": null,
      "top": null,
      "visibility": null,
      "width": null
     }
    },
    "7c9cee39ece244b4b6388aa9a55d5ab7": {
     "model_module": "@jupyter-widgets/controls",
     "model_module_version": "1.5.0",
     "model_name": "DescriptionStyleModel",
     "state": {
      "_model_module": "@jupyter-widgets/controls",
      "_model_module_version": "1.5.0",
      "_model_name": "DescriptionStyleModel",
      "_view_count": null,
      "_view_module": "@jupyter-widgets/base",
      "_view_module_version": "1.2.0",
      "_view_name": "StyleView",
      "description_width": ""
     }
    },
    "81568670b3c848428c40e6c22471843a": {
     "model_module": "@jupyter-widgets/base",
     "model_module_version": "1.2.0",
     "model_name": "LayoutModel",
     "state": {
      "_model_module": "@jupyter-widgets/base",
      "_model_module_version": "1.2.0",
      "_model_name": "LayoutModel",
      "_view_count": null,
      "_view_module": "@jupyter-widgets/base",
      "_view_module_version": "1.2.0",
      "_view_name": "LayoutView",
      "align_content": null,
      "align_items": null,
      "align_self": null,
      "border": null,
      "bottom": null,
      "display": null,
      "flex": null,
      "flex_flow": null,
      "grid_area": null,
      "grid_auto_columns": null,
      "grid_auto_flow": null,
      "grid_auto_rows": null,
      "grid_column": null,
      "grid_gap": null,
      "grid_row": null,
      "grid_template_areas": null,
      "grid_template_columns": null,
      "grid_template_rows": null,
      "height": null,
      "justify_content": null,
      "justify_items": null,
      "left": null,
      "margin": null,
      "max_height": null,
      "max_width": null,
      "min_height": null,
      "min_width": null,
      "object_fit": null,
      "object_position": null,
      "order": null,
      "overflow": null,
      "overflow_x": null,
      "overflow_y": null,
      "padding": null,
      "right": null,
      "top": null,
      "visibility": null,
      "width": null
     }
    },
    "837e196043ae4971a424b94ab0370b90": {
     "model_module": "@jupyter-widgets/controls",
     "model_module_version": "1.5.0",
     "model_name": "DescriptionStyleModel",
     "state": {
      "_model_module": "@jupyter-widgets/controls",
      "_model_module_version": "1.5.0",
      "_model_name": "DescriptionStyleModel",
      "_view_count": null,
      "_view_module": "@jupyter-widgets/base",
      "_view_module_version": "1.2.0",
      "_view_name": "StyleView",
      "description_width": ""
     }
    },
    "83fa2efc216946919c1f19533dab97b0": {
     "model_module": "@jupyter-widgets/base",
     "model_module_version": "1.2.0",
     "model_name": "LayoutModel",
     "state": {
      "_model_module": "@jupyter-widgets/base",
      "_model_module_version": "1.2.0",
      "_model_name": "LayoutModel",
      "_view_count": null,
      "_view_module": "@jupyter-widgets/base",
      "_view_module_version": "1.2.0",
      "_view_name": "LayoutView",
      "align_content": null,
      "align_items": null,
      "align_self": null,
      "border": null,
      "bottom": null,
      "display": null,
      "flex": null,
      "flex_flow": null,
      "grid_area": null,
      "grid_auto_columns": null,
      "grid_auto_flow": null,
      "grid_auto_rows": null,
      "grid_column": null,
      "grid_gap": null,
      "grid_row": null,
      "grid_template_areas": null,
      "grid_template_columns": null,
      "grid_template_rows": null,
      "height": null,
      "justify_content": null,
      "justify_items": null,
      "left": null,
      "margin": null,
      "max_height": null,
      "max_width": null,
      "min_height": null,
      "min_width": null,
      "object_fit": null,
      "object_position": null,
      "order": null,
      "overflow": null,
      "overflow_x": null,
      "overflow_y": null,
      "padding": null,
      "right": null,
      "top": null,
      "visibility": null,
      "width": null
     }
    },
    "85839098676d42a9989811c22bf305fa": {
     "model_module": "@jupyter-widgets/base",
     "model_module_version": "1.2.0",
     "model_name": "LayoutModel",
     "state": {
      "_model_module": "@jupyter-widgets/base",
      "_model_module_version": "1.2.0",
      "_model_name": "LayoutModel",
      "_view_count": null,
      "_view_module": "@jupyter-widgets/base",
      "_view_module_version": "1.2.0",
      "_view_name": "LayoutView",
      "align_content": null,
      "align_items": null,
      "align_self": null,
      "border": null,
      "bottom": null,
      "display": null,
      "flex": null,
      "flex_flow": null,
      "grid_area": null,
      "grid_auto_columns": null,
      "grid_auto_flow": null,
      "grid_auto_rows": null,
      "grid_column": null,
      "grid_gap": null,
      "grid_row": null,
      "grid_template_areas": null,
      "grid_template_columns": null,
      "grid_template_rows": null,
      "height": null,
      "justify_content": null,
      "justify_items": null,
      "left": null,
      "margin": null,
      "max_height": null,
      "max_width": null,
      "min_height": null,
      "min_width": null,
      "object_fit": null,
      "object_position": null,
      "order": null,
      "overflow": null,
      "overflow_x": null,
      "overflow_y": null,
      "padding": null,
      "right": null,
      "top": null,
      "visibility": null,
      "width": null
     }
    },
    "875aeb23698643739987df037dce0cef": {
     "model_module": "@jupyter-widgets/controls",
     "model_module_version": "1.5.0",
     "model_name": "FloatProgressModel",
     "state": {
      "_dom_classes": [],
      "_model_module": "@jupyter-widgets/controls",
      "_model_module_version": "1.5.0",
      "_model_name": "FloatProgressModel",
      "_view_count": null,
      "_view_module": "@jupyter-widgets/controls",
      "_view_module_version": "1.5.0",
      "_view_name": "ProgressView",
      "bar_style": "success",
      "description": "",
      "description_tooltip": null,
      "layout": "IPY_MODEL_a8b6e5c262c24ca18e76cd7c7bc38ab5",
      "max": 654,
      "min": 0,
      "orientation": "horizontal",
      "style": "IPY_MODEL_d3973adbcb1f4aa4a1582634756d4779",
      "value": 654
     }
    },
    "878848fd0f2541059632ab17266f727a": {
     "model_module": "@jupyter-widgets/controls",
     "model_module_version": "1.5.0",
     "model_name": "HTMLModel",
     "state": {
      "_dom_classes": [],
      "_model_module": "@jupyter-widgets/controls",
      "_model_module_version": "1.5.0",
      "_model_name": "HTMLModel",
      "_view_count": null,
      "_view_module": "@jupyter-widgets/controls",
      "_view_module_version": "1.5.0",
      "_view_name": "HTMLView",
      "description": "",
      "description_tooltip": null,
      "layout": "IPY_MODEL_487af6dd54bb478d8dc70c61f0dbbe02",
      "placeholder": "​",
      "style": "IPY_MODEL_b9cae4c21e504baebda2630901efb433",
      "value": " 73.0/73.0 [00:00&lt;00:00, 5.24kB/s]"
     }
    },
    "8d34bdd407cd444083c9b91bbc8f5f1f": {
     "model_module": "@jupyter-widgets/controls",
     "model_module_version": "1.5.0",
     "model_name": "HBoxModel",
     "state": {
      "_dom_classes": [],
      "_model_module": "@jupyter-widgets/controls",
      "_model_module_version": "1.5.0",
      "_model_name": "HBoxModel",
      "_view_count": null,
      "_view_module": "@jupyter-widgets/controls",
      "_view_module_version": "1.5.0",
      "_view_name": "HBoxView",
      "box_style": "",
      "children": [
       "IPY_MODEL_e09b2cd994eb49afa697ef916c893e8e",
       "IPY_MODEL_9df8ca4425aa4b82bcd56c7806a50175",
       "IPY_MODEL_649dfbd9c68e49fa90b56342bb46a33c"
      ],
      "layout": "IPY_MODEL_83fa2efc216946919c1f19533dab97b0"
     }
    },
    "968f2da1b7c74d19bd926f93f58564bb": {
     "model_module": "@jupyter-widgets/base",
     "model_module_version": "1.2.0",
     "model_name": "LayoutModel",
     "state": {
      "_model_module": "@jupyter-widgets/base",
      "_model_module_version": "1.2.0",
      "_model_name": "LayoutModel",
      "_view_count": null,
      "_view_module": "@jupyter-widgets/base",
      "_view_module_version": "1.2.0",
      "_view_name": "LayoutView",
      "align_content": null,
      "align_items": null,
      "align_self": null,
      "border": null,
      "bottom": null,
      "display": null,
      "flex": null,
      "flex_flow": null,
      "grid_area": null,
      "grid_auto_columns": null,
      "grid_auto_flow": null,
      "grid_auto_rows": null,
      "grid_column": null,
      "grid_gap": null,
      "grid_row": null,
      "grid_template_areas": null,
      "grid_template_columns": null,
      "grid_template_rows": null,
      "height": null,
      "justify_content": null,
      "justify_items": null,
      "left": null,
      "margin": null,
      "max_height": null,
      "max_width": null,
      "min_height": null,
      "min_width": null,
      "object_fit": null,
      "object_position": null,
      "order": null,
      "overflow": null,
      "overflow_x": null,
      "overflow_y": null,
      "padding": null,
      "right": null,
      "top": null,
      "visibility": null,
      "width": null
     }
    },
    "991e33644181496487de4f65226067f7": {
     "model_module": "@jupyter-widgets/base",
     "model_module_version": "1.2.0",
     "model_name": "LayoutModel",
     "state": {
      "_model_module": "@jupyter-widgets/base",
      "_model_module_version": "1.2.0",
      "_model_name": "LayoutModel",
      "_view_count": null,
      "_view_module": "@jupyter-widgets/base",
      "_view_module_version": "1.2.0",
      "_view_name": "LayoutView",
      "align_content": null,
      "align_items": null,
      "align_self": null,
      "border": null,
      "bottom": null,
      "display": null,
      "flex": null,
      "flex_flow": null,
      "grid_area": null,
      "grid_auto_columns": null,
      "grid_auto_flow": null,
      "grid_auto_rows": null,
      "grid_column": null,
      "grid_gap": null,
      "grid_row": null,
      "grid_template_areas": null,
      "grid_template_columns": null,
      "grid_template_rows": null,
      "height": null,
      "justify_content": null,
      "justify_items": null,
      "left": null,
      "margin": null,
      "max_height": null,
      "max_width": null,
      "min_height": null,
      "min_width": null,
      "object_fit": null,
      "object_position": null,
      "order": null,
      "overflow": null,
      "overflow_x": null,
      "overflow_y": null,
      "padding": null,
      "right": null,
      "top": null,
      "visibility": null,
      "width": null
     }
    },
    "99372b9c4efd4dab8b5ec2f37df01b1c": {
     "model_module": "@jupyter-widgets/controls",
     "model_module_version": "1.5.0",
     "model_name": "HTMLModel",
     "state": {
      "_dom_classes": [],
      "_model_module": "@jupyter-widgets/controls",
      "_model_module_version": "1.5.0",
      "_model_name": "HTMLModel",
      "_view_count": null,
      "_view_module": "@jupyter-widgets/controls",
      "_view_module_version": "1.5.0",
      "_view_name": "HTMLView",
      "description": "",
      "description_tooltip": null,
      "layout": "IPY_MODEL_3108c67ace514c88b444738c8a5909e7",
      "placeholder": "​",
      "style": "IPY_MODEL_6ea04de1aab04017a61f755c92e843da",
      "value": "Downloading shards:   0%"
     }
    },
    "9ba1c1827cb84065a873ec4f8b32f175": {
     "model_module": "@jupyter-widgets/controls",
     "model_module_version": "1.5.0",
     "model_name": "ProgressStyleModel",
     "state": {
      "_model_module": "@jupyter-widgets/controls",
      "_model_module_version": "1.5.0",
      "_model_name": "ProgressStyleModel",
      "_view_count": null,
      "_view_module": "@jupyter-widgets/base",
      "_view_module_version": "1.2.0",
      "_view_name": "StyleView",
      "bar_color": null,
      "description_width": ""
     }
    },
    "9df8ca4425aa4b82bcd56c7806a50175": {
     "model_module": "@jupyter-widgets/controls",
     "model_module_version": "1.5.0",
     "model_name": "FloatProgressModel",
     "state": {
      "_dom_classes": [],
      "_model_module": "@jupyter-widgets/controls",
      "_model_module_version": "1.5.0",
      "_model_name": "FloatProgressModel",
      "_view_count": null,
      "_view_module": "@jupyter-widgets/controls",
      "_view_module_version": "1.5.0",
      "_view_name": "ProgressView",
      "bar_style": "",
      "description": "",
      "description_tooltip": null,
      "layout": "IPY_MODEL_19ebfd84ca0245e38644b3ad5b80e8f4",
      "max": 4976698672,
      "min": 0,
      "orientation": "horizontal",
      "style": "IPY_MODEL_74650ba879c94521a77525298115b0ec",
      "value": 2600468480
     }
    },
    "9ee87be0af5b4cd2bf06813d2dc65bd8": {
     "model_module": "@jupyter-widgets/controls",
     "model_module_version": "1.5.0",
     "model_name": "DescriptionStyleModel",
     "state": {
      "_model_module": "@jupyter-widgets/controls",
      "_model_module_version": "1.5.0",
      "_model_name": "DescriptionStyleModel",
      "_view_count": null,
      "_view_module": "@jupyter-widgets/base",
      "_view_module_version": "1.2.0",
      "_view_name": "StyleView",
      "description_width": ""
     }
    },
    "a4a2183632e74f65a13a0877d4da004e": {
     "model_module": "@jupyter-widgets/controls",
     "model_module_version": "1.5.0",
     "model_name": "HTMLModel",
     "state": {
      "_dom_classes": [],
      "_model_module": "@jupyter-widgets/controls",
      "_model_module_version": "1.5.0",
      "_model_name": "HTMLModel",
      "_view_count": null,
      "_view_module": "@jupyter-widgets/controls",
      "_view_module_version": "1.5.0",
      "_view_name": "HTMLView",
      "description": "",
      "description_tooltip": null,
      "layout": "IPY_MODEL_1dd6ab7404cf4118a1964430b4c1dcb6",
      "placeholder": "​",
      "style": "IPY_MODEL_789580073ed04443acabb32e10ffe2a5",
      "value": " 50.6k/50.6k [00:00&lt;00:00, 2.13MB/s]"
     }
    },
    "a627d4d85cf34cd5b60248613d1b6b92": {
     "model_module": "@jupyter-widgets/controls",
     "model_module_version": "1.5.0",
     "model_name": "DescriptionStyleModel",
     "state": {
      "_model_module": "@jupyter-widgets/controls",
      "_model_module_version": "1.5.0",
      "_model_name": "DescriptionStyleModel",
      "_view_count": null,
      "_view_module": "@jupyter-widgets/base",
      "_view_module_version": "1.2.0",
      "_view_name": "StyleView",
      "description_width": ""
     }
    },
    "a8b6e5c262c24ca18e76cd7c7bc38ab5": {
     "model_module": "@jupyter-widgets/base",
     "model_module_version": "1.2.0",
     "model_name": "LayoutModel",
     "state": {
      "_model_module": "@jupyter-widgets/base",
      "_model_module_version": "1.2.0",
      "_model_name": "LayoutModel",
      "_view_count": null,
      "_view_module": "@jupyter-widgets/base",
      "_view_module_version": "1.2.0",
      "_view_name": "LayoutView",
      "align_content": null,
      "align_items": null,
      "align_self": null,
      "border": null,
      "bottom": null,
      "display": null,
      "flex": null,
      "flex_flow": null,
      "grid_area": null,
      "grid_auto_columns": null,
      "grid_auto_flow": null,
      "grid_auto_rows": null,
      "grid_column": null,
      "grid_gap": null,
      "grid_row": null,
      "grid_template_areas": null,
      "grid_template_columns": null,
      "grid_template_rows": null,
      "height": null,
      "justify_content": null,
      "justify_items": null,
      "left": null,
      "margin": null,
      "max_height": null,
      "max_width": null,
      "min_height": null,
      "min_width": null,
      "object_fit": null,
      "object_position": null,
      "order": null,
      "overflow": null,
      "overflow_x": null,
      "overflow_y": null,
      "padding": null,
      "right": null,
      "top": null,
      "visibility": null,
      "width": null
     }
    },
    "aadf9532ba5b4d8da5fbec29861ed714": {
     "model_module": "@jupyter-widgets/controls",
     "model_module_version": "1.5.0",
     "model_name": "HBoxModel",
     "state": {
      "_dom_classes": [],
      "_model_module": "@jupyter-widgets/controls",
      "_model_module_version": "1.5.0",
      "_model_name": "HBoxModel",
      "_view_count": null,
      "_view_module": "@jupyter-widgets/controls",
      "_view_module_version": "1.5.0",
      "_view_name": "HBoxView",
      "box_style": "",
      "children": [
       "IPY_MODEL_99372b9c4efd4dab8b5ec2f37df01b1c",
       "IPY_MODEL_c32c6121d42b404782265b9728c969e6",
       "IPY_MODEL_3c434cbc1e3c47e0891769a897150c84"
      ],
      "layout": "IPY_MODEL_6eafc72cf6d44aaf89652d2bfffc05a0"
     }
    },
    "ac49d2f3b1534b5f8bf349f89fad717e": {
     "model_module": "@jupyter-widgets/base",
     "model_module_version": "1.2.0",
     "model_name": "LayoutModel",
     "state": {
      "_model_module": "@jupyter-widgets/base",
      "_model_module_version": "1.2.0",
      "_model_name": "LayoutModel",
      "_view_count": null,
      "_view_module": "@jupyter-widgets/base",
      "_view_module_version": "1.2.0",
      "_view_name": "LayoutView",
      "align_content": null,
      "align_items": null,
      "align_self": null,
      "border": null,
      "bottom": null,
      "display": null,
      "flex": null,
      "flex_flow": null,
      "grid_area": null,
      "grid_auto_columns": null,
      "grid_auto_flow": null,
      "grid_auto_rows": null,
      "grid_column": null,
      "grid_gap": null,
      "grid_row": null,
      "grid_template_areas": null,
      "grid_template_columns": null,
      "grid_template_rows": null,
      "height": null,
      "justify_content": null,
      "justify_items": null,
      "left": null,
      "margin": null,
      "max_height": null,
      "max_width": null,
      "min_height": null,
      "min_width": null,
      "object_fit": null,
      "object_position": null,
      "order": null,
      "overflow": null,
      "overflow_x": null,
      "overflow_y": null,
      "padding": null,
      "right": null,
      "top": null,
      "visibility": null,
      "width": null
     }
    },
    "b747128228e2454aae821ebc9bb9ea50": {
     "model_module": "@jupyter-widgets/controls",
     "model_module_version": "1.5.0",
     "model_name": "FloatProgressModel",
     "state": {
      "_dom_classes": [],
      "_model_module": "@jupyter-widgets/controls",
      "_model_module_version": "1.5.0",
      "_model_name": "FloatProgressModel",
      "_view_count": null,
      "_view_module": "@jupyter-widgets/controls",
      "_view_module_version": "1.5.0",
      "_view_name": "ProgressView",
      "bar_style": "success",
      "description": "",
      "description_tooltip": null,
      "layout": "IPY_MODEL_cb2a95e18da941169821debbaa6f25bd",
      "max": 73,
      "min": 0,
      "orientation": "horizontal",
      "style": "IPY_MODEL_32145c378fab47f98a17bbc446d6d003",
      "value": 73
     }
    },
    "b9cae4c21e504baebda2630901efb433": {
     "model_module": "@jupyter-widgets/controls",
     "model_module_version": "1.5.0",
     "model_name": "DescriptionStyleModel",
     "state": {
      "_model_module": "@jupyter-widgets/controls",
      "_model_module_version": "1.5.0",
      "_model_name": "DescriptionStyleModel",
      "_view_count": null,
      "_view_module": "@jupyter-widgets/base",
      "_view_module_version": "1.2.0",
      "_view_name": "StyleView",
      "description_width": ""
     }
    },
    "bc91faa30b99471fb0e7c849924af60d": {
     "model_module": "@jupyter-widgets/controls",
     "model_module_version": "1.5.0",
     "model_name": "HBoxModel",
     "state": {
      "_dom_classes": [],
      "_model_module": "@jupyter-widgets/controls",
      "_model_module_version": "1.5.0",
      "_model_name": "HBoxModel",
      "_view_count": null,
      "_view_module": "@jupyter-widgets/controls",
      "_view_module_version": "1.5.0",
      "_view_name": "HBoxView",
      "box_style": "",
      "children": [
       "IPY_MODEL_74ecb6861dc5402a89a60c0a6ba4acdf",
       "IPY_MODEL_f23c2e59ee204f88b6f9de056a75fd67",
       "IPY_MODEL_5aa8eb07ccce4d10a80243d1b116da69"
      ],
      "layout": "IPY_MODEL_ac49d2f3b1534b5f8bf349f89fad717e"
     }
    },
    "bce38c9c20954638a2ae5d81a00806b8": {
     "model_module": "@jupyter-widgets/base",
     "model_module_version": "1.2.0",
     "model_name": "LayoutModel",
     "state": {
      "_model_module": "@jupyter-widgets/base",
      "_model_module_version": "1.2.0",
      "_model_name": "LayoutModel",
      "_view_count": null,
      "_view_module": "@jupyter-widgets/base",
      "_view_module_version": "1.2.0",
      "_view_name": "LayoutView",
      "align_content": null,
      "align_items": null,
      "align_self": null,
      "border": null,
      "bottom": null,
      "display": null,
      "flex": null,
      "flex_flow": null,
      "grid_area": null,
      "grid_auto_columns": null,
      "grid_auto_flow": null,
      "grid_auto_rows": null,
      "grid_column": null,
      "grid_gap": null,
      "grid_row": null,
      "grid_template_areas": null,
      "grid_template_columns": null,
      "grid_template_rows": null,
      "height": null,
      "justify_content": null,
      "justify_items": null,
      "left": null,
      "margin": null,
      "max_height": null,
      "max_width": null,
      "min_height": null,
      "min_width": null,
      "object_fit": null,
      "object_position": null,
      "order": null,
      "overflow": null,
      "overflow_x": null,
      "overflow_y": null,
      "padding": null,
      "right": null,
      "top": null,
      "visibility": null,
      "width": null
     }
    },
    "bdb4151245fe44299e88287024def3e1": {
     "model_module": "@jupyter-widgets/controls",
     "model_module_version": "1.5.0",
     "model_name": "ProgressStyleModel",
     "state": {
      "_model_module": "@jupyter-widgets/controls",
      "_model_module_version": "1.5.0",
      "_model_name": "ProgressStyleModel",
      "_view_count": null,
      "_view_module": "@jupyter-widgets/base",
      "_view_module_version": "1.2.0",
      "_view_name": "StyleView",
      "bar_color": null,
      "description_width": ""
     }
    },
    "be0964438adf432aad4325eb76f9872a": {
     "model_module": "@jupyter-widgets/base",
     "model_module_version": "1.2.0",
     "model_name": "LayoutModel",
     "state": {
      "_model_module": "@jupyter-widgets/base",
      "_model_module_version": "1.2.0",
      "_model_name": "LayoutModel",
      "_view_count": null,
      "_view_module": "@jupyter-widgets/base",
      "_view_module_version": "1.2.0",
      "_view_name": "LayoutView",
      "align_content": null,
      "align_items": null,
      "align_self": null,
      "border": null,
      "bottom": null,
      "display": null,
      "flex": null,
      "flex_flow": null,
      "grid_area": null,
      "grid_auto_columns": null,
      "grid_auto_flow": null,
      "grid_auto_rows": null,
      "grid_column": null,
      "grid_gap": null,
      "grid_row": null,
      "grid_template_areas": null,
      "grid_template_columns": null,
      "grid_template_rows": null,
      "height": null,
      "justify_content": null,
      "justify_items": null,
      "left": null,
      "margin": null,
      "max_height": null,
      "max_width": null,
      "min_height": null,
      "min_width": null,
      "object_fit": null,
      "object_position": null,
      "order": null,
      "overflow": null,
      "overflow_x": null,
      "overflow_y": null,
      "padding": null,
      "right": null,
      "top": null,
      "visibility": null,
      "width": null
     }
    },
    "c32c6121d42b404782265b9728c969e6": {
     "model_module": "@jupyter-widgets/controls",
     "model_module_version": "1.5.0",
     "model_name": "FloatProgressModel",
     "state": {
      "_dom_classes": [],
      "_model_module": "@jupyter-widgets/controls",
      "_model_module_version": "1.5.0",
      "_model_name": "FloatProgressModel",
      "_view_count": null,
      "_view_module": "@jupyter-widgets/controls",
      "_view_module_version": "1.5.0",
      "_view_name": "ProgressView",
      "bar_style": "",
      "description": "",
      "description_tooltip": null,
      "layout": "IPY_MODEL_4a6aebbad1ee447fa829776b6d174dc3",
      "max": 4,
      "min": 0,
      "orientation": "horizontal",
      "style": "IPY_MODEL_bdb4151245fe44299e88287024def3e1",
      "value": 0
     }
    },
    "c5e0f80d8b6a40d7b49218ecb7d21a84": {
     "model_module": "@jupyter-widgets/base",
     "model_module_version": "1.2.0",
     "model_name": "LayoutModel",
     "state": {
      "_model_module": "@jupyter-widgets/base",
      "_model_module_version": "1.2.0",
      "_model_name": "LayoutModel",
      "_view_count": null,
      "_view_module": "@jupyter-widgets/base",
      "_view_module_version": "1.2.0",
      "_view_name": "LayoutView",
      "align_content": null,
      "align_items": null,
      "align_self": null,
      "border": null,
      "bottom": null,
      "display": null,
      "flex": null,
      "flex_flow": null,
      "grid_area": null,
      "grid_auto_columns": null,
      "grid_auto_flow": null,
      "grid_auto_rows": null,
      "grid_column": null,
      "grid_gap": null,
      "grid_row": null,
      "grid_template_areas": null,
      "grid_template_columns": null,
      "grid_template_rows": null,
      "height": null,
      "justify_content": null,
      "justify_items": null,
      "left": null,
      "margin": null,
      "max_height": null,
      "max_width": null,
      "min_height": null,
      "min_width": null,
      "object_fit": null,
      "object_position": null,
      "order": null,
      "overflow": null,
      "overflow_x": null,
      "overflow_y": null,
      "padding": null,
      "right": null,
      "top": null,
      "visibility": null,
      "width": null
     }
    },
    "c62f1e4921a34862b0f4f5ac23ad6b8d": {
     "model_module": "@jupyter-widgets/base",
     "model_module_version": "1.2.0",
     "model_name": "LayoutModel",
     "state": {
      "_model_module": "@jupyter-widgets/base",
      "_model_module_version": "1.2.0",
      "_model_name": "LayoutModel",
      "_view_count": null,
      "_view_module": "@jupyter-widgets/base",
      "_view_module_version": "1.2.0",
      "_view_name": "LayoutView",
      "align_content": null,
      "align_items": null,
      "align_self": null,
      "border": null,
      "bottom": null,
      "display": null,
      "flex": null,
      "flex_flow": null,
      "grid_area": null,
      "grid_auto_columns": null,
      "grid_auto_flow": null,
      "grid_auto_rows": null,
      "grid_column": null,
      "grid_gap": null,
      "grid_row": null,
      "grid_template_areas": null,
      "grid_template_columns": null,
      "grid_template_rows": null,
      "height": null,
      "justify_content": null,
      "justify_items": null,
      "left": null,
      "margin": null,
      "max_height": null,
      "max_width": null,
      "min_height": null,
      "min_width": null,
      "object_fit": null,
      "object_position": null,
      "order": null,
      "overflow": null,
      "overflow_x": null,
      "overflow_y": null,
      "padding": null,
      "right": null,
      "top": null,
      "visibility": null,
      "width": null
     }
    },
    "cb2a95e18da941169821debbaa6f25bd": {
     "model_module": "@jupyter-widgets/base",
     "model_module_version": "1.2.0",
     "model_name": "LayoutModel",
     "state": {
      "_model_module": "@jupyter-widgets/base",
      "_model_module_version": "1.2.0",
      "_model_name": "LayoutModel",
      "_view_count": null,
      "_view_module": "@jupyter-widgets/base",
      "_view_module_version": "1.2.0",
      "_view_name": "LayoutView",
      "align_content": null,
      "align_items": null,
      "align_self": null,
      "border": null,
      "bottom": null,
      "display": null,
      "flex": null,
      "flex_flow": null,
      "grid_area": null,
      "grid_auto_columns": null,
      "grid_auto_flow": null,
      "grid_auto_rows": null,
      "grid_column": null,
      "grid_gap": null,
      "grid_row": null,
      "grid_template_areas": null,
      "grid_template_columns": null,
      "grid_template_rows": null,
      "height": null,
      "justify_content": null,
      "justify_items": null,
      "left": null,
      "margin": null,
      "max_height": null,
      "max_width": null,
      "min_height": null,
      "min_width": null,
      "object_fit": null,
      "object_position": null,
      "order": null,
      "overflow": null,
      "overflow_x": null,
      "overflow_y": null,
      "padding": null,
      "right": null,
      "top": null,
      "visibility": null,
      "width": null
     }
    },
    "d1b19fac5969407b88a6d6bafd913a11": {
     "model_module": "@jupyter-widgets/base",
     "model_module_version": "1.2.0",
     "model_name": "LayoutModel",
     "state": {
      "_model_module": "@jupyter-widgets/base",
      "_model_module_version": "1.2.0",
      "_model_name": "LayoutModel",
      "_view_count": null,
      "_view_module": "@jupyter-widgets/base",
      "_view_module_version": "1.2.0",
      "_view_name": "LayoutView",
      "align_content": null,
      "align_items": null,
      "align_self": null,
      "border": null,
      "bottom": null,
      "display": null,
      "flex": null,
      "flex_flow": null,
      "grid_area": null,
      "grid_auto_columns": null,
      "grid_auto_flow": null,
      "grid_auto_rows": null,
      "grid_column": null,
      "grid_gap": null,
      "grid_row": null,
      "grid_template_areas": null,
      "grid_template_columns": null,
      "grid_template_rows": null,
      "height": null,
      "justify_content": null,
      "justify_items": null,
      "left": null,
      "margin": null,
      "max_height": null,
      "max_width": null,
      "min_height": null,
      "min_width": null,
      "object_fit": null,
      "object_position": null,
      "order": null,
      "overflow": null,
      "overflow_x": null,
      "overflow_y": null,
      "padding": null,
      "right": null,
      "top": null,
      "visibility": null,
      "width": null
     }
    },
    "d3973adbcb1f4aa4a1582634756d4779": {
     "model_module": "@jupyter-widgets/controls",
     "model_module_version": "1.5.0",
     "model_name": "ProgressStyleModel",
     "state": {
      "_model_module": "@jupyter-widgets/controls",
      "_model_module_version": "1.5.0",
      "_model_name": "ProgressStyleModel",
      "_view_count": null,
      "_view_module": "@jupyter-widgets/base",
      "_view_module_version": "1.2.0",
      "_view_name": "StyleView",
      "bar_color": null,
      "description_width": ""
     }
    },
    "db2ed46ddeaa4b1f8034ebfe42b28d3f": {
     "model_module": "@jupyter-widgets/controls",
     "model_module_version": "1.5.0",
     "model_name": "DescriptionStyleModel",
     "state": {
      "_model_module": "@jupyter-widgets/controls",
      "_model_module_version": "1.5.0",
      "_model_name": "DescriptionStyleModel",
      "_view_count": null,
      "_view_module": "@jupyter-widgets/base",
      "_view_module_version": "1.2.0",
      "_view_name": "StyleView",
      "description_width": ""
     }
    },
    "e09b2cd994eb49afa697ef916c893e8e": {
     "model_module": "@jupyter-widgets/controls",
     "model_module_version": "1.5.0",
     "model_name": "HTMLModel",
     "state": {
      "_dom_classes": [],
      "_model_module": "@jupyter-widgets/controls",
      "_model_module_version": "1.5.0",
      "_model_name": "HTMLModel",
      "_view_count": null,
      "_view_module": "@jupyter-widgets/controls",
      "_view_module_version": "1.5.0",
      "_view_name": "HTMLView",
      "description": "",
      "description_tooltip": null,
      "layout": "IPY_MODEL_e31e171bff3d4839973847a7ece4acd2",
      "placeholder": "​",
      "style": "IPY_MODEL_feea14b6743b49b4b05493f50814c637",
      "value": "model-00001-of-00004.safetensors:  52%"
     }
    },
    "e31e171bff3d4839973847a7ece4acd2": {
     "model_module": "@jupyter-widgets/base",
     "model_module_version": "1.2.0",
     "model_name": "LayoutModel",
     "state": {
      "_model_module": "@jupyter-widgets/base",
      "_model_module_version": "1.2.0",
      "_model_name": "LayoutModel",
      "_view_count": null,
      "_view_module": "@jupyter-widgets/base",
      "_view_module_version": "1.2.0",
      "_view_name": "LayoutView",
      "align_content": null,
      "align_items": null,
      "align_self": null,
      "border": null,
      "bottom": null,
      "display": null,
      "flex": null,
      "flex_flow": null,
      "grid_area": null,
      "grid_auto_columns": null,
      "grid_auto_flow": null,
      "grid_auto_rows": null,
      "grid_column": null,
      "grid_gap": null,
      "grid_row": null,
      "grid_template_areas": null,
      "grid_template_columns": null,
      "grid_template_rows": null,
      "height": null,
      "justify_content": null,
      "justify_items": null,
      "left": null,
      "margin": null,
      "max_height": null,
      "max_width": null,
      "min_height": null,
      "min_width": null,
      "object_fit": null,
      "object_position": null,
      "order": null,
      "overflow": null,
      "overflow_x": null,
      "overflow_y": null,
      "padding": null,
      "right": null,
      "top": null,
      "visibility": null,
      "width": null
     }
    },
    "e9004589f0074f8caa8c26e6a4e236da": {
     "model_module": "@jupyter-widgets/base",
     "model_module_version": "1.2.0",
     "model_name": "LayoutModel",
     "state": {
      "_model_module": "@jupyter-widgets/base",
      "_model_module_version": "1.2.0",
      "_model_name": "LayoutModel",
      "_view_count": null,
      "_view_module": "@jupyter-widgets/base",
      "_view_module_version": "1.2.0",
      "_view_name": "LayoutView",
      "align_content": null,
      "align_items": null,
      "align_self": null,
      "border": null,
      "bottom": null,
      "display": null,
      "flex": null,
      "flex_flow": null,
      "grid_area": null,
      "grid_auto_columns": null,
      "grid_auto_flow": null,
      "grid_auto_rows": null,
      "grid_column": null,
      "grid_gap": null,
      "grid_row": null,
      "grid_template_areas": null,
      "grid_template_columns": null,
      "grid_template_rows": null,
      "height": null,
      "justify_content": null,
      "justify_items": null,
      "left": null,
      "margin": null,
      "max_height": null,
      "max_width": null,
      "min_height": null,
      "min_width": null,
      "object_fit": null,
      "object_position": null,
      "order": null,
      "overflow": null,
      "overflow_x": null,
      "overflow_y": null,
      "padding": null,
      "right": null,
      "top": null,
      "visibility": null,
      "width": null
     }
    },
    "eae19fb76cb246518acaf54db43d3607": {
     "model_module": "@jupyter-widgets/controls",
     "model_module_version": "1.5.0",
     "model_name": "HBoxModel",
     "state": {
      "_dom_classes": [],
      "_model_module": "@jupyter-widgets/controls",
      "_model_module_version": "1.5.0",
      "_model_name": "HBoxModel",
      "_view_count": null,
      "_view_module": "@jupyter-widgets/controls",
      "_view_module_version": "1.5.0",
      "_view_name": "HBoxView",
      "box_style": "",
      "children": [
       "IPY_MODEL_69835e1d1b8a4112ae86ba608b44aa52",
       "IPY_MODEL_875aeb23698643739987df037dce0cef",
       "IPY_MODEL_7121113e0abc4fe9a790861cba94ae6f"
      ],
      "layout": "IPY_MODEL_be0964438adf432aad4325eb76f9872a"
     }
    },
    "ee09cecad90141f4aef194c581205bec": {
     "model_module": "@jupyter-widgets/controls",
     "model_module_version": "1.5.0",
     "model_name": "HTMLModel",
     "state": {
      "_dom_classes": [],
      "_model_module": "@jupyter-widgets/controls",
      "_model_module_version": "1.5.0",
      "_model_name": "HTMLModel",
      "_view_count": null,
      "_view_module": "@jupyter-widgets/controls",
      "_view_module_version": "1.5.0",
      "_view_name": "HTMLView",
      "description": "",
      "description_tooltip": null,
      "layout": "IPY_MODEL_968f2da1b7c74d19bd926f93f58564bb",
      "placeholder": "​",
      "style": "IPY_MODEL_837e196043ae4971a424b94ab0370b90",
      "value": "special_tokens_map.json: 100%"
     }
    },
    "f23c2e59ee204f88b6f9de056a75fd67": {
     "model_module": "@jupyter-widgets/controls",
     "model_module_version": "1.5.0",
     "model_name": "FloatProgressModel",
     "state": {
      "_dom_classes": [],
      "_model_module": "@jupyter-widgets/controls",
      "_model_module_version": "1.5.0",
      "_model_name": "FloatProgressModel",
      "_view_count": null,
      "_view_module": "@jupyter-widgets/controls",
      "_view_module_version": "1.5.0",
      "_view_name": "ProgressView",
      "bar_style": "success",
      "description": "",
      "description_tooltip": null,
      "layout": "IPY_MODEL_7b9023826b96493c8800d36f73b8b2e4",
      "max": 23950,
      "min": 0,
      "orientation": "horizontal",
      "style": "IPY_MODEL_9ba1c1827cb84065a873ec4f8b32f175",
      "value": 23950
     }
    },
    "f448389ec8624cc3aa56ad02cfe9cb4d": {
     "model_module": "@jupyter-widgets/controls",
     "model_module_version": "1.5.0",
     "model_name": "FloatProgressModel",
     "state": {
      "_dom_classes": [],
      "_model_module": "@jupyter-widgets/controls",
      "_model_module_version": "1.5.0",
      "_model_name": "FloatProgressModel",
      "_view_count": null,
      "_view_module": "@jupyter-widgets/controls",
      "_view_module_version": "1.5.0",
      "_view_name": "ProgressView",
      "bar_style": "success",
      "description": "",
      "description_tooltip": null,
      "layout": "IPY_MODEL_d1b19fac5969407b88a6d6bafd913a11",
      "max": 50566,
      "min": 0,
      "orientation": "horizontal",
      "style": "IPY_MODEL_31e85ac3e0954b77954622cb13a03d36",
      "value": 50566
     }
    },
    "f9f646eeffcb44e7b1d5f0370292edd5": {
     "model_module": "@jupyter-widgets/controls",
     "model_module_version": "1.5.0",
     "model_name": "HTMLModel",
     "state": {
      "_dom_classes": [],
      "_model_module": "@jupyter-widgets/controls",
      "_model_module_version": "1.5.0",
      "_model_name": "HTMLModel",
      "_view_count": null,
      "_view_module": "@jupyter-widgets/controls",
      "_view_module_version": "1.5.0",
      "_view_name": "HTMLView",
      "description": "",
      "description_tooltip": null,
      "layout": "IPY_MODEL_e9004589f0074f8caa8c26e6a4e236da",
      "placeholder": "​",
      "style": "IPY_MODEL_2c1638de96144697887afeaae207db49",
      "value": " 9.08M/9.08M [00:00&lt;00:00, 21.7MB/s]"
     }
    },
    "feea14b6743b49b4b05493f50814c637": {
     "model_module": "@jupyter-widgets/controls",
     "model_module_version": "1.5.0",
     "model_name": "DescriptionStyleModel",
     "state": {
      "_model_module": "@jupyter-widgets/controls",
      "_model_module_version": "1.5.0",
      "_model_name": "DescriptionStyleModel",
      "_view_count": null,
      "_view_module": "@jupyter-widgets/base",
      "_view_module_version": "1.2.0",
      "_view_name": "StyleView",
      "description_width": ""
     }
    }
   }
  }
 },
 "nbformat": 4,
 "nbformat_minor": 4
}
