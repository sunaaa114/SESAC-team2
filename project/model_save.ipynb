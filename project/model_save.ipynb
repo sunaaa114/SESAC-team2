{
 "cells": [
  {
   "cell_type": "markdown",
   "id": "73737179",
   "metadata": {},
   "source": [
    "# Model Load"
   ]
  },
  {
   "cell_type": "code",
   "execution_count": 1,
   "id": "dc2167fb-a94b-4ea9-a5eb-1e03bd0da1f9",
   "metadata": {
    "tags": []
   },
   "outputs": [],
   "source": [
    "from transformers import AutoModelForCausalLM, AutoTokenizer\n",
    "import torch\n",
    "from transformers import BitsAndBytesConfig"
   ]
  },
  {
   "cell_type": "code",
   "execution_count": 2,
   "id": "7239ef1b-f919-48b1-ba82-7c934a5ab76a",
   "metadata": {
    "tags": []
   },
   "outputs": [
    {
     "name": "stderr",
     "output_type": "stream",
     "text": [
      "Special tokens have been added in the vocabulary, make sure the associated word embeddings are fine-tuned or trained.\n"
     ]
    },
    {
     "data": {
      "application/vnd.jupyter.widget-view+json": {
       "model_id": "9b77325341e9499583c58e3ac45a26d0",
       "version_major": 2,
       "version_minor": 0
      },
      "text/plain": [
       "Loading checkpoint shards:   0%|          | 0/4 [00:00<?, ?it/s]"
      ]
     },
     "metadata": {},
     "output_type": "display_data"
    }
   ],
   "source": [
    "LLM_MODEL_PATH = 'meta-llama/Meta-Llama-3-8B'\n",
    "\n",
    "quant_config = BitsAndBytesConfig(\n",
    "    load_in_8bit = True,       \n",
    "    bnb_4bit_compute_dtype = torch.float16\n",
    ")\n",
    "\n",
    "tokenizer = AutoTokenizer.from_pretrained(LLM_MODEL_PATH, use_fast = True, device_map = 'cuda')\n",
    "model = AutoModelForCausalLM.from_pretrained(LLM_MODEL_PATH,\n",
    "                                             low_cpu_mem_usage = True,      \n",
    "                                             quantization_config=quant_config,\n",
    "                                             device_map = 'cuda'\n",
    "                                             )"
   ]
  },
  {
   "cell_type": "code",
   "execution_count": 4,
   "id": "06b67bfe-f419-4a85-812b-d24b56fe28f6",
   "metadata": {
    "tags": []
   },
   "outputs": [
    {
     "data": {
      "text/plain": [
       "LlamaForCausalLM(\n",
       "  (model): LlamaModel(\n",
       "    (embed_tokens): Embedding(128256, 4096)\n",
       "    (layers): ModuleList(\n",
       "      (0-31): 32 x LlamaDecoderLayer(\n",
       "        (self_attn): LlamaSdpaAttention(\n",
       "          (q_proj): Linear8bitLt(in_features=4096, out_features=4096, bias=False)\n",
       "          (k_proj): Linear8bitLt(in_features=4096, out_features=1024, bias=False)\n",
       "          (v_proj): Linear8bitLt(in_features=4096, out_features=1024, bias=False)\n",
       "          (o_proj): Linear8bitLt(in_features=4096, out_features=4096, bias=False)\n",
       "          (rotary_emb): LlamaRotaryEmbedding()\n",
       "        )\n",
       "        (mlp): LlamaMLP(\n",
       "          (gate_proj): Linear8bitLt(in_features=4096, out_features=14336, bias=False)\n",
       "          (up_proj): Linear8bitLt(in_features=4096, out_features=14336, bias=False)\n",
       "          (down_proj): Linear8bitLt(in_features=14336, out_features=4096, bias=False)\n",
       "          (act_fn): SiLU()\n",
       "        )\n",
       "        (input_layernorm): LlamaRMSNorm()\n",
       "        (post_attention_layernorm): LlamaRMSNorm()\n",
       "      )\n",
       "    )\n",
       "    (norm): LlamaRMSNorm()\n",
       "  )\n",
       "  (lm_head): Linear(in_features=4096, out_features=128256, bias=False)\n",
       ")"
      ]
     },
     "execution_count": 4,
     "metadata": {},
     "output_type": "execute_result"
    }
   ],
   "source": [
    "model"
   ]
  },
  {
   "cell_type": "markdown",
   "id": "a527d785",
   "metadata": {},
   "source": [
    "# 디렉토리(model)에 저장"
   ]
  },
  {
   "cell_type": "markdown",
   "id": "4f123a07",
   "metadata": {},
   "source": [
    "Github에 굳이 model 올리지는 않겠습니다."
   ]
  },
  {
   "cell_type": "code",
   "execution_count": 3,
   "id": "31e0cca8-87a1-4b1c-9052-06be0bdc95be",
   "metadata": {},
   "outputs": [
    {
     "name": "stderr",
     "output_type": "stream",
     "text": [
      "Removed shared tensor {'model.layers.11.self_attn.k_proj.weight_format', 'model.layers.0.mlp.up_proj.weight_format', 'model.layers.25.mlp.up_proj.weight_format', 'model.layers.16.mlp.down_proj.weight_format', 'model.layers.23.self_attn.q_proj.weight_format', 'model.layers.14.mlp.up_proj.weight_format', 'model.layers.25.self_attn.o_proj.weight_format', 'model.layers.31.self_attn.k_proj.weight_format', 'model.layers.20.mlp.down_proj.weight_format', 'model.layers.14.mlp.gate_proj.weight_format', 'model.layers.22.self_attn.o_proj.weight_format', 'model.layers.2.self_attn.o_proj.weight_format', 'model.layers.20.self_attn.q_proj.weight_format', 'model.layers.7.self_attn.q_proj.weight_format', 'model.layers.7.mlp.gate_proj.weight_format', 'model.layers.22.mlp.up_proj.weight_format', 'model.layers.15.self_attn.q_proj.weight_format', 'model.layers.28.self_attn.v_proj.weight_format', 'model.layers.13.mlp.gate_proj.weight_format', 'model.layers.25.mlp.gate_proj.weight_format', 'model.layers.12.mlp.down_proj.weight_format', 'model.layers.5.self_attn.q_proj.weight_format', 'model.layers.19.self_attn.q_proj.weight_format', 'model.layers.24.mlp.down_proj.weight_format', 'model.layers.31.self_attn.v_proj.weight_format', 'model.layers.9.self_attn.k_proj.weight_format', 'model.layers.14.self_attn.k_proj.weight_format', 'model.layers.12.mlp.gate_proj.weight_format', 'model.layers.31.self_attn.o_proj.weight_format', 'model.layers.0.self_attn.v_proj.weight_format', 'model.layers.3.self_attn.q_proj.weight_format', 'model.layers.12.self_attn.q_proj.weight_format', 'model.layers.2.self_attn.q_proj.weight_format', 'model.layers.9.mlp.up_proj.weight_format', 'model.layers.30.mlp.up_proj.weight_format', 'model.layers.5.mlp.down_proj.weight_format', 'model.layers.18.self_attn.v_proj.weight_format', 'model.layers.7.mlp.down_proj.weight_format', 'model.layers.9.mlp.gate_proj.weight_format', 'model.layers.6.self_attn.q_proj.weight_format', 'model.layers.20.mlp.up_proj.weight_format', 'model.layers.28.mlp.gate_proj.weight_format', 'model.layers.31.mlp.up_proj.weight_format', 'model.layers.10.mlp.up_proj.weight_format', 'model.layers.17.mlp.up_proj.weight_format', 'model.layers.8.self_attn.o_proj.weight_format', 'model.layers.19.self_attn.v_proj.weight_format', 'model.layers.17.self_attn.o_proj.weight_format', 'model.layers.30.self_attn.q_proj.weight_format', 'model.layers.21.self_attn.o_proj.weight_format', 'model.layers.10.self_attn.o_proj.weight_format', 'model.layers.7.self_attn.o_proj.weight_format', 'model.layers.23.self_attn.k_proj.weight_format', 'model.layers.11.self_attn.v_proj.weight_format', 'model.layers.30.self_attn.o_proj.weight_format', 'model.layers.24.self_attn.q_proj.weight_format', 'model.layers.17.self_attn.q_proj.weight_format', 'model.layers.28.self_attn.o_proj.weight_format', 'model.layers.5.self_attn.o_proj.weight_format', 'model.layers.8.self_attn.k_proj.weight_format', 'model.layers.4.self_attn.o_proj.weight_format', 'model.layers.9.self_attn.q_proj.weight_format', 'model.layers.9.mlp.down_proj.weight_format', 'model.layers.0.mlp.gate_proj.weight_format', 'model.layers.25.self_attn.v_proj.weight_format', 'model.layers.1.self_attn.v_proj.weight_format', 'model.layers.18.self_attn.k_proj.weight_format', 'model.layers.4.self_attn.v_proj.weight_format', 'model.layers.25.self_attn.k_proj.weight_format', 'model.layers.27.mlp.up_proj.weight_format', 'model.layers.16.self_attn.k_proj.weight_format', 'model.layers.19.self_attn.k_proj.weight_format', 'model.layers.27.mlp.gate_proj.weight_format', 'model.layers.30.mlp.down_proj.weight_format', 'model.layers.10.mlp.gate_proj.weight_format', 'model.layers.3.self_attn.o_proj.weight_format', 'model.layers.22.self_attn.k_proj.weight_format', 'model.layers.15.mlp.up_proj.weight_format', 'model.layers.8.mlp.gate_proj.weight_format', 'model.layers.8.mlp.up_proj.weight_format', 'model.layers.28.mlp.down_proj.weight_format', 'model.layers.22.self_attn.v_proj.weight_format', 'model.layers.26.self_attn.k_proj.weight_format', 'model.layers.17.self_attn.k_proj.weight_format', 'model.layers.22.mlp.gate_proj.weight_format', 'model.layers.14.self_attn.q_proj.weight_format', 'model.layers.23.self_attn.o_proj.weight_format', 'model.layers.3.self_attn.v_proj.weight_format', 'model.layers.1.mlp.down_proj.weight_format', 'model.layers.27.self_attn.k_proj.weight_format', 'model.layers.28.self_attn.k_proj.weight_format', 'model.layers.9.self_attn.v_proj.weight_format', 'model.layers.29.self_attn.o_proj.weight_format', 'model.layers.22.self_attn.q_proj.weight_format', 'model.layers.7.mlp.up_proj.weight_format', 'model.layers.2.mlp.gate_proj.weight_format', 'model.layers.2.self_attn.v_proj.weight_format', 'model.layers.0.self_attn.k_proj.weight_format', 'model.layers.21.mlp.up_proj.weight_format', 'model.layers.26.mlp.down_proj.weight_format', 'model.layers.2.self_attn.k_proj.weight_format', 'model.layers.12.mlp.up_proj.weight_format', 'model.layers.3.mlp.down_proj.weight_format', 'model.layers.0.self_attn.o_proj.weight_format', 'model.layers.26.self_attn.o_proj.weight_format', 'model.layers.31.self_attn.q_proj.weight_format', 'model.layers.30.mlp.gate_proj.weight_format', 'model.layers.10.mlp.down_proj.weight_format', 'model.layers.12.self_attn.v_proj.weight_format', 'model.layers.10.self_attn.v_proj.weight_format', 'model.layers.1.mlp.gate_proj.weight_format', 'model.layers.10.self_attn.q_proj.weight_format', 'model.layers.4.self_attn.k_proj.weight_format', 'model.layers.4.self_attn.q_proj.weight_format', 'model.layers.16.self_attn.q_proj.weight_format', 'model.layers.18.mlp.up_proj.weight_format', 'model.layers.19.mlp.up_proj.weight_format', 'model.layers.8.self_attn.q_proj.weight_format', 'model.layers.29.mlp.down_proj.weight_format', 'model.layers.6.self_attn.o_proj.weight_format', 'model.layers.20.self_attn.o_proj.weight_format', 'model.layers.9.self_attn.o_proj.weight_format', 'model.layers.5.mlp.gate_proj.weight_format', 'model.layers.13.mlp.down_proj.weight_format', 'model.layers.4.mlp.down_proj.weight_format', 'model.layers.18.self_attn.o_proj.weight_format', 'model.layers.15.mlp.gate_proj.weight_format', 'model.layers.26.self_attn.q_proj.weight_format', 'model.layers.29.mlp.up_proj.weight_format', 'model.layers.13.mlp.up_proj.weight_format', 'model.layers.1.self_attn.o_proj.weight_format', 'model.layers.21.mlp.gate_proj.weight_format', 'model.layers.18.self_attn.q_proj.weight_format', 'model.layers.27.self_attn.o_proj.weight_format', 'model.layers.24.mlp.up_proj.weight_format', 'model.layers.1.self_attn.q_proj.weight_format', 'model.layers.7.self_attn.k_proj.weight_format', 'model.layers.6.self_attn.k_proj.weight_format', 'model.layers.26.mlp.up_proj.weight_format', 'model.layers.15.self_attn.v_proj.weight_format', 'model.layers.3.mlp.up_proj.weight_format', 'model.layers.0.mlp.down_proj.weight_format', 'model.layers.24.mlp.gate_proj.weight_format', 'model.layers.8.mlp.down_proj.weight_format', 'model.layers.31.mlp.gate_proj.weight_format', 'model.layers.13.self_attn.v_proj.weight_format', 'model.layers.23.self_attn.v_proj.weight_format', 'model.layers.8.self_attn.v_proj.weight_format', 'model.layers.21.self_attn.v_proj.weight_format', 'model.layers.5.self_attn.v_proj.weight_format', 'model.layers.11.mlp.up_proj.weight_format', 'model.layers.5.self_attn.k_proj.weight_format', 'model.layers.11.self_attn.q_proj.weight_format', 'model.layers.29.self_attn.v_proj.weight_format', 'model.layers.16.self_attn.o_proj.weight_format', 'model.layers.16.mlp.up_proj.weight_format', 'model.layers.27.mlp.down_proj.weight_format', 'model.layers.26.self_attn.v_proj.weight_format', 'model.layers.21.self_attn.q_proj.weight_format', 'model.layers.20.mlp.gate_proj.weight_format', 'model.layers.13.self_attn.q_proj.weight_format', 'model.layers.24.self_attn.k_proj.weight_format', 'model.layers.17.mlp.gate_proj.weight_format', 'model.layers.2.mlp.up_proj.weight_format', 'model.layers.3.mlp.gate_proj.weight_format', 'model.layers.24.self_attn.v_proj.weight_format', 'model.layers.11.mlp.gate_proj.weight_format', 'model.layers.17.mlp.down_proj.weight_format', 'model.layers.19.mlp.down_proj.weight_format', 'model.layers.1.mlp.up_proj.weight_format', 'model.layers.11.self_attn.o_proj.weight_format', 'model.layers.23.mlp.gate_proj.weight_format', 'model.layers.29.mlp.gate_proj.weight_format', 'model.layers.5.mlp.up_proj.weight_format', 'model.layers.6.mlp.up_proj.weight_format', 'model.layers.27.self_attn.q_proj.weight_format', 'model.layers.24.self_attn.o_proj.weight_format', 'model.layers.21.self_attn.k_proj.weight_format', 'model.layers.6.self_attn.v_proj.weight_format', 'model.layers.17.self_attn.v_proj.weight_format', 'model.layers.23.mlp.down_proj.weight_format', 'model.layers.22.mlp.down_proj.weight_format', 'model.layers.3.self_attn.k_proj.weight_format', 'model.layers.1.self_attn.k_proj.weight_format', 'model.layers.26.mlp.gate_proj.weight_format', 'model.layers.30.self_attn.v_proj.weight_format', 'model.layers.29.self_attn.k_proj.weight_format', 'model.layers.28.self_attn.q_proj.weight_format', 'model.layers.15.self_attn.o_proj.weight_format', 'model.layers.13.self_attn.o_proj.weight_format', 'model.layers.14.self_attn.v_proj.weight_format', 'model.layers.19.self_attn.o_proj.weight_format', 'model.layers.19.mlp.gate_proj.weight_format', 'model.layers.15.self_attn.k_proj.weight_format', 'model.layers.25.self_attn.q_proj.weight_format', 'model.layers.12.self_attn.k_proj.weight_format', 'model.layers.7.self_attn.v_proj.weight_format', 'model.layers.15.mlp.down_proj.weight_format', 'model.layers.4.mlp.up_proj.weight_format', 'model.layers.20.self_attn.v_proj.weight_format', 'model.layers.25.mlp.down_proj.weight_format', 'model.layers.20.self_attn.k_proj.weight_format', 'model.layers.27.self_attn.v_proj.weight_format', 'model.layers.11.mlp.down_proj.weight_format', 'model.layers.14.self_attn.o_proj.weight_format', 'model.layers.21.mlp.down_proj.weight_format', 'model.layers.23.mlp.up_proj.weight_format', 'model.layers.10.self_attn.k_proj.weight_format', 'model.layers.18.mlp.down_proj.weight_format', 'model.layers.16.self_attn.v_proj.weight_format', 'model.layers.2.mlp.down_proj.weight_format', 'model.layers.13.self_attn.k_proj.weight_format', 'model.layers.31.mlp.down_proj.weight_format', 'model.layers.12.self_attn.o_proj.weight_format', 'model.layers.30.self_attn.k_proj.weight_format', 'model.layers.29.self_attn.q_proj.weight_format', 'model.layers.14.mlp.down_proj.weight_format', 'model.layers.6.mlp.down_proj.weight_format', 'model.layers.4.mlp.gate_proj.weight_format', 'model.layers.18.mlp.gate_proj.weight_format', 'model.layers.16.mlp.gate_proj.weight_format', 'model.layers.6.mlp.gate_proj.weight_format', 'model.layers.28.mlp.up_proj.weight_format'} while saving. This should be OK, but check by verifying that you don't receive any warning while reloading\n"
     ]
    },
    {
     "data": {
      "text/plain": [
       "('model/tokenizer_config.json',\n",
       " 'model/special_tokens_map.json',\n",
       " 'model/tokenizer.json')"
      ]
     },
     "execution_count": 3,
     "metadata": {},
     "output_type": "execute_result"
    }
   ],
   "source": [
    "model.save_pretrained('model')\n",
    "tokenizer.save_pretrained(\"model\")"
   ]
  }
 ],
 "metadata": {
  "kernelspec": {
   "display_name": "Python 3 (Local)",
   "language": "python",
   "name": "python3"
  },
  "language_info": {
   "codemirror_mode": {
    "name": "ipython",
    "version": 3
   },
   "file_extension": ".py",
   "mimetype": "text/x-python",
   "name": "python",
   "nbconvert_exporter": "python",
   "pygments_lexer": "ipython3",
   "version": "3.10.14"
  }
 },
 "nbformat": 4,
 "nbformat_minor": 5
}
