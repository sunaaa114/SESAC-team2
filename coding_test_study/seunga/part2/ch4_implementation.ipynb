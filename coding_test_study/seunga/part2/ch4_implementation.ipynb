{
 "cells": [
  {
   "cell_type": "markdown",
   "metadata": {},
   "source": [
    "# 구현\n",
    "### 머릿속에 있는 알고리즘을 소스코드로 바꾸는 과정\n",
    "### 구현 유형의 문제: 풀이를 떠올리는 것은 쉽지만 소스코드로 옮기기 어려운 문제"
   ]
  },
  {
   "cell_type": "markdown",
   "metadata": {},
   "source": [
    "##### 📚 4-1 상하좌우\n",
    "\n",
    "###### 입력 조건\n",
    "###### - 첫째 줄에 공간의 크기를 나타내는 N이 주어진다. (1 <= N <= 100)\n",
    "###### - 둘째 줄에 여행가 A가 이동할 계획서 내용이 주어진다. (1 <= 이동 횟수 <= 100)\n",
    "\n",
    "###### 출력 조건\n",
    "###### - 첫째 줄에 여행가 A가 최종적으로 도착할 지점의 좌표 (X, Y)를 공백으로 구분하여 출력한다.\n",
    "\n",
    "###### 입력 예시\n",
    "###### 5\n",
    "###### R R R U D D\n",
    "\n",
    "###### 출력 예시\n",
    "###### 3 4"
   ]
  },
  {
   "cell_type": "markdown",
   "metadata": {},
   "source": [
    "##### 혼자"
   ]
  },
  {
   "cell_type": "code",
   "execution_count": null,
   "metadata": {},
   "outputs": [],
   "source": [
    "# 입력\n",
    "n = int(input())\n",
    "moves = str(input().split())\n",
    "\n",
    "now = [1,1]\n",
    "\n",
    "# 이동\n",
    "for move in moves: # moves 하나씩 확인\n",
    "    if move == 'L':\n",
    "        if now[1] > 1:\n",
    "            now[1] -= 1\n",
    "    elif move == 'R':\n",
    "        if now[1] < n:\n",
    "            now[1] += 1\n",
    "    elif move == 'U': # 'up'은 밑으로 가야 커짐\n",
    "        if now[0] > 1:\n",
    "            now[0] -= 1\n",
    "    elif move == 'D':\n",
    "        if now[0] < n:\n",
    "            now[0] += 1\n",
    "\n",
    "# 출력\n",
    "print(now[0], now[1])"
   ]
  },
  {
   "cell_type": "markdown",
   "metadata": {},
   "source": [
    "##### 책"
   ]
  },
  {
   "cell_type": "code",
   "execution_count": null,
   "metadata": {},
   "outputs": [],
   "source": [
    "# N을 입력받기\n",
    "n = int(input())\n",
    "x, y = 1, 1\n",
    "plans = input().split()\n",
    "\n",
    "# L, R, U, D에 따른 이동 방향\n",
    "dx = [0, 0, -1, 1]\n",
    "dy = [-1, 1, 0, 0]\n",
    "moves_type = ['L', 'R', 'U', 'D']\n",
    "\n",
    "# 이동 계획을 하나씩 확인\n",
    "for plan in plans:\n",
    "    # 이동 후 좌표 구하기\n",
    "    for i in range(len(moves_type)):\n",
    "        if plan == moves_type[i]:\n",
    "            nx = x + dx[i]\n",
    "            ny = y + dy[i]\n",
    "    # 공간을 벗어나는 경우 무시\n",
    "    if nx < 1 or ny < 1 or nx > n or ny > n:\n",
    "        continue\n",
    "    # 이동 수행\n",
    "    x, y = nx, ny"
   ]
  },
  {
   "cell_type": "markdown",
   "metadata": {},
   "source": [
    "##### 📚 4-2 시각\n",
    "\n",
    "###### 입력 조건\n",
    "###### - 첫째 줄에 정수 N이 입력된다. (1 <= N <= 23)\n",
    "\n",
    "###### 출력 조건\n",
    "###### - 00시 00분 00초부터 N시 59분 59초까지의 모든 시각 중에서 3이 하나라도 포함되는 모든 경우의 수를 출력한다.\n",
    "\n",
    "###### 입력 예시\n",
    "###### 5\n",
    "\n",
    "###### 출력 예시\n",
    "###### 11475"
   ]
  },
  {
   "cell_type": "markdown",
   "metadata": {},
   "source": [
    "##### 책"
   ]
  },
  {
   "cell_type": "code",
   "execution_count": null,
   "metadata": {},
   "outputs": [],
   "source": [
    "# 입력\n",
    "h = int(input())\n",
    "\n",
    "count = 0\n",
    "\n",
    "# 시, 분, 초를 문자열로 바꿔서\n",
    "for i in range(h+1):\n",
    "    for j in range(60):\n",
    "        for k in range(60):\n",
    "            if '3' in str(i) + str(j) + str(k):\n",
    "                count += 1\n",
    "\n",
    "# 3 있는 거 검출\n",
    "print(count)\n",
    "\n"
   ]
  },
  {
   "cell_type": "markdown",
   "metadata": {},
   "source": [
    "##### 📚 4-3 왕실의 나이트\n",
    "\n",
    "###### 입력 조건\n",
    "###### - 첫째 줄에 8x8 좌표 평면상에서 현재 나이트가 위치한 곳의 좌표를 나타내는 두 문자로 구성된 문자열이 입력된다. 입력 문자는 a1처럼 열과 행으로 이뤄진다.\n",
    "\n",
    "###### 출력 조건\n",
    "###### - 첫째 줄에 나이트가 이동할 수 있는 경우의 수를 출력하시오.\n",
    "\n",
    "###### 입력 예시\n",
    "###### a1\n",
    "\n",
    "###### 출력 예시\n",
    "###### 2"
   ]
  },
  {
   "cell_type": "markdown",
   "metadata": {},
   "source": [
    "##### 책"
   ]
  },
  {
   "cell_type": "code",
   "execution_count": null,
   "metadata": {},
   "outputs": [],
   "source": [
    "# 나이트의 현재 위치 입력 받기\n",
    "knight = input()\n",
    "row = int(knight[1])\n",
    "column = int(ord(knight[0])) - int(ord('a')) + 1 ##\n",
    "\n",
    "count = 0\n",
    "\n",
    "# 나이트의 이동 가능 경우의 수 세기\n",
    "# 나이트의 총 이동 가능 경우의 수: 8가지\n",
    "moves = [(-1, 2), (1, 2), (-1, -2), (1, -2), (-2, -1), (-2, 1), (2, -1), (2, 1)]\n",
    "\n",
    "# 현재 위치에서 가능한 경우를 확인해서 카운트에 넣기\n",
    "for move in moves:\n",
    "    next_row = row + move[0]\n",
    "    next_column = column + move[1]\n",
    "    \n",
    "    if 1 <= next_row <= 8 and 1<= next_column <= 8:\n",
    "        count += 1\n",
    "\n",
    "# 출력\n",
    "print(count)"
   ]
  },
  {
   "cell_type": "markdown",
   "metadata": {},
   "source": [
    "##### 📚 4-3 게임 개발\n",
    "\n",
    "###### 입력 조건\n",
    "###### - 첫째 줄에 맵의 세로 크기 N과 가로 크기 M을 공백으로 구분하여 입력한다. (3 <= N, M <= 50)\n",
    "###### - 둘째 줄에 게임 캐릭터가 있는 칸의 좌표 (A, B)와 바라보는 방향 d가 각각 서로 공백으로 구분하여 주어진다. 방향 d의 값으로는 다음과 같이 4가지가 존재한다.\n",
    "###### 0: 북, 1: 동, 2: 남, 3: 서쪽\n",
    "###### - 셋째 줄부터 맵이 육지인지 바다인지에 대한 정보가 주어진다. N개의 줄에 맵의 상태가 북쪽부터 남쪽 순서대로, 각 줄의 데이터는 서쪽부터 동쪽 순서대로 주어진다. 맵의 외곽은 항상 바다로 되어 있다. 0: 육지, 1: 바다\n",
    "###### - 처음에 게임 캐릭터가 위치한 칸의 상태는 항상 육지이다.\n",
    "\n",
    "###### 출력 조건\n",
    "###### - 첫째 줄에 이동을 마친 후 캐릭터가 방문한 칸의 수를 출력한다.\n",
    "\n",
    "###### 입력 예시\n",
    "###### 4 4      # 4x4 맵 생성\n",
    "###### 1 1 0    # (1, 1)에 북쪽(0)을 바라보고 서 있는 캐릭터 \n",
    "###### 1 1 1 1  # 첫 줄은 모두 바다\n",
    "###### 1 0 0 1  # 둘째 줄은 바다/육지/육지/바다 \n",
    "###### 1 1 0 1  # 셋째 줄은 바다/바다/육지/바다\n",
    "###### 1 1 1 1  # 넷째 줄은 모두 바다\n",
    "\n",
    "###### 출력 예시\n",
    "###### 3"
   ]
  },
  {
   "cell_type": "markdown",
   "metadata": {},
   "source": [
    "##### 책"
   ]
  },
  {
   "cell_type": "code",
   "execution_count": null,
   "metadata": {},
   "outputs": [],
   "source": [
    "# N, M을 공백으로 구분하여 입력받기\n",
    "n, m = map(int, input().split())\n",
    "\n",
    "# 방문한 위치를 저장하기 위한 맵을 생성하며 0으로 초기화\n",
    "d = [[0] * m for _ in range(n)]\n",
    "\n",
    "# 현재 캐릭터의 X 좌표, Y 좌표, 방향을 입력받기\n",
    "x, y, direction = map(int, input().split())\n",
    "\n",
    "# 현재 좌표 방문 처리\n",
    "d[x][y] = 1\n",
    "\n",
    "# 전체 맵 정보를 입력받기\n",
    "array = []\n",
    "for i in range(n):\n",
    "    array.append(list(map(int, input().split())))\n",
    "\n",
    "# 북, 동, 남, 서 방향 정의\n",
    "dx = [-1, 0, 1 ,0]\n",
    "dy = [0, 1 ,0, -1]\n",
    "\n",
    "# 왼쪽으로 회전\n",
    "def turn_left():\n",
    "    global direction\n",
    "    direction -= 1\n",
    "    if direction == -1:\n",
    "        direction = 3\n",
    "\n",
    "# 시뮬레이션 시작\n",
    "count = 1\n",
    "turn_time = 0\n",
    "while True:\n",
    "    \n",
    "    # 왼쪽으로 회전\n",
    "    turn_left()\n",
    "    nx = x + dx[direction]\n",
    "    ny = y + dy[direction]\n",
    "\n",
    "    # 회전한 이후 정면에 가보지 않은 칸이 존재하는 경우 이동\n",
    "    if d[nx][ny] == 0 and array[nx][ny] == 0:\n",
    "        d[nx][ny] = 1\n",
    "        x = nx\n",
    "        y = ny\n",
    "        count += 1\n",
    "        turn_time = 0\n",
    "        continue\n",
    "\n",
    "    #회전한 이후 정면에 가보지 않은 칸이 없거나 바다인 경우\n",
    "    else:\n",
    "        turn_time += 1\n",
    "    \n",
    "    # 네 방향 모두 갈 수 없는 경우\n",
    "    if turn_time == 4:\n",
    "        nx = x - dx[direction]\n",
    "        ny = y - dy[direction]\n",
    "\n",
    "        # 뒤로 갈 수 있다면 이동하기\n",
    "        if array[nx][ny] == 0:\n",
    "            x = nx\n",
    "            y = ny \n",
    "\n",
    "        # 뒤가 바다로 막혀있는 경우\n",
    "        else:\n",
    "            break\n",
    "        turn_time = 0\n",
    "\n",
    "# 정답 출력\n",
    "print(count)"
   ]
  }
 ],
 "metadata": {
  "kernelspec": {
   "display_name": "Python 3",
   "language": "python",
   "name": "python3"
  },
  "language_info": {
   "codemirror_mode": {
    "name": "ipython",
    "version": 3
   },
   "file_extension": ".py",
   "mimetype": "text/x-python",
   "name": "python",
   "nbconvert_exporter": "python",
   "pygments_lexer": "ipython3",
   "version": "3.10.4"
  }
 },
 "nbformat": 4,
 "nbformat_minor": 2
}
