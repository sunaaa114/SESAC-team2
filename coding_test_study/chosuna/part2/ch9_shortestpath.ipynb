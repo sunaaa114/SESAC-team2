{
 "cells": [
  {
   "cell_type": "markdown",
   "metadata": {},
   "source": [
    "# 최단 경로 (Shortest Path)\n",
    "가장 짧은 경로를 찾는 알고리즘\n",
    "- 한 지점에서 다른 한 지점까지의 최단 경로\n",
    "- 한 지점에서 다른 모든 지점까지의 최단 경로\n",
    "- 모든 지점에서 다른 모든 지점까지의 최단 경로"
   ]
  },
  {
   "cell_type": "markdown",
   "metadata": {},
   "source": [
    "- 각 지점은 그래프에서 **노드**로 표현\n",
    "- 지점 간 연결된 도로는 그래프에서 **간선**으로 표현"
   ]
  },
  {
   "cell_type": "markdown",
   "metadata": {},
   "source": [
    "## 다익스트라 최단 경로 알고리즘\n",
    "그래프에서 여러 개의 노드가 있을 때, 특정한 노드에서 출발하여 다른 모든 노드로 가는 각각의 최단 경로를 구해주는 알고리즘이다.\n",
    "- 음의 간선이 없을 때 정상적으로 동작\n",
    "- 그리디 알고리즘으로 분류 (매번 가장 비용이 적은 노드를 선택해서 임의의 과정을 반복)\n",
    "    1. 출발 노드를 설정한다.\n",
    "    2. 최단 거리 테이블을 초기화한다.\n",
    "    3. 방문하지 않은 노드 중에서 최단 거리가 가장 짧은 노드를 선택한다.\n",
    "    4. 해당 노드를 거쳐 다른 노드를 가능 비용을 계산하여 최단 거리 테이블을 갱신한다.\n",
    "    5. 위 과정에서 3과 4번을 반복한다."
   ]
  },
  {
   "cell_type": "markdown",
   "metadata": {},
   "source": [
    "### 간단한 다익스트라 알고리즘\n",
    "- 처음에 각 노드에 대한 최단 거리를 담는 1차원 리스트 선언\n",
    "- 단계마다 방문하지 않은 노드 중에서 최단 거리가 가장 짧은 노드를 선택하기 위해 매 단계마다 1차원 리스트의 모든 원소를 확인(순차 탐색)\n",
    "- 시간 복잡도 : O(V^2) (V는 노드의 개수)"
   ]
  },
  {
   "cell_type": "code",
   "execution_count": 1,
   "metadata": {},
   "outputs": [],
   "source": [
    "import sys\n",
    "input = sys.stdin.readline\n",
    "INF = int(1e9)\n",
    "\n",
    "# 노드의 개수, 간선의 개수를 입력받기\n",
    "n, m = map(int, input().split())\n",
    "# 시작 노드 번호를 입력받기\n",
    "start = int(input())\n",
    "# 각 노드에 연결되어 있는 노드에 대한 정보를 담는 리스트를 만들기\n",
    "graph = [[] for i in range(n + 1)]\n",
    "# 방문한 적이 있는지 체크하는 목적의 리스트를 만들기\n",
    "visited = [False] * (n + 1)\n",
    "# 최단 거리 테이블을 모두 무한으로 초기화\n",
    "distance = [INF] * (n + 1)\n",
    "\n",
    "# 모든 간선 정보를 입력받기\n",
    "for _ in range(m):\n",
    "    a, b, c = map(int, input().split())\n",
    "    # a번 노드에서 b번 노드로 가는 비용이 c라는 의미\n",
    "    graph[a].append((b, c))\n",
    "    \n",
    "# 방문하지 않은 노드 중에서, 가장 최단 거리가 짧은 노드의 번호를 반환\n",
    "def get_smallest_node():\n",
    "    min_value = INF\n",
    "    index = 0 # 가장 최단 거리가 짧은 노드(인덱스)\n",
    "    for i in range(1, n + 1):\n",
    "        if distance[i] < min_value and not visited[i]:\n",
    "            min_value = distance[i]\n",
    "            index = i\n",
    "    return index\n",
    "\n",
    "def dijkstra(start):\n",
    "    # 시작 노드에 대해서 초기화\n",
    "    distance[start] = 0\n",
    "    visited[start] = True\n",
    "    for j in graph[start]:\n",
    "        distance[j[0]] = j[1]\n",
    "    # 시작 노드를 제외한 전체 n - 1개의 노드에 대해 반복\n",
    "    for i in range(n - 1):\n",
    "        now = get_smallest_node()\n",
    "        visited[now] = True\n",
    "        # 현재 노드와 연결된 다른 노드를 확인\n",
    "        for j in graph[now]:\n",
    "            cost = distance[now] + j[1]\n",
    "            # 현재 노드를 거쳐서 다른 노드로 이동하는 거리가 더 짧은 경우\n",
    "            if cost < distance[j[0]]:\n",
    "                distance[j[0]] = cost\n",
    "                \n",
    "# 다익스트라 알고리즘 수행\n",
    "dijkstra(start)\n",
    "\n",
    "# 모든 노드로 가기 위한 최단 거리를 출력\n",
    "for i in range(1, n + 1):\n",
    "    # 도달할 수 없는 경우, 무한(INFINITY)이라고 출력\n",
    "    if distance[i] == INF:\n",
    "        print(\"INFINITY\")\n",
    "    else:\n",
    "        print(distance[i])"
   ]
  },
  {
   "cell_type": "markdown",
   "metadata": {},
   "source": [
    "### 개선된 다익스트라 알고리즘\n",
    "- 단계마다 방문하지 않은 노드 중에서 최단 거리가 가장 짧은 노드를 선택하기 위해 **힙 자료구조** 사용 (최소 힙)\n",
    "- 시간 복잡도 : O(ElogV) (E는 간선의 개수, V는 노드의 개수)"
   ]
  },
  {
   "cell_type": "markdown",
   "metadata": {},
   "source": [
    "#### 힙 (Heap)\n",
    "힙 자료구조는 우선순위 큐를 구현하기 위하여 사용하는 자료구조 중 하나\n",
    "- 우선순위 큐 : 우선순위가 가장 높은 데이터를 가장 먼저 삭제\n",
    "    - 최소 힙, 최대 힙\n",
    "    - 우선순위 큐 구현 방식\n",
    "        - 리스트 (삽입 시간 : O(1), 삭제 시간 : O(N))\n",
    "        - 힙 (삽입 시간 : O(logN), 삭제 시간 : O(logN))"
   ]
  },
  {
   "cell_type": "markdown",
   "metadata": {},
   "source": [
    "힙 라이브러리 사용 예제: 최소 힙"
   ]
  },
  {
   "cell_type": "code",
   "execution_count": 1,
   "metadata": {},
   "outputs": [
    {
     "name": "stdout",
     "output_type": "stream",
     "text": [
      "[0, 1, 2, 3, 4, 5, 6, 7, 8, 9]\n"
     ]
    }
   ],
   "source": [
    "import heapq\n",
    "\n",
    "# 오름차순 힙 정렬\n",
    "def heapsort(iterable):\n",
    "    h = []\n",
    "    result = []\n",
    "    # 모든 원소를 차례대로 힙에 삽입\n",
    "    for value in iterable:\n",
    "        heapq.heappush(h, value)\n",
    "    # 힙에 삽입된 모든 원소를 차례대로 꺼내어 담기\n",
    "    for i in range(len(h)):\n",
    "        result.append(heapq.heappop(h))\n",
    "    return result\n",
    "\n",
    "result = heapsort([1, 3, 5, 7, 9, 2, 4, 6, 8, 0])\n",
    "print(result)"
   ]
  },
  {
   "cell_type": "markdown",
   "metadata": {},
   "source": [
    "힙 라이브러리 사용 예제: 최대 힙"
   ]
  },
  {
   "cell_type": "code",
   "execution_count": 2,
   "metadata": {},
   "outputs": [
    {
     "name": "stdout",
     "output_type": "stream",
     "text": [
      "[9, 8, 7, 6, 5, 4, 3, 2, 1, 0]\n"
     ]
    }
   ],
   "source": [
    "import heapq\n",
    "\n",
    "# 오름차순 힙 정렬\n",
    "def heapsort(iterable):\n",
    "    h = []\n",
    "    result = []\n",
    "    # 모든 원소를 차례대로 힙에 삽입\n",
    "    for value in iterable:\n",
    "        heapq.heappush(h, -value)\n",
    "    # 힙에 삽입된 모든 원소를 차례대로 꺼내어 담기\n",
    "    for i in range(len(h)):\n",
    "        result.append(-heapq.heappop(h))\n",
    "    return result\n",
    "\n",
    "result = heapsort([1, 3, 5, 7, 9, 2, 4, 6, 8, 0])\n",
    "print(result)"
   ]
  },
  {
   "cell_type": "code",
   "execution_count": null,
   "metadata": {},
   "outputs": [],
   "source": [
    "import heapq\n",
    "import sys\n",
    "input = sys.stdin.readline\n",
    "INF = int(1e9)\n",
    "\n",
    "# 노드의 개수, 간선의 개수를 입력받기\n",
    "n, m = map(int, input().split())\n",
    "# 시작 노드 번호를 입력받기\n",
    "start = int(input())\n",
    "# 각 노드에 연결되어 있는 노드에 대한 정보를 담는 리스트를 만들기\n",
    "graph = [[] for i in range(n + 1)]\n",
    "# 최단 거리 테이블을 모두 무한으로 초기화\n",
    "distance = [INF] * (n + 1)\n",
    "\n",
    "# 모든 간선 정보를 입력받기\n",
    "for _ in range(m):\n",
    "    a, b, c = map(int, input().split())\n",
    "    # a번 노드에서 b번 노드로 가는 비용이 c라는 의미\n",
    "    graph[a].append((b, c))\n",
    "\n",
    "def dijkstra(start):\n",
    "    q = []\n",
    "    # 시작 노드로 가기 위한 최단 경로는 0으로 설정하여, 큐에 삽입\n",
    "    heapq.heappush(q, (0, start))\n",
    "    distance[start] = 0\n",
    "    while q:    # 큐가 비어있지 않다면\n",
    "        # 가장 최단 거리가 짧은 노드에 대한 정보 꺼내기\n",
    "        dist, now = heapq.heappop(q)\n",
    "        # 현재 노드가 이미 처리된 적이 있는 노드라면 무시\n",
    "        if distance[now] < dist:\n",
    "            continue\n",
    "        # 현재 노드와 연결된 다른 인접한 노드들을 확인\n",
    "        for i in graph[now]:\n",
    "            cost = dist + i[1]\n",
    "            # 현재 노드를 거쳐서, 다른 노드로 이동하는 거리가 더 짧은 경우\n",
    "            if cost < distance[i[0]]:\n",
    "                distance[i[0]] = cost\n",
    "                heapq.heappush(q, (cost, i[0]))\n",
    "                \n",
    "# 다익스트라 알고리즘 수행\n",
    "dijkstra(start)\n",
    "\n",
    "# 모든 노드로 가기 위한 최단 거리를 출력\n",
    "for i in range(1, n + 1):\n",
    "    # 도달할 수 없는 경우, 무한(INFINITY)이라고 출력\n",
    "    if distance[i] == INF:\n",
    "        print(\"INFINITY\")\n",
    "    else:\n",
    "        print(distance[i])"
   ]
  },
  {
   "cell_type": "markdown",
   "metadata": {},
   "source": [
    "## 플로이드 워셜 알고리즘\n",
    "모든 지점에서 다른 모든 지점까지의 최단 경로를 모두 구해야 하는 경우에 사용할 수 있는 알고리즘이다.\n",
    "- 매 단계마다 방문하지 않은 노드 중에 최단 거리를 갖는 노드를 찾는 과정이 필요하지 않다\n",
    "- 2차원 테이블에 최단 거리 정보 저장\n",
    "- 시간 복잡도 : O(N^3) (N은 노드의 개수)"
   ]
  },
  {
   "cell_type": "code",
   "execution_count": 3,
   "metadata": {},
   "outputs": [
    {
     "name": "stdout",
     "output_type": "stream",
     "text": [
      "0 4 8 6 \n",
      "3 0 7 9 \n",
      "5 9 0 4 \n",
      "7 11 2 0 \n"
     ]
    }
   ],
   "source": [
    "INF = int(1e9)\n",
    "\n",
    "# 노드의 개수 및 간선의 개수를 입력받기\n",
    "n = int(input())\n",
    "m = int(input())\n",
    "# 2차원 리스트(그래프 표현)를 만들고, 모든 값을 무한으로 초기화\n",
    "graph = [[INF] * (n + 1) for _ in range(n + 1)]\n",
    "\n",
    "# 자기 자신에서 자기 자신으로 가는 비용은 0으로 초기화\n",
    "for a in range(1, n + 1):\n",
    "    for b in range(1, n + 1):\n",
    "        if a == b:\n",
    "            graph[a][b] = 0\n",
    "            \n",
    "# 각 간선에 대한 정보를 입력받아, 그 값으로 초기화\n",
    "for _ in range(m):\n",
    "    # A에서 B로 가는 비용은 C라고 설정\n",
    "    a, b, c = map(int, input().split())\n",
    "    graph[a][b] = c\n",
    "    \n",
    "# 점화식에 따라 플로이드 워셜 알고리즘을 수행\n",
    "for k in range(1, n + 1):\n",
    "    for a in range(1, n + 1):\n",
    "        for b in range(1, n + 1):\n",
    "            graph[a][b] = min(graph[a][b], graph[a][k] + graph[k][b])\n",
    "            \n",
    "# 수행된 결과를 출력\n",
    "for a in range(1, n + 1):\n",
    "    for b in range(1, n + 1):\n",
    "        # 도달할 수 없는 경우, 무한(INFINITY)이라고 출력\n",
    "        if graph[a][b] == INF:\n",
    "            print(\"INFINITY\", end=\" \")\n",
    "        else:\n",
    "            print(graph[a][b], end=\" \")\n",
    "    print()"
   ]
  },
  {
   "cell_type": "markdown",
   "metadata": {},
   "source": [
    "---"
   ]
  },
  {
   "cell_type": "markdown",
   "metadata": {},
   "source": [
    "## 2. 미래 도시\n",
    "- 양방향 도로(간선)\n",
    "- 현재 위치 : 1번 회사\n",
    "- 중간 목적지 : K번 회사\n",
    "- 최종 목적지 : X번 회사"
   ]
  },
  {
   "cell_type": "markdown",
   "metadata": {},
   "source": [
    "입력 조건 :\n",
    "- 첫째 줄에 전체 회사의 개수 N과 경로의 개수 M이 공백으로 구분되어 차례대로 주어진다. (1 <= N, M <= 100)\\\n",
    "(예시) 5 7\n",
    "- 둘째 줄부터 M + 1번째 줄에는 연결된 두 회사의 번호가 공백으로 구분되어 주어진다.\\\n",
    "(예시)\\\n",
    "1 2\\\n",
    "1 3\\\n",
    "1 4\\\n",
    "2 4\\\n",
    "3 4\\\n",
    "3 5\\\n",
    "4 5\n",
    "- M + 2번째 줄에는 X와 K가 공백으로 구분되어 차례대로 주어진다. (1 <= K <= 100)\\\n",
    "(예시) 4 5"
   ]
  },
  {
   "cell_type": "markdown",
   "metadata": {},
   "source": [
    "출력 조건 :\n",
    "- 첫째 줄에 방문 판매원 A가 K번 회사를 거쳐 X번 회사로 가는 최소 이동 시간을 출력한다. (1->K->X)\\\n",
    "(예시) 3\n",
    "- 만약 X번 회사에 도달할 수 없다면 -1을 출력한다.\\\n",
    "(예시) -1"
   ]
  },
  {
   "cell_type": "markdown",
   "metadata": {},
   "source": [
    "### 혼자 푼 거\n",
    "- 개선된 다익스트라 알고리즘 2번 사용"
   ]
  },
  {
   "cell_type": "code",
   "execution_count": 42,
   "metadata": {},
   "outputs": [
    {
     "name": "stdout",
     "output_type": "stream",
     "text": [
      "3\n"
     ]
    }
   ],
   "source": [
    "import heapq\n",
    "\n",
    "n, m = map(int, input().split())\n",
    "connect_dict = {company + 1 : [] for company in range(n)}\n",
    "\n",
    "for _ in range(m):\n",
    "    com1, com2 = map(int, input().split())\n",
    "    # 양방향\n",
    "    connect_dict[com1].append(com2)\n",
    "    connect_dict[com2].append(com1)\n",
    "    \n",
    "x, k = map(int, input().split())\n",
    "\n",
    "INF = int(1e9)\n",
    "distance_list = [INF] * (n + 1)\n",
    "\n",
    "def shortest_path(start):\n",
    "    q = []\n",
    "    heapq.heappush(q, (0, start))\n",
    "    distance_list[start] = 0\n",
    "    \n",
    "    while q:\n",
    "        dist, now = heapq.heappop(q)\n",
    "        if distance_list[now] < dist:\n",
    "            continue\n",
    "        # 현재 노드와 연결된 노드\n",
    "        for conn in connect_dict[now]:\n",
    "            if dist + 1 < distance_list[conn]:\n",
    "                distance_list[conn] = dist + 1\n",
    "                heapq.heappush(q, (distance_list[conn], conn))\n",
    "    \n",
    "shortest_path(1)\n",
    "dist_k = distance_list[k]\n",
    "if dist_k != INF:\n",
    "    shortest_path(k)\n",
    "    dist_x = distance_list[x]\n",
    "    if dist_x != INF:\n",
    "        print(dist_k + dist_x)\n",
    "    else:\n",
    "        print(-1)\n",
    "else:\n",
    "    print(-1)"
   ]
  },
  {
   "cell_type": "markdown",
   "metadata": {},
   "source": [
    "### 정답지\n",
    "- 플로이드 워셜 알고리즘"
   ]
  },
  {
   "cell_type": "code",
   "execution_count": 20,
   "metadata": {},
   "outputs": [
    {
     "name": "stdout",
     "output_type": "stream",
     "text": [
      "3\n"
     ]
    }
   ],
   "source": [
    "INF = int(1e9)\n",
    "\n",
    "n, m = map(int, input().split())\n",
    "graph = [[INF] * (n + 1) for _ in range(n + 1)]\n",
    "\n",
    "for a in range(1, n + 1):\n",
    "    for b in range(1, n + 1):\n",
    "        if a == b:\n",
    "            graph[a][b] = 0\n",
    "            \n",
    "for _ in range(m):\n",
    "    a, b = map(int, input().split())\n",
    "    graph[a][b] = 1\n",
    "    graph[b][a] = 1\n",
    "    \n",
    "x, k = map(int, input().split())\n",
    "\n",
    "for k in range(1, n + 1):\n",
    "    for a in range(1, n + 1):\n",
    "        for b in range(1, n + 1):\n",
    "            graph[a][b] = min(graph[a][b], graph[a][k] + graph[k][b])\n",
    "            \n",
    "distance = graph[1][k] + graph[k][x]\n",
    "\n",
    "if distance >= INF:\n",
    "    print(-1)\n",
    "else:\n",
    "    print(distance)"
   ]
  },
  {
   "cell_type": "markdown",
   "metadata": {},
   "source": [
    "## 3. 전보"
   ]
  },
  {
   "cell_type": "markdown",
   "metadata": {},
   "source": [
    "입력 조건 :\n",
    "- 첫째 줄에 도시의 개수 N, 통로의 개수 M, 메시지를 보내고자 하는 도시 C가 주어진다. (1 <= N <= 30,000, 1 <= M <= 200,000, 1 <= C <= N)\\\n",
    "(예시) 3 2 1\n",
    "- 둘째 줄부터 M + 1번째 줄에 걸쳐서 통로에 대한 정보 X, Y, Z가 주어진다. 이는 특정 도시 X에서 다른 특정 도시 Y로 이어지는 통로가 있으며, 메시지가 전달되는 시간이 Z라는 의미다.\\\n",
    "(예시)\\\n",
    "1 2 4\\\n",
    "1 3 2"
   ]
  },
  {
   "cell_type": "markdown",
   "metadata": {},
   "source": [
    "출력 조건 :\n",
    "- 첫째 줄에 도시 C에서 보낸 메시지를 받는 도시의 총 개수와 총 걸리는 시간을 공백으로 구분하여 출력한다.\\\n",
    "(예시) 2 4"
   ]
  },
  {
   "cell_type": "markdown",
   "metadata": {},
   "source": [
    "### 혼자 푼 거 1\n",
    "- 플로이드 워셜 알고리즘\n",
    "- N이 30000개까지 들어올 수 있기 때문에 오래 걸릴 수 있음"
   ]
  },
  {
   "cell_type": "code",
   "execution_count": 34,
   "metadata": {},
   "outputs": [
    {
     "name": "stdout",
     "output_type": "stream",
     "text": [
      "2 4\n"
     ]
    }
   ],
   "source": [
    "n, m, c = map(int, input().split())\n",
    "INF = int(1e9)\n",
    "connect_array = [[INF] * (n + 1) for i in range(n + 1)]\n",
    "\n",
    "for a in range(1, n + 1):\n",
    "    connect_array[a][a] = 0\n",
    "    \n",
    "for _ in range(m):\n",
    "    x, y, z = map(int, input().split())\n",
    "    connect_array[x][y] = z\n",
    "    \n",
    "for k in range(1, n + 1):\n",
    "    for i in range(1, n + 1):\n",
    "        for j in range(1, n + 1):\n",
    "            connect_array[i][j] = min(connect_array[i][j], connect_array[i][k] + connect_array[k][j])\n",
    "\n",
    "# city_count : 자기 자신을 제외하고 메시지 전달 시간이 INF가 아닌 도시 수\n",
    "city_count = -1\n",
    "# total_time : 메시지 전달 시간이 INF가 아니면서 최댓값\n",
    "total_time = 0\n",
    "for j in range(1, n + 1):\n",
    "    if connect_array[c][j] != INF:\n",
    "        city_count += 1\n",
    "        if connect_array[c][j] > total_time:\n",
    "            total_time = connect_array[c][j]\n",
    "\n",
    "print(city_count, total_time)"
   ]
  },
  {
   "cell_type": "markdown",
   "metadata": {},
   "source": [
    "### 혼자 푼 거 2\n",
    "- 개선된 다익스트라 알고리즘"
   ]
  },
  {
   "cell_type": "code",
   "execution_count": 41,
   "metadata": {},
   "outputs": [
    {
     "name": "stdout",
     "output_type": "stream",
     "text": [
      "2 4\n"
     ]
    }
   ],
   "source": [
    "import heapq\n",
    "\n",
    "n, m, c = map(int, input().split())\n",
    "connect_dict= {city + 1 : [] for city in range(n)}\n",
    "\n",
    "for _ in range(m):\n",
    "    x, y, z = map(int, input().split())\n",
    "    connect_dict[x].append((y, z))\n",
    "    \n",
    "INF = int(1e9)\n",
    "distance_list = [INF] * (n + 1)\n",
    "\n",
    "def shortest_path(start):\n",
    "    q = []\n",
    "    heapq.heappush(q, (0, start))\n",
    "    distance_list[start] = 0\n",
    "    \n",
    "    while q:\n",
    "        dist, now = heapq.heappop(q)\n",
    "        if distance_list[now] < dist:\n",
    "            continue\n",
    "        for city, cost in connect_dict[now]:\n",
    "            total_cost = dist + cost\n",
    "            if distance_list[city] > total_cost:\n",
    "                distance_list[city] = total_cost\n",
    "                heapq.heappush(q, (total_cost, city))\n",
    "                \n",
    "shortest_path(c)\n",
    "# city_count : 자기 자신을 제외하고 메시지 전달 시간이 INF가 아닌 도시 수\n",
    "city_count = -1\n",
    "# total_time : 메시지 전달 시간이 INF가 아니면서 최댓값\n",
    "total_time = 0\n",
    "for i in range(1, n + 1):\n",
    "    if distance_list[i] != INF:\n",
    "        city_count += 1\n",
    "        if total_time < distance_list[i]:\n",
    "            total_time = distance_list[i]\n",
    "            \n",
    "print(city_count, total_time)"
   ]
  }
 ],
 "metadata": {
  "kernelspec": {
   "display_name": "newbie",
   "language": "python",
   "name": "python3"
  },
  "language_info": {
   "codemirror_mode": {
    "name": "ipython",
    "version": 3
   },
   "file_extension": ".py",
   "mimetype": "text/x-python",
   "name": "python",
   "nbconvert_exporter": "python",
   "pygments_lexer": "ipython3",
   "version": "3.10.0"
  }
 },
 "nbformat": 4,
 "nbformat_minor": 2
}
