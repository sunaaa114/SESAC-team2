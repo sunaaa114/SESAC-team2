{
 "cells": [
  {
   "cell_type": "markdown",
   "metadata": {},
   "source": [
    "# 기타 그래프 이론\n",
    "DFS/BFS와 최단 경로는 그래프 알고리즘의 한 유형으로 볼 수 있다.\n",
    "- 크루스칼 알고리즘 (Kruskal Algorithms) : 그리디 알고리즘\n",
    "- 위상 정렬 알고리즘 (Topology Algorithms) : 큐, 스택 자료구조 활용해서 구현"
   ]
  },
  {
   "cell_type": "markdown",
   "metadata": {},
   "source": [
    "| |그래프|트리|\n",
    "|--|--|--|\n",
    "|방향성|방향 그래프 혹은 무방향 그래프|방향 그래프|\n",
    "|순환성|순환 및 비순환|비순환|\n",
    "|루트 노드 존재 여부|루트 노드가 없음|루트 노드가 존재|\n",
    "|노드간 관계성|부모와 자식 관계 없음|부모와 자식 관계|\n",
    "|모델의 종류|네트워크 모델|계층 모델|"
   ]
  },
  {
   "cell_type": "markdown",
   "metadata": {},
   "source": [
    "### 그래프 구현 방법\n",
    "(V : 노드 개수, E : 간선 개수)\n",
    "- 인접 행렬(Adjacency Matrix) : 2차원 배열을 사용하는 방식 (플로이드 워셜 알고리즘 : 노드 개수 적을 때 사용)\n",
    "    - 메모리 공간 : O(V^2)\n",
    "    - 간선 비용 : O(1)\n",
    "- 인접 리스트(Adjacency List) : 리스트를 사용하는 방식 (우선순위 큐를 이용한 다익스트라 최단 경로 알고리즘 : 노드와 간선의 개수가 많을 때 사용)\n",
    "    - 메모리 공간 : O(E)\n",
    "    - 간선 비용 : O(V)"
   ]
  },
  {
   "cell_type": "markdown",
   "metadata": {},
   "source": [
    "## 서로소 집합 (Disjoint Sets)\n",
    "공통 원소가 없는 두 집합\n",
    "\n",
    "### 서로소 집합 자료구조 (union-find 자료구조)\n",
    "서로소 부분 집합들로 나누어진 원소들의 데이터를 처리하기 위한 자료구조\n",
    "- union (합집합) : 2개의 원소가 포함된 집합을 하나의 집합으로 합치는 연산\n",
    "- find (찾기) : 특정한 원소가 속한 집합이 어떤 집합인지 알려주는 연산\n",
    "- 트리 자료구조 이용"
   ]
  },
  {
   "cell_type": "markdown",
   "metadata": {},
   "source": [
    "### 서로소 집합 계산 알고리즘\n",
    "1. union(합집한) 연산을 확인하여, 서로 연결된 두 노드 A, B를 확인한다.\n",
    "    1. A와 B의 루트 노드 A', B'를 각각 찾는다.\n",
    "    2. A'를 B'의 부모 노드로 설정한다(B'가 A'를 가리키도록 한다). or A'와 B' 중에서 더 번호가 작은 원소가 부모 노드\n",
    "2. 모든 union(합집합) 연산을 처리할 때까지 1번 과정을 반복한다."
   ]
  },
  {
   "cell_type": "markdown",
   "metadata": {},
   "source": [
    "기본적인 서로소 집합 알고리즘 소스코드\n",
    "- 루트 노드가 같은 원소끼리는 동일한 집합 ({1, 2, 3, 4}, {5, 6})\n",
    "- find 함수가 비효율적으로 동작 (최악의 경우 시간 복잡도 : O(V))\n",
    "- 노드의 개수가 V개이고 find 혹은 union 연산의 개수가 M개일 때, 전체 시간 복잡도 : O(VM)"
   ]
  },
  {
   "cell_type": "code",
   "execution_count": 1,
   "metadata": {},
   "outputs": [
    {
     "name": "stdout",
     "output_type": "stream",
     "text": [
      "각 원소가 속한 집합: 1 1 1 1 5 5 \n",
      "부모 테이블: 1 1 2 1 5 5 "
     ]
    }
   ],
   "source": [
    "# 특정 원소가 속한 집합을 찾기\n",
    "def find_parent(parent, x):\n",
    "    # 루트 노드가 아니라면, 루트 노드를 찾을 때까지 재귀적으로 호출\n",
    "    if parent[x] != x:\n",
    "        return find_parent(parent, parent[x])\n",
    "    return x\n",
    "\n",
    "# 두 원소가 속한 집합을 합치기\n",
    "def union_parent(parent, a, b):\n",
    "    a = find_parent(parent, a)\n",
    "    b = find_parent(parent, b)\n",
    "    if a < b:\n",
    "        parent[b] = a\n",
    "    else:\n",
    "        parent[a] = b\n",
    "        \n",
    "# 노드의 개수와 간선(union 연산)의 개수 입력받기\n",
    "v, e = map(int, input().split())\n",
    "parent = [0] * (v + 1)\n",
    "\n",
    "# 부모 테이블상에서, 부모를 자기 자신으로 초기화\n",
    "for i in range(1, v + 1):\n",
    "    parent[i] = i\n",
    "    \n",
    "# union 연산을 각각 수행\n",
    "for i in range(e):\n",
    "    a, b = map(int, input().split())\n",
    "    union_parent(parent, a, b)\n",
    "    \n",
    "# 각 원소가 속한 집합 출력\n",
    "print('각 원소가 속한 집합: ', end=\"\")\n",
    "for i in range(1, v + 1):\n",
    "    print(find_parent(parent, i), end=' ')\n",
    "    \n",
    "print()\n",
    "\n",
    "# 부모 테이블 내용 출력\n",
    "print('부모 테이블: ', end=\"\")\n",
    "for i in range(1, v + 1):\n",
    "    print(parent[i], end=' ')"
   ]
  },
  {
   "cell_type": "markdown",
   "metadata": {},
   "source": [
    "경로 압축 (Path Compression) 기법 소스코드\n",
    "- find 함수 최적화 : find 함수를 재귀적으로 호출한 뒤에 부모 테이블값을 갱신하는 기법 (각 노드의 루트 노드가 바로 부모 노드가 됨)"
   ]
  },
  {
   "cell_type": "code",
   "execution_count": null,
   "metadata": {},
   "outputs": [],
   "source": [
    "def find_parent(parent, x):\n",
    "    if parent[x] != x:\n",
    "        parent[x] = find_parent(parent, parent[x])\n",
    "    return parent[x]"
   ]
  },
  {
   "cell_type": "markdown",
   "metadata": {},
   "source": [
    "개선된 서로소 집합 알고리즘 소스코드\n",
    "- 노드의 개수 V개, 최대 V - 1개의 union 연산과 M개의 find 연산이 가능할 때, 시간복잡도 : O(V + M(1 + log<sub>2-M/V</sub>V))"
   ]
  },
  {
   "cell_type": "code",
   "execution_count": 1,
   "metadata": {},
   "outputs": [
    {
     "name": "stdout",
     "output_type": "stream",
     "text": [
      "각 원소가 속한 집합: 1 1 1 1 5 5 \n",
      "부모 테이블: 1 1 1 1 5 5 "
     ]
    }
   ],
   "source": [
    "def find_parent(parent, x):\n",
    "    if parent[x] != x:\n",
    "        parent[x] = find_parent(parent, parent[x])\n",
    "    return parent[x]\n",
    "\n",
    "# 두 원소가 속한 집합을 합치기\n",
    "def union_parent(parent, a, b):\n",
    "    a = find_parent(parent, a)\n",
    "    b = find_parent(parent, b)\n",
    "    if a < b:\n",
    "        parent[b] = a\n",
    "    else:\n",
    "        parent[a] = b\n",
    "        \n",
    "# 노드의 개수와 간선(union 연산)의 개수 입력받기\n",
    "v, e = map(int, input().split())\n",
    "parent = [0] * (v + 1)\n",
    "\n",
    "# 부모 테이블상에서, 부모를 자기 자신으로 초기화\n",
    "for i in range(1, v + 1):\n",
    "    parent[i] = i\n",
    "    \n",
    "# union 연산을 각각 수행\n",
    "for i in range(e):\n",
    "    a, b = map(int, input().split())\n",
    "    union_parent(parent, a, b)\n",
    "    \n",
    "# 각 원소가 속한 집합 출력\n",
    "print('각 원소가 속한 집합: ', end=\"\")\n",
    "for i in range(1, v + 1):\n",
    "    print(find_parent(parent, i), end=' ')\n",
    "    \n",
    "print()\n",
    "\n",
    "# 부모 테이블 내용 출력\n",
    "print('부모 테이블: ', end=\"\")\n",
    "for i in range(1, v + 1):\n",
    "    print(parent[i], end=' ')"
   ]
  },
  {
   "cell_type": "markdown",
   "metadata": {},
   "source": [
    "### 서로소 집합을 활용한 사이클 판별\n",
    "- 서로소 집합은 무방향 그래프 내에서의 사이클을 판별할 때 사용할 수 있다.\n",
    "    - 참고로 방향 그래프에서의 사이클 여부는 DFS를 이용하여 판별할 수 있다.\n",
    "- 사이클 판별 알고리즘\n",
    "    1. 각 간선을 하나씩 확인하며 두 노드의 루트 노드를 확인한다.\n",
    "        1) 루트 노드가 서로 다르다면 두 노드에 대하여 합집합(Union) 연산을 수행한다.\n",
    "        2) 루트 노드가 서로 같다면 사이클(Cycle)이 발생한 것이다.\n",
    "    2. 그래프에 포함되어 있는 모든 간선에 대하여 1번 과정을 반복한다."
   ]
  },
  {
   "cell_type": "markdown",
   "metadata": {},
   "source": [
    "서로소 집합을 활용한 사이클 판별 소스코드"
   ]
  },
  {
   "cell_type": "code",
   "execution_count": null,
   "metadata": {},
   "outputs": [],
   "source": [
    "# 특정 원소가 속한 집합을 찾기\n",
    "def find_parent(parent, x):\n",
    "    # 루트 노드가 아니라면, 루트 노드를 찾을 때까지 재귀적으로 호출\n",
    "    if parent[x] != x:\n",
    "        parent[x] = find_parent(parent, parent[x])\n",
    "    return parent[x]\n",
    "\n",
    "# 두 원소가 속한 집합을 합치기\n",
    "def union_parent(parent, a, b):\n",
    "    a = find_parent(parent, a)\n",
    "    b = find_parent(parent, b)\n",
    "    if a < b:\n",
    "        parent[b] = a\n",
    "    else:\n",
    "        parent[a] = b\n",
    "        \n",
    "# 노드의 개수와 간선(union 연산)의 개수 입력받기\n",
    "v, e = map(int, input().split())\n",
    "parent = [0] * (v + 1)      # 부모 테이블 초기화하기\n",
    "\n",
    "# 부모 테이블상에서, 부모를 자기 자신으로 초기화\n",
    "for i in range(1, v + 1):\n",
    "    parent[i] = i\n",
    "    \n",
    "cycle = False   # 사이클 발생 여부\n",
    "\n",
    "for i in range(e):\n",
    "    a, b = map(int, input().split())\n",
    "    # 사이클이 발생한 경우 종료\n",
    "    if find_parent(parent, a) == find_parent(parent, b):\n",
    "        cycle = True\n",
    "        break\n",
    "    # 사이클이 발생하지 않았다면 합집합(Union) 연산 수행\n",
    "    else:\n",
    "        union_parent(parent, a, b)\n",
    "        \n",
    "if cycle:\n",
    "    print(\"사이클이 발생했습니다.\")\n",
    "else:\n",
    "    print(\"사이클이 발생하지 않았습니다.\")"
   ]
  },
  {
   "cell_type": "markdown",
   "metadata": {},
   "source": [
    "## 신장 트리 (Spanning Tree)\n",
    "- 그래프에서 모든 노드를 포함하면서 사이클이 존재하지 않는 부분 그래프 (트리의 조건이기도 함)\n",
    "\n",
    "### 최소 신장 트리\n",
    "- 최소한의 비용으로 구성되는 신장 트리를 찾아야 할 때\n",
    "\n",
    "### 크루스칼 알고리즘 (Kruskal Algorithm)\n",
    "- 대표적인 최소 신장 트리 알고리즘\n",
    "- 그리디 알고리즘\n",
    "- 동작 과정\n",
    "    1. 간선 데이터를 비용에 따라 오름차순으로 정렬\n",
    "    2. 간선을 하나씩 확인하며 현재의 간선이 사이클을 발생시키는지 확인\n",
    "        1) 사이클이 발생하지 않는 경우 최소 신장 트리에 포함\n",
    "        2) 사이클이 발생하는 경우 최소 신장 트리에 포함시키지 않음\n",
    "    3. 모든 간선에 대하여 2번의 과정을 반복"
   ]
  },
  {
   "cell_type": "markdown",
   "metadata": {},
   "source": [
    "크루스칼 알고리즘 소스코드\n",
    "- 시간 복잡도 : O(ElogE)  (E : 간선의 개수) (간선 정렬하는 작업)"
   ]
  },
  {
   "cell_type": "code",
   "execution_count": null,
   "metadata": {},
   "outputs": [],
   "source": [
    "# 특정 원소가 속한 집합을 찾기\n",
    "def find_parent(parent, x):\n",
    "    # 루트 노드가 아니라면, 루트 노드를 찾을 때까지 재귀적으로 호출\n",
    "    if parent[x] != x:\n",
    "        parent[x] = find_parent(parent, parent[x])\n",
    "    return parent[x]\n",
    "\n",
    "# 두 원소가 속한 집합을 합치기\n",
    "def union_parent(parent, a, b):\n",
    "    a = find_parent(parent, a)\n",
    "    b = find_parent(parent, b)\n",
    "    if a < b:\n",
    "        parent[b] = a\n",
    "    else:\n",
    "        parent[a] = b\n",
    "        \n",
    "# 노드의 개수와 간선(union 연산)의 개수 입력받기\n",
    "v, e = map(int, input().split())\n",
    "parent = [0] * (v + 1)      # 부모 테이블 초기화하기\n",
    "\n",
    "# 모든 간선을 담을 리스트와 최종 비용을 담을 변수\n",
    "edges = []\n",
    "result = 0\n",
    "\n",
    "# 부모 테이블상에서, 부모를 자기 자신으로 초기화\n",
    "for i in range(1, v + 1):\n",
    "    parent[i] = i\n",
    "    \n",
    "# 모든 간선에 대한 정보를 입력받기\n",
    "for _ in range(e):\n",
    "    a, b, cost = map(int, input().split())\n",
    "    # 비용순으로 정렬하기 위해서 튜플의 첫 번째 원소를 비용으로 설정\n",
    "    edges.append((cost, a, b))\n",
    "    \n",
    "# 간선을 비용순으로 정렬\n",
    "edges.sort()\n",
    "\n",
    "# 간선을 하나씩 확인하며\n",
    "for edge in edges:\n",
    "    cost, a, b = edge\n",
    "    # 사이클이 발생하지 않는 경우에만 집합에 포함\n",
    "    if find_parent(parent, a) != find_parent(parent, b):\n",
    "        union_parent(parent, a, b)\n",
    "        result += cost\n",
    "        \n",
    "print(result)"
   ]
  },
  {
   "cell_type": "markdown",
   "metadata": {},
   "source": [
    "## 위상 정렬 (Topology Sort)\n",
    "- 사이클이 없는 방향 그래프(DAG)의 모든 노드를 방향성에 거스르지 않도록 순서대로 나열하는 것\n",
    "- 진입차수 (Indegree) : 특정한 노드로 들어오는 간선의 개수\n",
    "- 진출차수 (Outdegree) : 특정한 노드에서 나가는 간선의 개수\n",
    "- **큐**를 이용하는 위상 정렬 알고리즘의 동작 과정\n",
    "    1. 진입차수가 0인 모든 노드를 큐에 넣는다.\n",
    "    2. 큐가 빌 때까지 다음의 과정을 반복한다.\n",
    "        1) 큐에서 원소를 꺼내 해당 노드에서 나가는 간선을 그래프에서 제거한다.\n",
    "        2) 새롭게 진입차수가 0인 된 노드를 큐에 넣는다.\n",
    "    - 결과적으로 각 노드가 큐에 들어온 순서가 위상 정렬을 수행한 결과와 같다"
   ]
  },
  {
   "cell_type": "markdown",
   "metadata": {},
   "source": [
    "### 위상 정렬의 특징\n",
    "- 위상 정렬은 DAG에 대해서만 수행할 수 있다.\n",
    "    - DAG (Direct Acyclic Graph) : 순환하지 않는 방향 그래프\n",
    "- 위상 정렬에서는 여러 가지 답입 존재할 수 있다.\n",
    "    - 한 단계에서 큐에 새롭게 들어가는 원소가 2개 이상인 경우가 있다면 여러 가지 답입 존재\n",
    "- 모든 원소를 방문하기 전에 큐가 빈다면 사이클이 존재한다고 판단할 수 있다.\n",
    "    - 사이클에 포함된 원소 중에서 어떠한 원소도 큐에 들어가지 못한다.\n",
    "- 스택을 활용한 DFS를 이용해 위상 정렬을 수행할 수도 있다."
   ]
  },
  {
   "cell_type": "markdown",
   "metadata": {},
   "source": [
    "위상 정렬 소스코드\n",
    "- 시간 복잡도 : O(V + E)"
   ]
  },
  {
   "cell_type": "code",
   "execution_count": 1,
   "metadata": {},
   "outputs": [
    {
     "name": "stdout",
     "output_type": "stream",
     "text": [
      "1 2 5 3 6 4 7 "
     ]
    }
   ],
   "source": [
    "from collections import deque\n",
    "\n",
    "# 노드의 개수와 간선(union 연산)의 개수 입력받기\n",
    "v, e = map(int, input().split())\n",
    "# 모든 노드에 대한 진입차수는 0으로 초기화\n",
    "indegree = [0] * (v + 1)\n",
    "# 각 노드에 연결된 간선 정보를 담기 위한 연결 리스트(그래프) 초기화\n",
    "graph = [[] for i in range(v + 1)]\n",
    "\n",
    "# 방향 그래프의 모든 간선 정보를 입력받기\n",
    "for _ in range(e):\n",
    "    a, b = map(int, input().split())\n",
    "    graph[a].append(b)  # 정점 A에서 B로 이동 가능\n",
    "    # 진입차수를 1 증가\n",
    "    indegree[b] += 1\n",
    "    \n",
    "# 위상 정렬 함수\n",
    "def topology_sort():\n",
    "    result = []     # 알고리즘 수행 결과를 담을 리스트\n",
    "    q = deque()     # 큐 기능을 위한 deque 라이브러리 사용\n",
    "    \n",
    "    # 처음 시작할 때는 진입차수가 0인 노드를 큐에 삽입\n",
    "    for i in range(1, v + 1):\n",
    "        if indegree[i] == 0:\n",
    "            q.append(i)\n",
    "            \n",
    "    # 큐가 빌 때까지 반복\n",
    "    while q:\n",
    "        # 큐에서 원소 꺼내기\n",
    "        now = q.popleft()\n",
    "        result.append(now)\n",
    "        # 해당 원소와 연결된 노드들의 진입차수에서 1 빼기\n",
    "        for i in graph[now]:\n",
    "            indegree[i] -= 1\n",
    "            # 새롭게 진입차수가 0이 되는 노드를 큐에 삽입\n",
    "            if indegree[i] == 0:\n",
    "                q.append(i)\n",
    "                \n",
    "    # 위상 정렬을 수행한 결과 출력\n",
    "    for i in result:\n",
    "        print(i, end=' ')\n",
    "        \n",
    "topology_sort()"
   ]
  },
  {
   "cell_type": "markdown",
   "metadata": {},
   "source": [
    "---"
   ]
  },
  {
   "cell_type": "markdown",
   "metadata": {},
   "source": [
    "## 2. 팀 결성\n",
    "- 학생들에게 0번부터 N번까지의 번호를 부여\n",
    "- 처음에는 모든 학생이 서로 다른 팀으로 구분되어, 총 N + 1개의 팀이 존재\n",
    "- '팀 합치기' 연산 : 두 팀을 합치는 연산\n",
    "- '같은 팀 여부 확인' 연산 : 특정한 두 학생이 같은 팀에 속하는지를 확인하는 연산"
   ]
  },
  {
   "cell_type": "markdown",
   "metadata": {},
   "source": [
    "입력 조건 :\n",
    "- 첫째 줄에 N, M이 주어진다. M은 입력으로 주어지는 연산의 개수이다. (1 <= N, M <= 100,000)\\\n",
    "(예시) 7 8\n",
    "- 다음 M개의 줄에는 각각의 연산이 주어진다.\n",
    "    - '팀 합치기' 연산은 0 a b 형태로 주어진다. 이는 a번 학생이 속한 팀과 b번 학생이 속한 팀을 합친다는 의미이다.\n",
    "    - '같은 팀 여부 확인' 연산은 1 a b 형태로 주어진다. 이는 a번 학생과 b번 학생이 같은 팀에 속해 있는지를 확인하는 연산이다.\n",
    "    - a와 b는 N 이하의 양의 정수이다.\\\n",
    "(예시)\\\n",
    "0 1 3\\\n",
    "1 1 7\\\n",
    "0 7 6\\\n",
    "1 7 1\\\n",
    "0 3 7\\\n",
    "0 4 2\\\n",
    "0 1 1\\\n",
    "1 1 1"
   ]
  },
  {
   "cell_type": "markdown",
   "metadata": {},
   "source": [
    "출력 조건 :\n",
    "- '같은 팀 여부 확인' 연산에 대하여 한 줄에 하나씩 YES 혹은 NO로 결과를 출력한다.\\\n",
    "(예시)\\\n",
    "NO\\\n",
    "NO\\\n",
    "YES"
   ]
  },
  {
   "cell_type": "code",
   "execution_count": 6,
   "metadata": {},
   "outputs": [
    {
     "name": "stdout",
     "output_type": "stream",
     "text": [
      "NO\n",
      "NO\n",
      "YES\n"
     ]
    }
   ],
   "source": [
    "n, m = map(int, input().split())\n",
    "\n",
    "parent = [i for i in range(n + 1)]\n",
    "\n",
    "def find_parent(parent, x):\n",
    "    if parent[x] != x:\n",
    "        parent[x] = find_parent(parent, parent[x])\n",
    "    return parent[x]\n",
    "\n",
    "def union_parent(parent, a, b):\n",
    "    a = find_parent(parent, a)\n",
    "    b = find_parent(parent, b)\n",
    "    if a < b:\n",
    "        parent[b] = a\n",
    "    else:\n",
    "        parent[a] = b\n",
    "\n",
    "for _ in range(m):\n",
    "    cal, n1, n2 = map(int, input().split())\n",
    "    \n",
    "    # 팀 합치기 연산\n",
    "    if cal == 0:\n",
    "        union_parent(parent, n1, n2)\n",
    "        \n",
    "    # 같은 팀 여부 확인\n",
    "    elif find_parent(parent, n1) == find_parent(parent, n2):\n",
    "        print(\"YES\")\n",
    "    else:\n",
    "        print(\"NO\")"
   ]
  },
  {
   "cell_type": "markdown",
   "metadata": {},
   "source": [
    "## 3. 도시 분할 계획\n",
    "- 마을은 N개의 집과 그 집들을 연결하는 M개의 길로 이루어져 있다.\n",
    "- 길은 무방향 간선\n",
    "- 마을을 2개의 분리된 마을로 분할할 계획\n",
    "    - 각 분리된 마을 안에 집들이 서로 연결되도록 분할\n",
    "    - 마을에는 집이 하나 이상\n",
    "    - 분리된 두 마을 사이에 있는 길들은 필요가 없으므로 없앨 수 있음\n",
    "    - 각 분리된 마을 안에서도 임의의 두 집 사이에 경로가 항상 존재하게 하면서 길을 더 없앨 수 있음\n",
    "- 위 조건을 만족하도록 길들을 모두 없애고 나머지 길의 유지비의 합을 최소로 한다."
   ]
  },
  {
   "cell_type": "markdown",
   "metadata": {},
   "source": [
    "입력 조건 :\n",
    "- 첫째 줄에 집의 개수 N, 길의 개수 M이 주어진다. (2 <= N <= 100,000, 1 <= M <= 1,000,000)\\\n",
    "(예시) 7 12\n",
    "- 그다음 줄부터 M줄에 걸쳐 길의 정보가 A, B, C 3개의 정수로 공백으로 구분되어 주어지는데 A번 집과 B번 집을 연결하는 길의 유지비가 C(1 <= C <= 1,000)라는 뜻이다.\\\n",
    "(예시)\\\n",
    "1 2 3\\\n",
    "1 3 2\\\n",
    "3 2 1\\\n",
    "2 5 2\\\n",
    "3 4 4\\\n",
    "7 3 6\\\n",
    "5 1 5\\\n",
    "1 6 2\\\n",
    "6 4 1\\\n",
    "6 5 3\\\n",
    "4 5 3\\\n",
    "6 7 4"
   ]
  },
  {
   "cell_type": "markdown",
   "metadata": {},
   "source": [
    "출력 조건 :\n",
    "- 첫째 줄에 길을 없애고 남은 유지비 합의 최솟값을 출력한다.\\\n",
    "(예시) 8"
   ]
  },
  {
   "cell_type": "code",
   "execution_count": 12,
   "metadata": {},
   "outputs": [
    {
     "name": "stdout",
     "output_type": "stream",
     "text": [
      "8\n"
     ]
    }
   ],
   "source": [
    "def find_parent(parent, x):\n",
    "    if parent[x] != x:\n",
    "        parent[x] = find_parent(parent, parent[x])\n",
    "    return parent[x]\n",
    "\n",
    "def union_parent(parent, a, b):\n",
    "    a = find_parent(parent, a)\n",
    "    b = find_parent(parent, b)\n",
    "    \n",
    "    if a < b:\n",
    "        parent[b] = a\n",
    "    else:\n",
    "        parent[a] = b\n",
    "        \n",
    "n, m = map(int, input().split())\n",
    "parent = [i for i in range(n + 1)]\n",
    "\n",
    "edges = [list(map(int, input().split())) for _ in range(m)]\n",
    "edges.sort(key=lambda x : x[2])\n",
    "\n",
    "# 처음엔 무조건 union 연산\n",
    "union_parent(parent, edges[0][0], edges[0][1])\n",
    "total_cost = edges[0][2]\n",
    "\n",
    "for a, b, c in edges[1:]:\n",
    "    if find_parent(parent, a) != find_parent(parent, b):\n",
    "        union_parent(parent, a, b)\n",
    "        final_cost = c\n",
    "        total_cost += final_cost\n",
    "        \n",
    "# 마지막에 연결된 길을 없애 두 마을로 분리\n",
    "total_cost -= final_cost\n",
    "print(total_cost)\n"
   ]
  },
  {
   "cell_type": "markdown",
   "metadata": {},
   "source": [
    "## 4. 커리큘럼\n",
    "- 모든 강의는 1번부터 N번까지의 번호를 가진다.\n",
    "- 동시에 여러 개의 강의를 들을 수 있다.\n",
    "- 예를들어, N = 3일 때, 3번 강의의 선수 강의로 1번과 2번 강의가 있고, 1번과 2번 강의는 선수 강의가 없다고 가정\n",
    "    - 1번 강의 : 30시간\n",
    "    - 2번 강의 : 20시간\n",
    "    - 3번 강의 : 40시간\n",
    "    - 이 경우 1번 강의를 수강하기까지의 최소 시간은 30시간, 2번 강의를 수강하기까지의 최소 시간은 20시간, 3번 강의를 수강하기까지의 최소 시간은 **70시간**이다.\n",
    "- N개의 강의 정보가 주어졌을 때, N개의 강의에 대하여 수강하기까지 걸리는 최소 시간을 각각 출력하는 프로그램을 작성하시오."
   ]
  },
  {
   "cell_type": "markdown",
   "metadata": {},
   "source": [
    "입력 조건 :\n",
    "- 첫째 줄에 듣고자 하는 강의의 수 N이 주어진다. (1 <= N <= 500)\\\n",
    "(예시) 5\n",
    "- 다음 N개의 줄에는 각 강의의 강의 시간과 그 강의를 듣기 위해 먼저 들어야 하는 강의들의 번호가 자연수로 주어지며, 각 자연수는 공백으로 구분한다. 이때 강의 시간은 100,000이하의 자연수이다. 각 강의 번호는 1부터 N까지로 구성되며, 각 줄은 -1로 끝난다. (선수 강의가 0개~여러 개)\\\n",
    "(예시)\\\n",
    "10 -1\\\n",
    "10 1 -1\\\n",
    "4 1 -1\\\n",
    "4 3 1 -1\\\n",
    "3 3 -1"
   ]
  },
  {
   "cell_type": "markdown",
   "metadata": {},
   "source": [
    "출력 조건 :\n",
    "- N개의 강의에 대하여 수강하기까지 걸리는 최소 시간을 한 줄에 하나씩 출력한다.\\\n",
    "(예시)\\\n",
    "10\\\n",
    "20\\\n",
    "14\\\n",
    "18\\\n",
    "17"
   ]
  },
  {
   "cell_type": "markdown",
   "metadata": {},
   "source": [
    "### 혼자 푼 거"
   ]
  },
  {
   "cell_type": "code",
   "execution_count": 83,
   "metadata": {},
   "outputs": [
    {
     "name": "stdout",
     "output_type": "stream",
     "text": [
      "10\n",
      "20\n",
      "14\n",
      "18\n",
      "17\n"
     ]
    }
   ],
   "source": [
    "from collections import deque\n",
    "        \n",
    "n = int(input())\n",
    "lecture_list = [0] * n\n",
    "indegree = [0] * n\n",
    "\n",
    "for i in range(n):\n",
    "    infor = list(map(int, input().split()))\n",
    "    lecture_list[i] = { \"lecture_id\": i + 1, \"time\" : infor[0], \"pre_lecture\" : infor[1:-1] }\n",
    "    indegree[i] = len(infor[1:-1])\n",
    "        \n",
    "lecture_min_time = [0] * n\n",
    "visit = [False] * n\n",
    "\n",
    "q = deque()\n",
    "for i in range(len(indegree)):\n",
    "    if indegree[i] == 0:\n",
    "        q.append(lecture_list[i])\n",
    "        \n",
    "while q:\n",
    "    lec = q.popleft()\n",
    "    visit[lec[\"lecture_id\"] - 1] = True\n",
    "\n",
    "    for pre_lec in lec[\"pre_lecture\"]:\n",
    "        lecture_min_time[lec[\"lecture_id\"] - 1] = max(lecture_min_time[pre_lec - 1], lecture_min_time[lec[\"lecture_id\"] - 1])\n",
    "    \n",
    "    lecture_min_time[lec['lecture_id'] - 1] += lec[\"time\"]\n",
    "    \n",
    "    for all_lect in lecture_list:\n",
    "        if lec[\"lecture_id\"] in all_lect[\"pre_lecture\"]:\n",
    "            indegree[all_lect[\"lecture_id\"] - 1] -= 1\n",
    "            if indegree[all_lect[\"lecture_id\"] - 1] == 0 and not visit[all_lect[\"lecture_id\"] - 1]:\n",
    "                q.append(all_lect)\n",
    "                \n",
    "for min_time in lecture_min_time:\n",
    "    print(min_time)\n",
    "    "
   ]
  },
  {
   "cell_type": "markdown",
   "metadata": {},
   "source": [
    "### 정답지 보고 푼 거"
   ]
  },
  {
   "cell_type": "code",
   "execution_count": 85,
   "metadata": {},
   "outputs": [
    {
     "name": "stdout",
     "output_type": "stream",
     "text": [
      "10\n",
      "20\n",
      "14\n",
      "18\n",
      "17\n"
     ]
    }
   ],
   "source": [
    "from collections import deque\n",
    "import copy\n",
    "\n",
    "n = int(input())\n",
    "indegree = [0] * (n + 1)\n",
    "graph = [[] for _ in range(n + 1)]\n",
    "time = [0] * (n + 1)\n",
    "\n",
    "for i in range(1, n + 1):\n",
    "    infor = list(map(int, input().split()))\n",
    "    time[i] = infor[0]\n",
    "    for x in infor[1:-1]:\n",
    "        indegree[i] += 1\n",
    "        graph[x].append(i)\n",
    "        \n",
    "def topology_sort():\n",
    "    result = copy.deepcopy(time)\n",
    "    q = deque()\n",
    "    \n",
    "    for i in range(1, n + 1):\n",
    "        if indegree[i] == 0:\n",
    "            q.append(i)\n",
    "            \n",
    "    while q:\n",
    "        now = q.popleft()\n",
    "        for i in graph[now]:\n",
    "            result[i] = max(result[i], result[now] + time[i])\n",
    "            indegree[i] -= 1\n",
    "            if indegree[i] == 0:\n",
    "                q.append(i)\n",
    "                \n",
    "    for i in range(1, n + 1):\n",
    "        print(result[i])\n",
    "        \n",
    "topology_sort()"
   ]
  }
 ],
 "metadata": {
  "kernelspec": {
   "display_name": "newbie",
   "language": "python",
   "name": "python3"
  },
  "language_info": {
   "codemirror_mode": {
    "name": "ipython",
    "version": 3
   },
   "file_extension": ".py",
   "mimetype": "text/x-python",
   "name": "python",
   "nbconvert_exporter": "python",
   "pygments_lexer": "ipython3",
   "version": "3.10.0"
  }
 },
 "nbformat": 4,
 "nbformat_minor": 2
}
