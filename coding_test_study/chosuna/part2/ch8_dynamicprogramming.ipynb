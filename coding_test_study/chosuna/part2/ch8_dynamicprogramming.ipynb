{
 "cells": [
  {
   "cell_type": "markdown",
   "metadata": {},
   "source": [
    "# 다이나믹 프로그래밍 (Dynamic Programming) (동적 계획법)\n",
    "메모리를 적절히 사용하여 수행 시간 효율성을 비약적으로 향상시키는 방법\n",
    "- 이미 계산된 결과(작은 문제)는 별도의 메모리 영역에 저장하여 다시 계산하지 않도록 한다.\n",
    "- TopDown, BottomUp"
   ]
  },
  {
   "cell_type": "markdown",
   "metadata": {},
   "source": [
    "### 다이나믹 프로그래밍 조건\n",
    "1. 최적부분구조 : 큰 문제를 작은 문제로 나눌 수 있다. 작은 문제의 답을 모아서 큰 문제를 해결할 수 있다.\n",
    "2. 중복되는 부분 문제 : 동일한 작은 문제를 반복적으로 해결해야 한다."
   ]
  },
  {
   "cell_type": "markdown",
   "metadata": {},
   "source": [
    "### 다이나믹 프로그래밍과 분할 정복의 차이점\n",
    "- 다이나믹 프로그래밍은 문제들이 서로 영향을 미치고 있다.\n",
    "- 분할 정복(퀵 정렬)은 분할 이후에 해당 피벗을 다시 처리하는 부분 문제는 호출하지 않는다."
   ]
  },
  {
   "cell_type": "markdown",
   "metadata": {},
   "source": [
    "### 다이나믹 프로그래밍 문제에 접근하는 방법\n",
    "- 가장 먼저 그리디, 구현, 완전 탐색 등의 아이디어로 문제를 해결할 수 있는지 검토후 다이나믹 프로그래밍 고려\n",
    "- 일단 재귀 함수로 비효율적인 완전 탐색 프로그램을 작성한 뒤에 작은 문제에서 구한 답이 큰 문제에서 그대로 사용될 수 있으면, 코드를 개선하는 방법을 사용"
   ]
  },
  {
   "cell_type": "markdown",
   "metadata": {},
   "source": [
    "---"
   ]
  },
  {
   "cell_type": "markdown",
   "metadata": {},
   "source": [
    "피보나치 수열\n",
    "- 중복되는 부분 문제 : fibo(2)가 여러 번 호출됨\n",
    "- 시간 복잡도 : O(2^n)"
   ]
  },
  {
   "cell_type": "code",
   "execution_count": 3,
   "metadata": {},
   "outputs": [
    {
     "name": "stdout",
     "output_type": "stream",
     "text": [
      "3\n"
     ]
    }
   ],
   "source": [
    "def fibo(x):\n",
    "    if x == 1 or x == 2:\n",
    "        return 1\n",
    "    return fibo(x - 1) + fibo(x - 2)\n",
    "\n",
    "print(fibo(4))"
   ]
  },
  {
   "cell_type": "markdown",
   "metadata": {},
   "source": [
    "## Top-Down (하향식)\n",
    "큰 문제를 해결하기 위해 작은 문제를 호출"
   ]
  },
  {
   "cell_type": "markdown",
   "metadata": {},
   "source": [
    "### 메모이제이션 기법 (Memoization)\n",
    "한 번 구한 결과를 메모리 공간에 메모해두고 같은 식을 다시 호출하면 메모한 결과를 그대로 가져오는 기법\\\n",
    "메모이제이션은 값을 저장하는 방법이므로 캐싱(Caching)이라고도 한다.\\\n",
    "(메모이제이션은 이전에 계산된 결과를 일시적으로 기록해 놓는 넓은 개념을 의미하여 다이나믹 프로그래밍에 국한된 개념은 아니다.)\n",
    "- 재귀함수\n",
    "- 일시적으로 저장\n",
    "- 하향식 **TopDown**"
   ]
  },
  {
   "cell_type": "markdown",
   "metadata": {},
   "source": [
    "메모이제이션 기법으로 작성된 피보나치 수열\n",
    "- 시간 복잡도 : O(N)"
   ]
  },
  {
   "cell_type": "code",
   "execution_count": 1,
   "metadata": {},
   "outputs": [
    {
     "name": "stdout",
     "output_type": "stream",
     "text": [
      "218922995834555169026\n"
     ]
    }
   ],
   "source": [
    "d = [0] * 100\n",
    "\n",
    "def fibo(x):\n",
    "    if x == 1 or x == 2:\n",
    "        return 1\n",
    "    if d[x] != 0:\n",
    "        return d[x]\n",
    "    d[x] = fibo(x - 1) + fibo(x - 2)\n",
    "    return d[x]\n",
    "\n",
    "print(fibo(99))"
   ]
  },
  {
   "cell_type": "markdown",
   "metadata": {},
   "source": [
    "## Bottom-Up (상향식)\n",
    "단순히 반복문을 이용하여 소스코드를 작성하는 경우 작은 문제부터 차근차근 답을 도출\n",
    "- 다이나믹 프로그래밍의 전형적인 형태\n",
    "- DP 테이블 : 결과 저장용 리스트"
   ]
  },
  {
   "cell_type": "markdown",
   "metadata": {},
   "source": [
    "BottopUp으로 작성된 피보나치 수열\n",
    "- 시간 복잡도 : O(N)"
   ]
  },
  {
   "cell_type": "code",
   "execution_count": 1,
   "metadata": {},
   "outputs": [
    {
     "name": "stdout",
     "output_type": "stream",
     "text": [
      "218922995834555169026\n"
     ]
    }
   ],
   "source": [
    "d = [0] * 100\n",
    "\n",
    "d[1] = 1\n",
    "d[2] = 1\n",
    "n = 99\n",
    "\n",
    "for i in range(3, n + 1):\n",
    "    d[i] = d[i - 1] + d[i - 2]\n",
    "\n",
    "print(d[n])"
   ]
  },
  {
   "cell_type": "markdown",
   "metadata": {},
   "source": [
    "---"
   ]
  },
  {
   "cell_type": "markdown",
   "metadata": {},
   "source": [
    "## 2. 1로 만들기\n",
    "정수 X가 주어질 때 정수 X에 사용할 수 있는 연산은 다음과 같이 4가지이다. 연산 4개를 적절히 사용해서 1을 만들려고 한다.\n",
    "- X가 5로 나누어떨어지면, 5로 나눈다.\n",
    "- X가 3으로 나누어떨어지면, 3으로 나눈다.\n",
    "- X가 2로 나누어떨어지면, 2로 나눈다.\n",
    "- X에서 1을 뺀다."
   ]
  },
  {
   "cell_type": "markdown",
   "metadata": {},
   "source": [
    "입력 조건 :\n",
    "- 첫째 줄에 정수 X가 주어진다. (1 <= X <= 30,000)\\\n",
    "(예시) 26"
   ]
  },
  {
   "cell_type": "markdown",
   "metadata": {},
   "source": [
    "출력 조건 :\n",
    "- 첫째 줄에 연산을 하는 횟수의 최솟값을 출력한다.\\\n",
    "(예시) 3"
   ]
  },
  {
   "cell_type": "markdown",
   "metadata": {},
   "source": [
    "### 혼자 푼 거"
   ]
  },
  {
   "cell_type": "code",
   "execution_count": 18,
   "metadata": {},
   "outputs": [
    {
     "name": "stdout",
     "output_type": "stream",
     "text": [
      "2\n"
     ]
    }
   ],
   "source": [
    "x = int(input())\n",
    "\n",
    "calcul_min_list = [0] * (x + 1)\n",
    "if x == 1:\n",
    "    print(0)\n",
    "elif x == 4:\n",
    "    # 4 / 2 / 2 = 1\n",
    "    print(2)\n",
    "elif x <= 5:\n",
    "    print(1)\n",
    "else:\n",
    "    calcul_min_list[2] = 1\n",
    "    calcul_min_list[3] = 1\n",
    "    calcul_min_list[4] = 2\n",
    "    calcul_min_list[5] = 1\n",
    "    \n",
    "    for i in range(6, x + 1):\n",
    "        temp_list = [9999999999] * 4\n",
    "        # 1을 빼는 연산을 통해 (i - 1) 숫자의 최소 연산값 이용\n",
    "        temp_list[0] = calcul_min_list[i - 1] + 1\n",
    "        # i // [5, 3, 2] 정수값이 있다면 해당값의 최소 연산값 이용\n",
    "        if i % 5 == 0:\n",
    "            temp_list[1] = calcul_min_list[i // 5] + 1\n",
    "        if i % 3 == 0:\n",
    "            temp_list[2] = calcul_min_list[i // 3] + 1\n",
    "        if i % 2 == 0:\n",
    "            temp_list[3] = calcul_min_list[i // 2] + 1\n",
    "            \n",
    "        calcul_min_list[i] = min(temp_list)\n",
    "        \n",
    "    print(calcul_min_list[x])"
   ]
  },
  {
   "cell_type": "markdown",
   "metadata": {},
   "source": [
    "### 정답지 보고 다시 푼 거\n",
    "- 굳이 1~5번째 따로 지정해서 리스트에 저장할 필요 없음\n",
    "- 매번 i번째에 최솟값 저장하기보단 저장돼있는 i번째 최솟값보다 작은 최솟값이 발견될 때만 다시 저장"
   ]
  },
  {
   "cell_type": "code",
   "execution_count": 22,
   "metadata": {},
   "outputs": [
    {
     "name": "stdout",
     "output_type": "stream",
     "text": [
      "0\n"
     ]
    }
   ],
   "source": [
    "x = int(input())\n",
    "\n",
    "calcul_min_list = [0] * (x + 1)\n",
    "\n",
    "for i in range(2, x + 1):\n",
    "    # 1을 빼는 연산을 통해 (i - 1) 숫자의 최소 연산값 이용\n",
    "    calcul_min_list[i] = calcul_min_list[i - 1] + 1\n",
    "    # i // [5, 3, 2] 정수값이 있다면 해당값의 최소 연산값 이용\n",
    "    if i % 2 == 0 and calcul_min_list[i] > calcul_min_list[i // 2] + 1:\n",
    "        calcul_min_list[i] = calcul_min_list[i // 2] + 1\n",
    "    if i % 3 == 0 and calcul_min_list[i] > calcul_min_list[i // 3] + 1:\n",
    "        calcul_min_list[i] = calcul_min_list[i // 3] + 1\n",
    "    if i % 5 == 0 and calcul_min_list[i] > calcul_min_list[i // 5] + 1:\n",
    "        calcul_min_list[i] = calcul_min_list[i // 5] + 1\n",
    "        \n",
    "print(calcul_min_list[x])"
   ]
  },
  {
   "cell_type": "markdown",
   "metadata": {},
   "source": [
    "## 3. 개미 전사\n",
    "- 메뚜기 마을에 여러 개의 식량창고가 있는데 식량창고는 일직선으로 이어져 있다.\n",
    "- 각 식량창고에는 정해진 수의 식량을 저장하고 있으며 개미 전사는 식량창고를 선택적으로 약탈하여 식량을 빼앗을 예정이다.\n",
    "- 이때 메뚜기 정찰병들은 일직선상에 존재하는 식량창고 중에서 서로 인접한 식량창고가 공격받으면 바로 알아챌 수 있다. 따라서 개미 전사가 정찰병에게 들키지 않고 식량창고를 약탈하기 위해서는 **최소한 한 칸 이상 떨어진** 식량창고를 약탈해야 한다."
   ]
  },
  {
   "cell_type": "markdown",
   "metadata": {},
   "source": [
    "입력 조건 :\n",
    "- 첫째 줄에 식량창고의 개수 N이 주어진다. (3 <= N <= 100)\\\n",
    "(예시) 4\n",
    "- 둘째 줄에 공백으로 구분되어 각 식량창고에 저장된 식량의 개수 K가 주어진다. (0 <= K <= 1,000)\\\n",
    "(예시) 1 3 1 5"
   ]
  },
  {
   "cell_type": "markdown",
   "metadata": {},
   "source": [
    "출력 조건 :\n",
    "- 첫째 줄에 개미 전사가 얻을 수 있는 식량의 최댓값을 출력하시오.\\\n",
    "(예시) 8"
   ]
  },
  {
   "cell_type": "markdown",
   "metadata": {},
   "source": [
    "### 혼자 푼 거\n",
    "재귀함수로 풀어서 오류 발생할수도 있음"
   ]
  },
  {
   "cell_type": "code",
   "execution_count": 19,
   "metadata": {},
   "outputs": [
    {
     "name": "stdout",
     "output_type": "stream",
     "text": [
      "8\n"
     ]
    }
   ],
   "source": [
    "def max_food(array):\n",
    "    # 식량 2개뿐일 때 최댓값인 식량 반환\n",
    "    if len(array) <= 2:\n",
    "        return max(array)\n",
    "        \n",
    "    # i 번째 식량을 담았을 때 i + 1을 제외하고 i + 2부터의 최대값 식량 더하고 i를 1씩 변환시켜가며 비교\n",
    "    result = 0\n",
    "    for i in range(len(array)):\n",
    "        if i + 2 < len(array):\n",
    "            temp = array[i] + max_food(array[i + 2 :])\n",
    "        else:\n",
    "            temp = array[i]\n",
    "        if result < temp:\n",
    "            result = temp\n",
    "            \n",
    "    return result\n",
    "\n",
    "n = int(input())\n",
    "k_list = list(map(int, input().split()))\n",
    "\n",
    "print(max_food(k_list))"
   ]
  },
  {
   "cell_type": "markdown",
   "metadata": {},
   "source": [
    "### 정답지 보고 다시 푼 거\n",
    "- d리스트는 k_list의 0~i번째까지의 식량 최댓값\n",
    "- (i - 3)번째 이하의 삭량창고에 대한 최적의 해에 대해서는 고려할 필요없이, max(d[i - 1], d[i - 2] + k)만 구하면 됨.(여기서 k는 k_list[i]값)"
   ]
  },
  {
   "cell_type": "code",
   "execution_count": 23,
   "metadata": {},
   "outputs": [
    {
     "name": "stdout",
     "output_type": "stream",
     "text": [
      "8\n"
     ]
    }
   ],
   "source": [
    "n = int(input())\n",
    "k_list = list(map(int, input().split()))\n",
    "\n",
    "# d : k_list의 i번째까지의 식량 최댓값\n",
    "d = [0] * n\n",
    "\n",
    "d[0] = k_list[0]\n",
    "d[1] = max(k_list[0], k_list[1])\n",
    "for i in range(2, n):\n",
    "    d[i] = max(d[i - 1], d[i - 2] + k_list[i])\n",
    "    \n",
    "print(d[n - 1])"
   ]
  },
  {
   "cell_type": "markdown",
   "metadata": {},
   "source": [
    "## 4. 바닥 공사\n",
    "- 세로의 길이가 2, 가로의 길이가 N인 직사각형 형태의 얇은 바닥\n",
    "- 1 x 2의 덮개, 2 x 1의 덮개, 2 x 2의 덮개를 이용해 얇은 바닥을 채우자 (세로) x (가로)"
   ]
  },
  {
   "cell_type": "markdown",
   "metadata": {},
   "source": [
    "입력 조건 :\n",
    "- 첫째 줄에 N이 주어진다. (1 <= N <= 1,000)\\\n",
    "(예시) 3"
   ]
  },
  {
   "cell_type": "markdown",
   "metadata": {},
   "source": [
    "출력 조건 :\n",
    "- 첫째 줄에 2 x N 크기의 바닥을 채우는 방법의 수를 796,796으로 나눈 나머지를 출력한다.\\\n",
    "(예시) 5"
   ]
  },
  {
   "cell_type": "markdown",
   "metadata": {},
   "source": [
    "### 혼자 푼 거\n",
    "순열 조합으로 풀면 생각보다 겹치는 중복값이 많아 빼줘야 할 게 많기 때문에 잘못된 풀이"
   ]
  },
  {
   "cell_type": "code",
   "execution_count": 31,
   "metadata": {},
   "outputs": [
    {
     "name": "stdout",
     "output_type": "stream",
     "text": [
      "n : 10\n",
      "정답 : 87589\n"
     ]
    }
   ],
   "source": [
    "n = int(input())\n",
    "\n",
    "d = [0] * (n + 1)\n",
    "d[1] = 1\n",
    "d[2] = 3\n",
    "for i in range(3, n + 1):\n",
    "    for j in range(1, i):\n",
    "        d[i] += (d[j] * d[i - j])\n",
    "    # 2 x 1로만 들어가는 경우가 겹치기 때문에 중복값 빼줌\n",
    "    d[i] -= (i - 2)\n",
    "        \n",
    "print(f\"n : {n}\")\n",
    "print(f\"정답 : {d[n] % 796796}\")"
   ]
  },
  {
   "cell_type": "markdown",
   "metadata": {},
   "source": [
    "### 정답지 보고 다시 푼 거\n",
    "1. 왼쪽부터 i - 1까지 길이가 덮개로 이미 채워져 있으면 2 x 1의 덮개를 채우는 하나의 경우밖에 존재하지 않는다.\n",
    "2. 왼쪽부터 i - 2까지 길이가 덮개로 이미 채워져 있으면 1 x 2 덮개 2개를 넣는 경우, 혹은 2 x 2의 덮개 하나를 넣는 경우로 2가지 경우가 존재한다. 참고로 2 x 1덮개 2개를 넣는 경우를 고려하지 않는 이유는 1.에서 이미 해당 경우가 고려되었기 때문이다."
   ]
  },
  {
   "cell_type": "code",
   "execution_count": 32,
   "metadata": {},
   "outputs": [
    {
     "name": "stdout",
     "output_type": "stream",
     "text": [
      "n : 10\n",
      "정답 : 683\n"
     ]
    }
   ],
   "source": [
    "n = int(input())\n",
    "\n",
    "d = [0] * (n + 1)\n",
    "d[1] = 1\n",
    "d[2] = 3\n",
    "for i in range(3, n + 1):\n",
    "    d[i] = (d[i - 1] + 2 * d[i - 2]) % 796796\n",
    "        \n",
    "print(f\"n : {n}\")\n",
    "print(f\"정답 : {d[n]}\")"
   ]
  },
  {
   "cell_type": "markdown",
   "metadata": {},
   "source": [
    "## 5. 효율적인 화폐 구성"
   ]
  },
  {
   "cell_type": "markdown",
   "metadata": {},
   "source": [
    "입력 조건 :\n",
    "- 첫째 줄에 N, M이 주어진다. (1 <= N <= 100, 1 <= M <= 10,000)\\\n",
    "(예시) 2 15\n",
    "- 이후 N개의 줄에는 각 화폐의 가치가 주어진다. 화폐 가치는 10,000보다 작거나 같은 자연수이다.\\\n",
    "(예시)\\\n",
    "2\\\n",
    "3"
   ]
  },
  {
   "cell_type": "markdown",
   "metadata": {},
   "source": [
    "출력 조건 :\n",
    "- 첫째 줄에 M원을 만들기 위한 최소한의 화폐 개수를 출력한다.\\\n",
    "(예시) 5\n",
    "- 불가능할 때는 -1을 출력한다.\\\n",
    "(예시) -1"
   ]
  },
  {
   "cell_type": "markdown",
   "metadata": {},
   "source": [
    "### 혼자 푼 거"
   ]
  },
  {
   "cell_type": "code",
   "execution_count": 55,
   "metadata": {},
   "outputs": [
    {
     "name": "stdout",
     "output_type": "stream",
     "text": [
      "5\n"
     ]
    }
   ],
   "source": [
    "n, m = map(int, input().split())\n",
    "value_list = []\n",
    "d = [-1] * (m + 1)\n",
    "for i in range(n):\n",
    "    value_list.append(int(input()))\n",
    "    if value_list[i] < m:\n",
    "        d[value_list[i]] = 1\n",
    "    \n",
    "for i in range(1, m + 1):\n",
    "    for j in value_list:\n",
    "        if i - j >= 1:\n",
    "            if d[i - j] != -1:\n",
    "                if d[i] == -1:\n",
    "                    d[i] = d[i - j] + 1\n",
    "                else:\n",
    "                    d[i] = min(d[i], d[i - j] + 1)\n",
    "\n",
    "print(d[m])\n"
   ]
  },
  {
   "cell_type": "markdown",
   "metadata": {},
   "source": [
    "### 정답지 보고 다시 푼 거\n",
    "for문 순서 바꿔 조건식 하나 줄임"
   ]
  },
  {
   "cell_type": "code",
   "execution_count": 56,
   "metadata": {},
   "outputs": [
    {
     "name": "stdout",
     "output_type": "stream",
     "text": [
      "5\n"
     ]
    }
   ],
   "source": [
    "n, m = map(int, input().split())\n",
    "value_list = []\n",
    "d = [-1] * (m + 1)\n",
    "for i in range(n):\n",
    "    value_list.append(int(input()))\n",
    "    if value_list[i] < m:\n",
    "        d[value_list[i]] = 1\n",
    "    \n",
    "for j in value_list:\n",
    "    for i in range(j + 1, m + 1):\n",
    "        if d[i - j] != -1:\n",
    "            if d[i] == -1:\n",
    "                d[i] = d[i - j] + 1\n",
    "            else:\n",
    "                d[i] = min(d[i], d[i - j] + 1)\n",
    "print(d[m])\n"
   ]
  },
  {
   "cell_type": "markdown",
   "metadata": {},
   "source": [
    "### 정답지\n",
    "- 처음부터 계산 안 되는 연산 -1로 저장하지 않고 10001로 저장하여 min함수에 영향끼치지 않게 함\n",
    "- d[0] = 0을 이용하여 array에 있는 화폐 가치(array[i])가 d리스트의 인덱스로 들어오면 1이 되게 설정"
   ]
  },
  {
   "cell_type": "code",
   "execution_count": 57,
   "metadata": {},
   "outputs": [
    {
     "name": "stdout",
     "output_type": "stream",
     "text": [
      "5\n"
     ]
    }
   ],
   "source": [
    "n, m = map(int, input().split())\n",
    "array = []\n",
    "\n",
    "for i in range(n):\n",
    "    array.append(int(input()))\n",
    "\n",
    "d = [10001] * (m + 1)\n",
    "\n",
    "d[0] = 0\n",
    "for i in range(n):\n",
    "    for j in range(array[i], m + 1):\n",
    "        if d[j - array[i]] != 10001:\n",
    "            d[j] = min(d[j], d[j - array[i]] + 1)\n",
    "\n",
    "if d[m] == 10001:\n",
    "    print(-1)\n",
    "else:\n",
    "    print(d[m])"
   ]
  }
 ],
 "metadata": {
  "kernelspec": {
   "display_name": "base",
   "language": "python",
   "name": "python3"
  },
  "language_info": {
   "codemirror_mode": {
    "name": "ipython",
    "version": 3
   },
   "file_extension": ".py",
   "mimetype": "text/x-python",
   "name": "python",
   "nbconvert_exporter": "python",
   "pygments_lexer": "ipython3",
   "version": "3.10.0"
  }
 },
 "nbformat": 4,
 "nbformat_minor": 2
}
