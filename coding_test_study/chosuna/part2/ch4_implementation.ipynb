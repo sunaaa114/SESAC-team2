{
 "cells": [
  {
   "cell_type": "markdown",
   "metadata": {},
   "source": [
    "# 구현 (Implementation)"
   ]
  },
  {
   "cell_type": "markdown",
   "metadata": {},
   "source": [
    "머릿속에 있는 알고리즘을 소스코드로 바꾸는 과정\n",
    "- 풀이를 떠올리는 것은 쉽지만 소스코드로 옮기기 어려운 문제\n",
    "- 알고리즘은 간단한데 코드가 지나칠 만큼 길어지는 문제\n",
    "- 문자열을 특정한 기준에 따라서 끊어 처리해야 하는 문제\n",
    "- 적절한 라이브러리를 찾아서 사용해야 하는 문제"
   ]
  },
  {
   "cell_type": "markdown",
   "metadata": {},
   "source": [
    "---"
   ]
  },
  {
   "cell_type": "markdown",
   "metadata": {},
   "source": [
    "## 4-1 (예제) 상하좌우\n",
    "- N x N 크기의 정사각형 공간\n",
    "- 시작 좌표는 항상 (1, 1)\n",
    "- L : 왼쪽으로 한 칸 이동, R : 오른쪽으로 한 칸 이동, U : 위로 한 칸 이동, D : 아래로 한 칸 이동\n",
    "- N x N 크기의 정사각형 공간을 벗어나는 움직임은 무시"
   ]
  },
  {
   "cell_type": "markdown",
   "metadata": {},
   "source": [
    "입력 조건 :\n",
    "- 첫째 줄에 공간의 크기를 나타내는 N이 주어진다. (1 <= N <= 100)\\\n",
    "(예시) 5\n",
    "- 둘째 줄에 여행가 A가 이동할 계획서 내용이 주어진다. (1 <= 이동 횟수 <= 100)\\\n",
    "(예시) R R R U D D"
   ]
  },
  {
   "cell_type": "markdown",
   "metadata": {},
   "source": [
    "출력 조건 :\n",
    "- 첫째 줄에 여행가 A가 최종적으로 도착할 지점의 좌표 (X, Y)를 공백으로 구분하여 출력한다.\\\n",
    "(예시) 3 4"
   ]
  },
  {
   "cell_type": "code",
   "execution_count": 3,
   "metadata": {},
   "outputs": [
    {
     "name": "stdout",
     "output_type": "stream",
     "text": [
      "3 4\n"
     ]
    }
   ],
   "source": [
    "n = int(input())\n",
    "move_list = input().split()\n",
    "direction = {\"L\":[0, -1], \"R\":[0, 1], \"U\":[-1, 0], \"D\":[1, 0]}\n",
    "\n",
    "position = [1, 1]  # 현재 좌표\n",
    "for move in move_list:\n",
    "\n",
    "    # 임시 좌표\n",
    "    temp = [position[0] + direction[move][0], position[1] + direction[move][1]]\n",
    "\n",
    "    if 1 <= temp[0] <= n and 1 <= temp[1] <= n:\n",
    "        position = temp\n",
    "\n",
    "print(position[0], position[1])"
   ]
  },
  {
   "cell_type": "markdown",
   "metadata": {},
   "source": [
    "---"
   ]
  },
  {
   "cell_type": "markdown",
   "metadata": {},
   "source": [
    "## 4-2 (예제) 시각\n",
    "정수 N이 입력되면 00시 00분 00초부터 N시 59분 59초까지의 모든 시각 중에서 3이 하나라도 포함되는 모든 경우의 수를 구하는 프로그램"
   ]
  },
  {
   "cell_type": "markdown",
   "metadata": {},
   "source": [
    "입력 조건 :\n",
    "- 첫째 줄에 정수 N이 입력된다. (0 <= N <= 23)\\\n",
    "(예시) 5"
   ]
  },
  {
   "cell_type": "markdown",
   "metadata": {},
   "source": [
    "출력 조건 :\n",
    "- 00시 00분 00초부터 N시 59분 59초까지의 모든 시각 중에서 3이 하나라도 포함되는 모든 경우의 수를 출력한다.\\\n",
    "(예시) 11475"
   ]
  },
  {
   "cell_type": "code",
   "execution_count": 1,
   "metadata": {},
   "outputs": [
    {
     "name": "stdout",
     "output_type": "stream",
     "text": [
      "11475\n"
     ]
    }
   ],
   "source": [
    "# 1분당 3이 들어간 개수 : 15개 (3, 13, 23, 30~39, 43, 53)\n",
    "# 1시간당 3이 들어간 개수 : 15*60 + 60*15 - 15*15개 (A합집합B = A + B - A교집합B)\n",
    "\n",
    "n = int(input())\n",
    "\n",
    "# 3이 들어가지 않은 시간일 때 분, 초에 3이 들어간 개수\n",
    "count_per_1 = 15 * 60 + 60 * 15 - 15 * 15\n",
    "# 3이 들어간 시간일 때 몇 분, 몇 초이든 상관없음\n",
    "count_3_in = 60 * 60\n",
    "\n",
    "if n < 3:\n",
    "    result = count_per_1 * (n + 1)        # n=0일 때 59분 59초로 약 1시간\n",
    "elif 3 <= n < 13:\n",
    "    result = count_per_1 * n + count_3_in    # 3시일 때 분, 초 상관없음\n",
    "elif 13 <= n < 23:\n",
    "    result = count_per_1 * (n - 1) + count_3_in * 2  # 3시, 13시일 때\n",
    "else:\n",
    "    result = count_per_1 * (n - 2) + count_3_in * 3  # 3시, 13시, 23시일 때\n",
    "\n",
    "print(result)"
   ]
  },
  {
   "cell_type": "markdown",
   "metadata": {},
   "source": [
    "---"
   ]
  },
  {
   "cell_type": "markdown",
   "metadata": {},
   "source": [
    "## 4-3 (실전) 왕실의 나이트\n",
    "- 체스판과 같은 8 x 8 좌표 평면\n",
    "- 특정한 한 칸에 나이트가 서 있음\n",
    "- 나이트는 L자 형태로만 이동\n",
    "- 정원 밖으로는 나갈 수 없음\n",
    "- 행 위치 : 1 ~ 8\n",
    "- 열 위치 : a ~ h"
   ]
  },
  {
   "cell_type": "markdown",
   "metadata": {},
   "source": [
    "입력 조건 :\n",
    "- 첫째 줄에 8 x 8 좌표 평면상에서 현재 나이트가 위치한 곳의 좌표를 나타내는 두 문자로 구성된 문자열이 입력된다. 입력 문자는 a1처럼 열과 행으로 이뤄진다.\\\n",
    "(예시) a1"
   ]
  },
  {
   "cell_type": "markdown",
   "metadata": {},
   "source": [
    "출력 조건 :\n",
    "- 첫째 줄에 나이트가 이동할 수 있는 경우의 수를 출력하시오.\\\n",
    "(예시) 2"
   ]
  },
  {
   "cell_type": "code",
   "execution_count": 49,
   "metadata": {},
   "outputs": [
    {
     "name": "stdout",
     "output_type": "stream",
     "text": [
      "6\n"
     ]
    }
   ],
   "source": [
    "# 현재 위치\n",
    "position = input()\n",
    "\n",
    "position = [int(position[1]), ord(position[0]) - 96]     # ord('a') == 97\n",
    "\n",
    "# 나이트가 움직일 수 있는 방향\n",
    "move_list = [[-2, 1], [-2, -1], [2, 1], [2, -1], [-1, 2], [-1, -2], [1, 2], [1, -2]]\n",
    "\n",
    "count = 0\n",
    "for move in move_list:\n",
    "    # 움직일 방향\n",
    "    temp = [position[0] + move[0], position[1] + move[1]]\n",
    "    # 체스판을 벗어나지 않는지 비교\n",
    "    if 1 <= temp[0] <= 8 and 1 <= temp[1] <= 8:\n",
    "        count += 1\n",
    "\n",
    "print(count)\n"
   ]
  },
  {
   "cell_type": "markdown",
   "metadata": {},
   "source": [
    "---"
   ]
  },
  {
   "cell_type": "markdown",
   "metadata": {},
   "source": [
    "## 4-4 (실전) 게임 개발\n",
    "- N x M 크기의 직사각형\n",
    "- 각각의 칸은 육지 또는 바다 (0 : 육지, 1 : 바다)\n",
    "- 캐릭터는 동서남북 중 한 곳을 바라봄 (0 : 북쪽, 1 : 동쪽, 2 : 남쪽, 3 : 서쪽)\n",
    "- 캐릭터는 상하좌우로 움직일 수 있고, 바다로 되어 있는 공간에는 갈 수 없음"
   ]
  },
  {
   "cell_type": "markdown",
   "metadata": {},
   "source": [
    "### 메뉴얼\n",
    "1. 현재 위치에서 현재 방향을 기준으로 왼쪽 방향 (반시계 방향으로 90도 회전)부터 차례대로 갈 곳을 정함\n",
    "2. 캐릭터의 바로 왼쪽 방향에 아직 가보지 않은 칸이 존재한다면, 왼쪽 방향으로 회전한 다음 왼쪽으로 한 칸 전진한다.\\\n",
    "왼쪽 방향에 가보지 않은 칸이 없다면, 왼쪽 방향으로 회전만 수행하고 1단계로 돌아간다.\n",
    "3. 만약 네 방향 모두 이미 가본 칸이거나 바다로 되어 있는 칸인 경우에는, 바라보는 방향을 유지한 채로 한 칸 뒤로 가고 1단계로 돌아간다.\\\n",
    "단, 이 때 뒤쪽 방향이 바다인 칸이라 뒤로 갈 수 없는 경우에는 움직임을 멈춘다."
   ]
  },
  {
   "cell_type": "markdown",
   "metadata": {},
   "source": [
    "입력 조건 :\n",
    "- 첫째 줄에 맵의 세로 크기 N과 가로 크기 M을 공백으로 구분하여 입력한다. (3 <= N, M <= 50)\\\n",
    "(예시) 4 4\n",
    "- 둘째 줄에 게임 캐릭터가 있는 칸의 좌표 (A, B)와 바라보는 방향 d가 각각 서로 공백으로 구분하여 주어진다.\\\n",
    "(예시) 1 1 0 ----> (1, 1)에 북쪽(0)을 바라보고 서 있는 캐릭터\n",
    "- 셋째 줄부터 맵이 육지인지 바다인지에 대한 정보가 주어진다. N개의 줄에 맵의 상태가 북쪽부터 남쪽 순서대로, 각 줄의 데이터는 서쪽부터 동쪽 순서대로 주어진다. 맵의 외곽은 항상 바다로 되어 있다.\\\n",
    "(예시)\\\n",
    "1 1 1 1\\\n",
    "1 0 0 1\\\n",
    "1 1 0 1\\\n",
    "1 1 1 1"
   ]
  },
  {
   "cell_type": "markdown",
   "metadata": {},
   "source": [
    "출력 조건 :\n",
    "- 첫째 줄에 이동을 마친 후 캐릭터가 방문한 칸의 수를 출력한다.\\\n",
    "(예시) 3"
   ]
  },
  {
   "cell_type": "code",
   "execution_count": 7,
   "metadata": {},
   "outputs": [
    {
     "name": "stdout",
     "output_type": "stream",
     "text": [
      "3\n"
     ]
    }
   ],
   "source": [
    "# 맵 크기\n",
    "n, m = map(int, input().split())\n",
    "# 위치 방향\n",
    "position = list(map(int, input().split())) \n",
    "## position = (a, b) , 1<=a<=n, 1<=b<=m\n",
    "## direction은 바라보고 있는 방향\n",
    "position, direction = [position[0], position[1]], position[2]\n",
    "\n",
    "# 게임 맵 생성\n",
    "board = []\n",
    "for i in range(n):\n",
    "    board.append(list(map(int, input().split())))\n",
    "\n",
    "# 북동남서 방향별 이동 좌표 거리\n",
    "move_list = [[-1, 0], [0, 1], [1, 0], [0, -1]]\n",
    "\n",
    "# 방문한 칸의 수 (현재 위치는 항상 방문해서 최소 1)\n",
    "count = 1\n",
    "while True:\n",
    "    # 육지인데 이미 방문한 곳 2로 처리\n",
    "    board[position[0]][position[1]] = 2\n",
    "\n",
    "    for i in range(4):\n",
    "        # 왼쪽으로 돌기\n",
    "        direction -= 1\n",
    "        if direction < 0:\n",
    "            direction = 3\n",
    "        # 이동할 좌표\n",
    "        temp = [move_list[direction][0] + position[0], move_list[direction][1] + position[1]]\n",
    "\n",
    "        # 이동할 곳이 육지면 이동\n",
    "        if board[temp[0]][temp[1]] == 0:\n",
    "            position = temp\n",
    "            count += 1\n",
    "            i = 0       # (i=3일 때 육지 이동했을 때)와 (이동 못 했을 때) 구분\n",
    "            break\n",
    "    \n",
    "    # 이동할 곳이 없을 때\n",
    "    if i == 3:\n",
    "        temp = [move_list[direction][0] * -1 + position[0], move_list[direction][1] * -1 + position[1]]\n",
    "        \n",
    "        # 왔던 곳 뒤로가기\n",
    "        if board[temp[0]][temp[1]] == 2:\n",
    "            position = temp\n",
    "        # 뒤가 바다이면 이동 중지\n",
    "        else:\n",
    "            break\n",
    "\n",
    "print(count)"
   ]
  }
 ],
 "metadata": {
  "kernelspec": {
   "display_name": "Python 3",
   "language": "python",
   "name": "python3"
  },
  "language_info": {
   "codemirror_mode": {
    "name": "ipython",
    "version": 3
   },
   "file_extension": ".py",
   "mimetype": "text/x-python",
   "name": "python",
   "nbconvert_exporter": "python",
   "pygments_lexer": "ipython3",
   "version": "3.11.5"
  }
 },
 "nbformat": 4,
 "nbformat_minor": 2
}
