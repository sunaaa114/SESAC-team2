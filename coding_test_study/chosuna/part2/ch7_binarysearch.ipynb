{
 "cells": [
  {
   "cell_type": "markdown",
   "metadata": {},
   "source": [
    "# 순차 탐색 (Sequential Search)\n",
    "리스트 안에 있는 특정한 데이터를 찾기 위해 앞에서부터 데이터를 하나씩 차례대로 확인하는 방법\n",
    "- 시간 복잡도 : O(N)"
   ]
  },
  {
   "cell_type": "code",
   "execution_count": 1,
   "metadata": {},
   "outputs": [
    {
     "name": "stdout",
     "output_type": "stream",
     "text": [
      "생성할 원소 개수를 입력한 다음 한 칸 띄고 찾을 문자열을 입력하세요.\n",
      "앞서 적은 원소 개수만큼 문자열을 입력하세요. 구분은 띄어쓰기 한 칸으로 합니다.\n",
      "3\n"
     ]
    }
   ],
   "source": [
    "def sequential_search(n, target, array):\n",
    "    for i in range(n):\n",
    "        if array[i] == target:\n",
    "            return i + 1\n",
    "        \n",
    "print(\"생성할 원소 개수를 입력한 다음 한 칸 띄고 찾을 문자열을 입력하세요.\")\n",
    "n, target = input().split()\n",
    "n = int(n)\n",
    "\n",
    "print(\"앞서 적은 원소 개수만큼 문자열을 입력하세요. 구분은 띄어쓰기 한 칸으로 합니다.\")\n",
    "array = input().split()\n",
    "\n",
    "print(sequential_search(n, target, array))"
   ]
  },
  {
   "cell_type": "markdown",
   "metadata": {},
   "source": [
    "# 이진 탐색 (Binary Search)\n",
    "찾으려는 데이터와 중간점 위치에 있는 데이터를 반복적으로 비교해서 원하는 데이터를 찾는 방법\n",
    "- 배열 내부의 데이터가 정렬되어 있어야만 사용할 수 있는 알고리즘\n",
    "- 탐색 범위를 절반씩 좁혀가며 데이터를 탐색하여 매우 빠르게 데이터를 찾을 수 있다.\n",
    "- 시간 복잡도 : O(logN)"
   ]
  },
  {
   "cell_type": "markdown",
   "metadata": {},
   "source": [
    "재귀 함수로 구현한 이진 탐색 코드"
   ]
  },
  {
   "cell_type": "code",
   "execution_count": 2,
   "metadata": {},
   "outputs": [
    {
     "name": "stdout",
     "output_type": "stream",
     "text": [
      "4\n"
     ]
    }
   ],
   "source": [
    "def binary_search(array, target, start, end):\n",
    "    if start > end:\n",
    "        return None\n",
    "    mid = (start + end) // 2\n",
    "    # 찾은 경우 중간점 인덱스 반환\n",
    "    if array[mid] == target:\n",
    "        return mid\n",
    "    # 중간점의 값보다 찾고자 하는 값이 작은 경우 왼쪽 확인\n",
    "    elif array[mid] > target:\n",
    "        return binary_search(array, target, start, mid - 1)\n",
    "    # 중간점의 값보다 찾고자 하는 값이 큰 경우 오른쪽 확인\n",
    "    else:\n",
    "        return binary_search(array, target, mid + 1, end)\n",
    "    \n",
    "n, target = list(map(int, input().split()))\n",
    "array = list(map(int, input().split()))\n",
    "\n",
    "result = binary_search(array, target, 0, n - 1)\n",
    "if result == None:\n",
    "    print(\"원소가 존재하지 않습니다.\")\n",
    "else:\n",
    "    print(result + 1)"
   ]
  },
  {
   "cell_type": "markdown",
   "metadata": {},
   "source": [
    "반복문으로 구현한 이진 탐색 코드"
   ]
  },
  {
   "cell_type": "code",
   "execution_count": 3,
   "metadata": {},
   "outputs": [
    {
     "name": "stdout",
     "output_type": "stream",
     "text": [
      "4\n"
     ]
    }
   ],
   "source": [
    "def binary_search(array, target, start, end):\n",
    "    while start <= end:\n",
    "        mid = (start + end) // 2\n",
    "        # 찾은 경우 중간점 인덱스 반환\n",
    "        if array[mid] == target:\n",
    "            return mid\n",
    "        # 중간점의 값보다 찾고자 하는 값이 작은 경우 왼쪽 확인\n",
    "        elif array[mid] > target:\n",
    "            end = mid - 1\n",
    "        # 중간점의 값보다 찾고자 하는 값이 큰 경우 오른쪽 확인\n",
    "        else:\n",
    "            start = mid + 1\n",
    "    return None\n",
    "        \n",
    "n, target = list(map(int, input().split()))\n",
    "array = list(map(int, input().split()))\n",
    "\n",
    "result = binary_search(array, target, 0, n - 1)\n",
    "if result == None:\n",
    "    print(\"원소가 존재하지 않습니다.\")\n",
    "else:\n",
    "    print(result + 1)"
   ]
  },
  {
   "cell_type": "markdown",
   "metadata": {},
   "source": [
    "## 파이썬 이진 탐색 라이브러리\n",
    "- bisect_left(a, x) : 정렬된 순서를 유지하면서 배열 a에 x를 삽입할 가장 왼쪽 인덱스를 반환\n",
    "- bisect_right(a, x) : 정렬된 순서를 유지하면서 배열 a에 x를 삽입할 가장 오른쪽 인덱스를 반환"
   ]
  },
  {
   "cell_type": "code",
   "execution_count": 1,
   "metadata": {},
   "outputs": [
    {
     "name": "stdout",
     "output_type": "stream",
     "text": [
      "2\n",
      "4\n"
     ]
    }
   ],
   "source": [
    "from bisect import bisect_left, bisect_right\n",
    "\n",
    "a = [1, 2, 4, 4, 8]\n",
    "x = 4\n",
    "\n",
    "print(bisect_left(a, x))\n",
    "print(bisect_right(a, x))"
   ]
  },
  {
   "cell_type": "markdown",
   "metadata": {},
   "source": [
    "값이 특정 범위에 속하는 데이터 개수 구하기"
   ]
  },
  {
   "cell_type": "code",
   "execution_count": 2,
   "metadata": {},
   "outputs": [
    {
     "name": "stdout",
     "output_type": "stream",
     "text": [
      "2\n",
      "6\n"
     ]
    }
   ],
   "source": [
    "from bisect import bisect_left, bisect_right\n",
    "\n",
    "def count_by_range(a, left_value, right_value):\n",
    "    left_index = bisect_left(a, left_value)\n",
    "    right_index = bisect_right(a, right_value)\n",
    "    return right_index - left_index\n",
    "\n",
    "a = [1, 2, 3, 3, 3, 3, 4, 4, 8, 9]\n",
    "\n",
    "print(count_by_range(a, 4, 4))\n",
    "print(count_by_range(a, -1, 3))"
   ]
  },
  {
   "cell_type": "markdown",
   "metadata": {},
   "source": [
    "## 파라메트릭 서치 (Parametric Search)\n",
    "최적화 문제를 결정 문제('예' 혹은 '아니오')로 바꾸어 해결하는 기법\n",
    "- 이진 탐색을 이용하여 해결"
   ]
  },
  {
   "cell_type": "markdown",
   "metadata": {},
   "source": [
    "# 트리 자료구조\n",
    "- 트리는 부모 노드와 자식 노드의 관계로 표현된다.\n",
    "- 트리의 최상단 노드를 루트 노드라고 한다.\n",
    "- 트리의 최하단 노드를 단말 노드(리프 노드)라고 한다.\n",
    "- 트리에서 일부를 떼어내도 트리 구조이며 이를 서브 트리라 한다.\n",
    "- 트리는 파일 시스템과 같이 계층적이고 정렬된 데이터를 다루기에 적합하다."
   ]
  },
  {
   "cell_type": "markdown",
   "metadata": {},
   "source": [
    "큰 데이터를 처리하는 소프트웨어는 대부분 데이터를 트리 자료구조로 저장해서 이진 탐색과 같은 탐색 기법을 이용해 빠르게 탐색이 가능하다."
   ]
  },
  {
   "cell_type": "markdown",
   "metadata": {},
   "source": [
    "## 이진 탐색 트리\n",
    "이진 탐색이 동작할 수 있도록 고안된 효율적인 탐색이 가능한 자료구조\n",
    "- 부모 노드보다 왼쪽 자식 노드가 작다.\n",
    "- 부모 노드보다 오른쪽 자식 노드가 크다."
   ]
  },
  {
   "cell_type": "markdown",
   "metadata": {},
   "source": [
    "---"
   ]
  },
  {
   "cell_type": "markdown",
   "metadata": {},
   "source": [
    "## 2. 부품 찾기\n",
    "- 전자 매장에 부품이 N개 있고 각 부품은 정수 형태의 고유한 번호가 있다.\n",
    "- 손님이 M개 종류의 부품을 구매하려고 한다.\n",
    "- 전자 매장에 M개의 부품이 모두 있는지 확인하기"
   ]
  },
  {
   "cell_type": "markdown",
   "metadata": {},
   "source": [
    "입력 조건 :\n",
    "- 첫째 줄에 정수 N이 주어진다. (1 <= N <= 1,000,000)\\\n",
    "(예시) 5\n",
    "- 둘째 줄에는 공백으로 구분하여 N개의 정수가 주어진다. 이때 정수는 1보다 크고 1,000,000 이하이다.\\\n",
    "(예시) 8 3 7 9 2\n",
    "- 셋째 줄에는 정수 M이 주어진다. (1 <= M <= 100,000)\\\n",
    "(예시) 3\n",
    "- 넷째 줄에는 공백으로 구분하여 M개의 정수가 주어진다. 이때 정수는 1보다 크고 1,000,000 이하이다.\\\n",
    "(예시) 5 7 9"
   ]
  },
  {
   "cell_type": "markdown",
   "metadata": {},
   "source": [
    "출력 조건 :\n",
    "- 첫째 줄에 공백으로 구분하여 각 부품이 존재하면 yes를, 없으면 no를 출력한다.\\\n",
    "(예시) no yes yes"
   ]
  },
  {
   "cell_type": "markdown",
   "metadata": {},
   "source": [
    "### 혼자 푼 거\n",
    "정렬하지 않고 풀어서 시간 복잡도 : O(NM) -> N을 M으로 치환하면 O(M^2)"
   ]
  },
  {
   "cell_type": "code",
   "execution_count": 8,
   "metadata": {},
   "outputs": [
    {
     "name": "stdout",
     "output_type": "stream",
     "text": [
      "no yes yes "
     ]
    }
   ],
   "source": [
    "# 갖고 있는 부품 종류와 필요한 부품 종류\n",
    "n = int(input())\n",
    "all_items_list = list(map(int, input().split()))\n",
    "m = int(input())\n",
    "need_items_list = list(map(int, input().split()))\n",
    "\n",
    "for item in need_items_list:\n",
    "    if item in all_items_list:\n",
    "        print(\"yes\", end=\" \")\n",
    "    else:\n",
    "        print(\"no\", end=\" \")"
   ]
  },
  {
   "cell_type": "markdown",
   "metadata": {},
   "source": [
    "### 정답지 보고 다시 푼 거\n",
    "정렬 후 이진 탐색하여 시간 복잡도 : O(NlogN) + O(MlogN) = O((N + M)logN) -> N을 M으로 치환하면 O(MlogM)"
   ]
  },
  {
   "cell_type": "code",
   "execution_count": 14,
   "metadata": {},
   "outputs": [
    {
     "name": "stdout",
     "output_type": "stream",
     "text": [
      "no yes yes "
     ]
    }
   ],
   "source": [
    "# target이 있으면 True 반환, 없으면 False 반환\n",
    "def binary_search(target, start, end):\n",
    "    while start <= end:\n",
    "        mid = (start + end) // 2\n",
    "        if all_items_list[mid] == target:\n",
    "            return True\n",
    "        elif all_items_list[mid] > target:\n",
    "            end = mid - 1\n",
    "        else:\n",
    "            start = mid + 1\n",
    "    return False\n",
    "\n",
    "# 갖고 있는 부품 종류와 필요한 부품 종류\n",
    "n = int(input())\n",
    "all_items_list = list(map(int, input().split()))\n",
    "m = int(input())\n",
    "need_items_list = list(map(int, input().split()))\n",
    "\n",
    "# 정렬\n",
    "all_items_list.sort()\n",
    "\n",
    "for item in need_items_list:\n",
    "    if binary_search(item, 0, n - 1):\n",
    "        print(\"yes\", end=\" \")\n",
    "    else:\n",
    "        print(\"no\", end=\" \")"
   ]
  },
  {
   "cell_type": "markdown",
   "metadata": {},
   "source": [
    "## 3. 떡볶이 떡 만들기\n",
    "- 떡의 총 길이는 절단기로 잘라서 맞춰준다.\n",
    "- 절단기에 높이를 지정하면 줄지어진 떡을 한 번에 절단하여 높이가 H보다 긴 떡은 H 위의 부분이 잘릴 것이고, 낮은 떡은 잘리지 않는다."
   ]
  },
  {
   "cell_type": "markdown",
   "metadata": {},
   "source": [
    "입력 조건 :\n",
    "- 첫째 줄에 떡의 개수 N과 요청한 떡의 길이 M이 주어진다. (1 <= N <= 1,000,000, 1 <= M <= 2,000,000,000)\\\n",
    "(예시) 4 6\n",
    "- 둘째 줄에 떡의 개별 높이가 주어진다. 떡 높이의 총합은 항상 M 이상이므로, 손님은 필요한 양만큼 떡을 사갈 수 있다. (0 <= 높이 <= 1,000,000,000)\\\n",
    "(예시) 19 15 10 17"
   ]
  },
  {
   "cell_type": "markdown",
   "metadata": {},
   "source": [
    "출력 조건 :\n",
    "- 적어도 M만큼의 떡을 집에 가져가기 위해 절단기에 설정할 수 있는 높이의 최댓값을 출력한다.\\\n",
    "(예시) 15"
   ]
  },
  {
   "cell_type": "markdown",
   "metadata": {},
   "source": [
    "### 혼자 푼 거\n",
    "딱 맞아 떨어지게 잘리지 않을 때 값이 안 나옴"
   ]
  },
  {
   "cell_type": "code",
   "execution_count": 21,
   "metadata": {},
   "outputs": [
    {
     "name": "stdout",
     "output_type": "stream",
     "text": [
      "15\n"
     ]
    }
   ],
   "source": [
    "def rice_cake_binary_search(m, startH, endH):\n",
    "    while startH <= endH:\n",
    "        h = (startH + endH) // 2\n",
    "        \n",
    "        sum_rice_cake = 0\n",
    "        for rice_cake in rice_cake_list:\n",
    "            if rice_cake > h:\n",
    "                sum_rice_cake += rice_cake - h\n",
    "            else:\n",
    "                break\n",
    "        if sum_rice_cake == m:\n",
    "            return h\n",
    "        elif sum_rice_cake > m:\n",
    "            startH = h + 1\n",
    "        else:\n",
    "            endH = h - 1\n",
    "    \n",
    "\n",
    "n, m = map(int, input().split())\n",
    "rice_cake_list = list(map(int, input().split()))\n",
    "\n",
    "rice_cake_list.sort(reverse=True)\n",
    "# 높이 1부터 가장 긴 떡 길이까지\n",
    "h = rice_cake_binary_search(m, 1, rice_cake_list[0])\n",
    "print(h)"
   ]
  },
  {
   "cell_type": "markdown",
   "metadata": {},
   "source": [
    "### 정답지 보고 다시 푼 거\n",
    "딱 맞아 떨어지지 않는 경우 고려함"
   ]
  },
  {
   "cell_type": "code",
   "execution_count": 25,
   "metadata": {},
   "outputs": [
    {
     "name": "stdout",
     "output_type": "stream",
     "text": [
      "15\n"
     ]
    }
   ],
   "source": [
    "def rice_cake_binary_search(m, startH, endH):\n",
    "    while startH <= endH:\n",
    "        h = (startH + endH) // 2\n",
    "        \n",
    "        sum_rice_cake = 0\n",
    "        for rice_cake in rice_cake_list:\n",
    "            if rice_cake > h:\n",
    "                sum_rice_cake += rice_cake - h\n",
    "            else:\n",
    "                break\n",
    "        if sum_rice_cake == m:\n",
    "            return h\n",
    "        elif sum_rice_cake > m:\n",
    "            # 딱 맞아 떨어지지 않을 경우 result가 높이 최댓값\n",
    "            result = h\n",
    "            startH = h + 1\n",
    "        else:\n",
    "            endH = h - 1\n",
    "        \n",
    "    return result\n",
    "    \n",
    "\n",
    "n, m = map(int, input().split())\n",
    "rice_cake_list = list(map(int, input().split()))\n",
    "\n",
    "rice_cake_list.sort(reverse=True)\n",
    "# 높이 1부터 가장 긴 떡 길이까지\n",
    "h = rice_cake_binary_search(m, 1, rice_cake_list[0])\n",
    "print(h)"
   ]
  }
 ],
 "metadata": {
  "kernelspec": {
   "display_name": "Python 3",
   "language": "python",
   "name": "python3"
  },
  "language_info": {
   "codemirror_mode": {
    "name": "ipython",
    "version": 3
   },
   "file_extension": ".py",
   "mimetype": "text/x-python",
   "name": "python",
   "nbconvert_exporter": "python",
   "pygments_lexer": "ipython3",
   "version": "3.11.5"
  }
 },
 "nbformat": 4,
 "nbformat_minor": 2
}
