{
 "cells": [
  {
   "cell_type": "markdown",
   "metadata": {},
   "source": [
    "# 정렬 (Sorting)\n",
    "데이터를 특정한 기준에 따라서 순서대로 나열하는 것\n",
    "- 선택 정렬\n",
    "- 삽입 정렬\n",
    "- 퀵 정렬\n",
    "- 계수 정렬"
   ]
  },
  {
   "cell_type": "markdown",
   "metadata": {},
   "source": [
    "## 선택 정렬 (Selection Sort)\n",
    "매번 가장 작은 것을 선택해서 첫 번째, 두 번째 자리, ..., n-1번째 자리에 차례대로 바꾸는 과정을 반복\n",
    "- 평균(최악) 시간 복잡도 = O(n^2)"
   ]
  },
  {
   "cell_type": "code",
   "execution_count": 2,
   "metadata": {},
   "outputs": [
    {
     "name": "stdout",
     "output_type": "stream",
     "text": [
      "[0, 1, 2, 3, 4, 5, 6, 7, 8, 9]\n"
     ]
    }
   ],
   "source": [
    "array = [7, 5, 9, 0, 3, 1, 6, 2, 4, 8]\n",
    "\n",
    "for i in range(len(array) - 1):\n",
    "    min_index = i\n",
    "    for j in range(i + 1, len(array)):\n",
    "        if array[min_index] > array[j]:\n",
    "            min_index = j\n",
    "    array[i], array[min_index] = array[min_index], array[i]\n",
    "    \n",
    "print(array)"
   ]
  },
  {
   "cell_type": "markdown",
   "metadata": {},
   "source": [
    "## 삽입 정렬 (Insertion Sort)\n",
    "특정한 데이터가 적절한 위치에 들어가기 이전에, 그 앞까지의 데이터는 이미 정렬되어 있다고 가정한다. 정렬되어 있는 데이터 리스트에서 적절한 위치를 찾은 뒤에, 그 위치에 삽입된다.\n",
    "- 데이터가 거의 정렬되어 있을 떄 훨씬 효율적\n",
    "- 평균(최악) 시간 복잡도 = O(n^2)\n",
    "- 최선 시간 복잡도 = O(n)"
   ]
  },
  {
   "cell_type": "code",
   "execution_count": 3,
   "metadata": {},
   "outputs": [
    {
     "name": "stdout",
     "output_type": "stream",
     "text": [
      "[0, 1, 2, 3, 4, 5, 6, 7, 8, 9]\n"
     ]
    }
   ],
   "source": [
    "array = [7, 5, 9, 0, 3, 1, 6, 2, 4, 8]\n",
    "\n",
    "for i in range(1, len(array)):\n",
    "    for j in range(i, 0, -1):\n",
    "        if array[j] < array[j - 1]:\n",
    "            array[j], array[j - 1] = array[j - 1], array[j]\n",
    "        else:\n",
    "            break\n",
    "        \n",
    "print(array)"
   ]
  },
  {
   "cell_type": "markdown",
   "metadata": {},
   "source": [
    "## 퀵 정렬\n",
    "기준을 설정한 다음 큰 수와 작은 수를 교환한 후 리스트를 반으로 나누는 방식으로 동작한다. 나눠진 리스트 안에서 남는 리스트가 없을 때까지 이 과정을 반복한다.\n",
    "- 평균 시간 복잡도 = O(nlogn)\n",
    "- 최악 시간 복잡도 = O(n^2)"
   ]
  },
  {
   "cell_type": "code",
   "execution_count": 5,
   "metadata": {},
   "outputs": [
    {
     "name": "stdout",
     "output_type": "stream",
     "text": [
      "[0, 1, 2, 3, 4, 5, 6, 7, 8, 9]\n"
     ]
    }
   ],
   "source": [
    "array = [7, 5, 9, 0, 3, 1, 6, 2, 4, 8]\n",
    "\n",
    "def quick_sort(array, start, end):\n",
    "    if start >= end:\n",
    "        return\n",
    "    pivot = start\n",
    "    left = start + 1\n",
    "    right = end\n",
    "    \n",
    "    while left <= right:\n",
    "        # pivot보다 큰 데이터를 찾을 때까지 반복\n",
    "        while left <= end and array[left] <= array[pivot]:\n",
    "            left += 1\n",
    "        # pivot보다 작은 데이터를 찾을 때까지 반복\n",
    "        while right > start and array[right] >= array[pivot]:\n",
    "            right -= 1\n",
    "        \n",
    "        # 엇갈렸다면 작은 데이터와 pivot을 교체\n",
    "        if left > right:\n",
    "            array[right], array[pivot] = array[pivot], array[right]\n",
    "        # 엇갈리지 않았다면 작은 데이터와 큰 데이터를 교체\n",
    "        else:\n",
    "            array[left], array[right] = array[right], array[left]\n",
    "    # 분할 이후 왼쪽 부분과 오른쪽 부분에서 각각 정렬 수행\n",
    "    quick_sort(array, start, right - 1)\n",
    "    quick_sort(array, right + 1, end)\n",
    "    \n",
    "quick_sort(array, 0, len(array) - 1)\n",
    "print(array)"
   ]
  },
  {
   "cell_type": "markdown",
   "metadata": {},
   "source": [
    "## 계수 정렬 (Count Sort)\n",
    "가장 큰 데이터와 가장 작은 데이터의 범위가 모두 담길 수 있도록 하나의 리스트를 생성한다. 리스트는 0이 되도록 초기화하고 데이터를 하나씩 확인하며 데이터의 값과 동일한 인덱스의 데이터를 1씩 증가시킨다.\n",
    "- 데이터의 크기 범위가 제한되어 정수 형태로 표현할 수 있을 때만 사용할 수 있지만 매우 빠른 정렬 알고리즘\n",
    "- 단, 가장 큰 데이터와 가장 작은 데이터의 차이가 너무 크다면 계수 정렬은 사용할 수 없다.\n",
    "- 평균(최악) 시간 복잡도 = O(n + k)"
   ]
  },
  {
   "cell_type": "code",
   "execution_count": 6,
   "metadata": {},
   "outputs": [
    {
     "name": "stdout",
     "output_type": "stream",
     "text": [
      "0 0 1 1 2 2 3 4 5 5 6 7 8 9 9 "
     ]
    }
   ],
   "source": [
    "# 모든 원소의 값이 0보다 크거나 같다고 가정\n",
    "array = [7, 5, 9, 0, 3, 1, 6, 2, 9, 1, 4, 8, 0, 5, 2]\n",
    "# 모든 범위를 포함하는 리스트 선언 (모든 값은 0으로 초기화)\n",
    "count = [0] * (max(array) + 1)\n",
    "\n",
    "for i in range(len(array)):\n",
    "    count[array[i]] += 1\n",
    "    \n",
    "for i in range(len(count)):\n",
    "    for j in range(count[i]):\n",
    "        print(i, end=\" \")"
   ]
  },
  {
   "cell_type": "markdown",
   "metadata": {},
   "source": [
    "## 병합(합병) 정렬 (Merge Sort)\n",
    "1. 분할(Divide) : 정렬되지 않은 배열을 절반으로 잘라 비슷한 크기의 두 파티션으로 나눈다. (이 때 원소가 한 개가 남을 때까지 분할을 진행한다.)\n",
    "2. 정복(Conquer) : 분할이 완료되면 나눈 각 파티션을 재귀적으로 호출해 정렬을 진행한다.\n",
    "3. 결합(Combine) : 정렬이 완료되면 이제 나누었던 두 파티션을 하나의 정렬된 배열로 병합한다.\n",
    "- 원소가 한 개가 남을 때까지 1번 진행, 2번-3번을 반복하면서 배열을 완성한다.\n",
    "- 평균(최악) 시간 복잡도 = O(nlogn)"
   ]
  },
  {
   "cell_type": "code",
   "execution_count": 10,
   "metadata": {},
   "outputs": [
    {
     "name": "stdout",
     "output_type": "stream",
     "text": [
      "[0, 1, 2, 3, 4, 5, 6, 7, 8, 9]\n"
     ]
    }
   ],
   "source": [
    "array = [7, 5, 9, 0, 3, 1, 6, 2, 4, 8]\n",
    "\n",
    "def merge_sort(array):\n",
    "    # 원소 1개가 될 때까지 리스트를 분할\n",
    "    if len(array) < 2:\n",
    "        return array\n",
    "\n",
    "    mid = len(array) // 2\n",
    "    left_arr = merge_sort(array[:mid])\n",
    "    right_arr = merge_sort(array[mid:])\n",
    "\n",
    "    merged_arr = []\n",
    "    l = h = 0\n",
    "    # 한 쪽 리스트가 다 merge될 때까지 실행\n",
    "    while l < len(left_arr) and h < len(right_arr):\n",
    "        # 분할된 리스트의 맨 왼쪽부터 비교하여 크기 순으로 merged_arr에 append\n",
    "        if left_arr[l] < right_arr[h]:\n",
    "            merged_arr.append(left_arr[l])\n",
    "            l += 1\n",
    "        else:\n",
    "            merged_arr.append(right_arr[h])\n",
    "            h += 1\n",
    "    # 남은 리스트 원소들을 merged_arr에 한 번에 집어넣음\n",
    "    merged_arr += left_arr[l:]\n",
    "    merged_arr += right_arr[h:]\n",
    "    return merged_arr\n",
    "\n",
    "array = merge_sort(array)\n",
    "print(array)"
   ]
  },
  {
   "cell_type": "markdown",
   "metadata": {},
   "source": [
    "## 파이썬 정렬 라이브러리\n",
    "병합 정렬과 삽입 정렬의 아이디어를 더한 하이브리드 방식의 정렬 알고리즘\n",
    "- 평균(최악) 시간 복잡도 = O(nlogn)"
   ]
  },
  {
   "cell_type": "code",
   "execution_count": 8,
   "metadata": {},
   "outputs": [
    {
     "name": "stdout",
     "output_type": "stream",
     "text": [
      "[0, 1, 2, 3, 4, 5, 6, 7, 8, 9]\n"
     ]
    }
   ],
   "source": [
    "array = [7, 5, 9, 0, 3, 1, 6, 2, 4, 8]\n",
    "\n",
    "array.sort()\n",
    "print(array)"
   ]
  },
  {
   "cell_type": "code",
   "execution_count": 7,
   "metadata": {},
   "outputs": [
    {
     "name": "stdout",
     "output_type": "stream",
     "text": [
      "[0, 1, 2, 3, 4, 5, 6, 7, 8, 9]\n"
     ]
    }
   ],
   "source": [
    "array = [7, 5, 9, 0, 3, 1, 6, 2, 4, 8]\n",
    "\n",
    "result = sorted(array)\n",
    "print(result)"
   ]
  },
  {
   "cell_type": "code",
   "execution_count": 9,
   "metadata": {},
   "outputs": [
    {
     "name": "stdout",
     "output_type": "stream",
     "text": [
      "[('바나나', 2), ('당근', 3), ('사과', 5)]\n"
     ]
    }
   ],
   "source": [
    "array = [('바나나', 2), ('사과', 5), ('당근', 3)]\n",
    "\n",
    "def setting(data):\n",
    "    return data[1]\n",
    "\n",
    "result = sorted(array, key=setting)\n",
    "print(result)"
   ]
  },
  {
   "cell_type": "markdown",
   "metadata": {},
   "source": [
    "---"
   ]
  },
  {
   "cell_type": "markdown",
   "metadata": {},
   "source": [
    "## 2. 위에서 아래로"
   ]
  },
  {
   "cell_type": "markdown",
   "metadata": {},
   "source": [
    "입력 조건 :\n",
    "- 첫째 줄에 수열에 속해 있는 수의 개수 N이 주어진다. (1 <= N <= 500)\\\n",
    "(예시) 3\n",
    "- 둘째 줄부터 N + 1번째 줄까지 N + 1번째 줄까지 N개의 수가 입려된다. 수의 범위는 1 이상 100,000 이하의 자연수이다.\\\n",
    "(예시)\\\n",
    "15\\\n",
    "27\\\n",
    "12"
   ]
  },
  {
   "cell_type": "markdown",
   "metadata": {},
   "source": [
    "출력 조건 :\n",
    "- 입력으로 주어진 수열이 **내림차순**으로 정렬된 결과를 공백으로 구분하여 출력한다. 동일한 수의 순서는 자유롭게 출력해도 괜찮다.\\\n",
    "(예시) 27 15 12"
   ]
  },
  {
   "cell_type": "markdown",
   "metadata": {},
   "source": [
    "### 혼자 푼 거\n",
    "내장 라이브러리 사용법을 알지만 퀵 정렬을 구현해서 풀어보았다.\n",
    "정답 코드는 내장 라이브러리 사용"
   ]
  },
  {
   "cell_type": "code",
   "execution_count": 16,
   "metadata": {},
   "outputs": [
    {
     "name": "stdout",
     "output_type": "stream",
     "text": [
      "27 15 12 "
     ]
    }
   ],
   "source": [
    "def quick_sort(standard, start, end):\n",
    "\n",
    "    if 0 <= standard < start <= end <= n - 1:\n",
    "\n",
    "        left = start\n",
    "        right = end\n",
    "\n",
    "        while True: \n",
    "\n",
    "            while nums_list[standard] >= nums_list[right] and left <= right:\n",
    "                right -= 1\n",
    "            \n",
    "            while nums_list[standard] < nums_list[left] and left < right:\n",
    "                left += 1\n",
    "\n",
    "            if left < right:\n",
    "                nums_list[left], nums_list[right] = nums_list[right], nums_list[left]\n",
    "            else:\n",
    "                break\n",
    "        \n",
    "        # 기준값과 right값 교환\n",
    "        nums_list[standard], nums_list[right] = nums_list[right], nums_list[standard]\n",
    "        quick_sort(standard, start, right - 1)\n",
    "        quick_sort(right + 1, right + 2, end)\n",
    "\n",
    "# 수열 개수\n",
    "n = int(input())\n",
    "\n",
    "# 수열 입력\n",
    "nums_list = []\n",
    "for _ in range(n):\n",
    "    nums_list.append(int(input()))\n",
    "\n",
    "# 내장 라이브러리 사용\n",
    "# print(sorted(nums_list, reverse=True))\n",
    "    \n",
    "# 퀵 정렬 사용\n",
    "quick_sort(0, 1, n - 1)\n",
    "for num in nums_list:\n",
    "    print(num, end=\" \")\n"
   ]
  },
  {
   "cell_type": "markdown",
   "metadata": {},
   "source": [
    "## 3. 성적이 낮은 순서로 학생 출력하기"
   ]
  },
  {
   "cell_type": "markdown",
   "metadata": {},
   "source": [
    "입력 조건 :\n",
    "- 첫째 줄에 학생의 수 N이 입력된다. (1 <= N <= 100,000)\\\n",
    "(예시) 2\n",
    "- 둘째 줄부터 N + 1번째 줄에는 학생의 이름을 나타내는 문자열 A와 학생의 성적을 나타내는 정수 B가 공백으로 구분되어 입력된다. (1 <= A, B <= 100 자연수)\\\n",
    "(예시)\\\n",
    "홍길동 95\\\n",
    "이순신 77"
   ]
  },
  {
   "cell_type": "markdown",
   "metadata": {},
   "source": [
    "출력 조건 :\n",
    "- 모든 학생의 이름을 성적이 낮은 순서대로 출력한다. 성적이 동일한 학생들의 순서는 자유롭게 출력해도 괜찮다.\\\n",
    "(예시) 이순신 홍길동"
   ]
  },
  {
   "cell_type": "code",
   "execution_count": 39,
   "metadata": {},
   "outputs": [
    {
     "name": "stdout",
     "output_type": "stream",
     "text": [
      "이순신 홍길동 "
     ]
    }
   ],
   "source": [
    "# 학생 수\n",
    "n = int(input())\n",
    "\n",
    "# 이름과 성적 리스트\n",
    "score_list = []\n",
    "for _ in range(n):\n",
    "    name, score = input().split()\n",
    "    score_list.append([name, int(score)])\n",
    "\n",
    "score_list = sorted(score_list,  key=(lambda score : score[1]))\n",
    "for name in score_list:\n",
    "    print(name[0], end=\" \")"
   ]
  },
  {
   "cell_type": "markdown",
   "metadata": {},
   "source": [
    "## 4. 두 배열의 원소 교체\n",
    "- 두 배열 A, B는 N개의 원소로 구성\n",
    "- 바꿔치기 연산이란 배열 A에 있는 원소 하나와 배열 B에 있는 원소 하나를 골라서 두 원소를 서로 바꾸는 것\n",
    "- 최종 목표 : 최대 K번 바꿔치기 연산을 통해 배열 A의 모든 원소의 합이 최대가 되도록 하는 것"
   ]
  },
  {
   "cell_type": "markdown",
   "metadata": {},
   "source": [
    "입력 조건 :\n",
    "- 첫째 줄에 N, K가 공백으로 구분되어 입력된다. (1 <= N <= 100,000, 0 <= K <= N)\\\n",
    "(예시) 5 3\n",
    "- 둘째 줄에 배열 A의 원소들이 공백으로 구분되어 입력된다. 모든 원소는 10,000,000보다 작은 자연수이다.\\\n",
    "(예시)\\\n",
    "1 2 5 4 3\n",
    "- 셋째 줄에 배열 B의 원소들이 공백으로 구분되어 입력된다. 모든 원소는 10,000,000보다 작은 자연수이다.\\\n",
    "(예시)\\\n",
    "5 5 6 6 5"
   ]
  },
  {
   "cell_type": "markdown",
   "metadata": {},
   "source": [
    "출력 조건 :\n",
    "- 최대 K번의 바꿔치기 연산을 수행하여 만든 수 있는 배열 A의 모든 원소의 합의 최댓값을 출력한다.\\\n",
    "(예시) 26"
   ]
  },
  {
   "cell_type": "code",
   "execution_count": 45,
   "metadata": {},
   "outputs": [
    {
     "name": "stdout",
     "output_type": "stream",
     "text": [
      "26\n"
     ]
    }
   ],
   "source": [
    "# n : 각 배열당 원소 개수, k : 최대 바꿔치기 연산 횟수\n",
    "n, k = map(int, input().split())\n",
    "\n",
    "# 배열 A, B\n",
    "array_A = list(map(int, input().split()))\n",
    "array_B = list(map(int, input().split()))\n",
    "\n",
    "# 배열 정렬\n",
    "array_A.sort()\n",
    "array_B.sort()\n",
    "\n",
    "# 배열 A의 최솟값과 배열 B의 최댓값을 바꾸면서 배열 A의 원소합을 최대로 만듦\n",
    "# 단, 배열 B의 최댓값이 A의 최솟값보다 작으면 바꾸지 않음\n",
    "for i in range(k):\n",
    "    if array_A[i] < array_B[-i]:\n",
    "        array_A[i], array_B[-i] = array_B[-i], array_A[i]\n",
    "    else:\n",
    "        break\n",
    "\n",
    "print(sum(array_A))"
   ]
  }
 ],
 "metadata": {
  "kernelspec": {
   "display_name": "Python 3",
   "language": "python",
   "name": "python3"
  },
  "language_info": {
   "codemirror_mode": {
    "name": "ipython",
    "version": 3
   },
   "file_extension": ".py",
   "mimetype": "text/x-python",
   "name": "python",
   "nbconvert_exporter": "python",
   "pygments_lexer": "ipython3",
   "version": "3.10.0"
  }
 },
 "nbformat": 4,
 "nbformat_minor": 2
}
