{
 "cells": [
  {
   "cell_type": "markdown",
   "metadata": {},
   "source": [
    "# 그리디 (Greedy)"
   ]
  },
  {
   "cell_type": "markdown",
   "metadata": {},
   "source": [
    "현재 상황에서 지금 당장 좋은 것만 고르는 방법 (미래 상황은 생각x)\n",
    "\n",
    "- 단순히 가장 좋아 보이는 것을 반복적으로 선택해도 최적의 해를 구할 수 있는지 검토"
   ]
  },
  {
   "cell_type": "markdown",
   "metadata": {},
   "source": [
    "## 3-1 (예제) 거스름돈"
   ]
  },
  {
   "cell_type": "markdown",
   "metadata": {},
   "source": [
    "### 혼자 푼 거"
   ]
  },
  {
   "cell_type": "code",
   "execution_count": 6,
   "metadata": {},
   "outputs": [
    {
     "name": "stdout",
     "output_type": "stream",
     "text": [
      "6\n"
     ]
    }
   ],
   "source": [
    "def change_money(n):    # money는 항상 10의 배수\n",
    "    coin = n // 500     # 500원 개수를 더함\n",
    "    n = n % 500\n",
    "    coin += n // 100    # 100원 개수를 더함\n",
    "    n = n % 100\n",
    "    coin += n // 50     # 50원 개수를 더함\n",
    "    coin += int(n % 50 / 10)    # 10원 개수를 더함\n",
    "\n",
    "    return coin\n",
    "\n",
    "money = 1260\n",
    "coin = change_money(money)\n",
    "print(coin)"
   ]
  },
  {
   "cell_type": "markdown",
   "metadata": {},
   "source": [
    "### 정답 보고 다시 푼 거"
   ]
  },
  {
   "cell_type": "code",
   "execution_count": 12,
   "metadata": {},
   "outputs": [
    {
     "name": "stdout",
     "output_type": "stream",
     "text": [
      "6\n"
     ]
    }
   ],
   "source": [
    "def change_money(n):    # money는 항상 10의 배수\n",
    "    coin_list = [500, 100, 50, 10]  # 동전의 종류\n",
    "    \n",
    "    coin = 0\n",
    "    for c in coin_list:\n",
    "        coin += n // c  # 각 종류마다 동전의 개수를 더함\n",
    "        n %= c          # 위에서 더한 동전값만큼 빼고 거스름돈 계산\n",
    "    \n",
    "    return coin\n",
    "\n",
    "money = 1260\n",
    "coin = change_money(money)\n",
    "print(coin)"
   ]
  },
  {
   "cell_type": "markdown",
   "metadata": {},
   "source": [
    "## 3-2 (실전) 큰 수의 법칙"
   ]
  },
  {
   "cell_type": "markdown",
   "metadata": {},
   "source": [
    "### 혼자 푼 거"
   ]
  },
  {
   "cell_type": "code",
   "execution_count": 3,
   "metadata": {},
   "outputs": [
    {
     "name": "stdout",
     "output_type": "stream",
     "text": [
      "46\n"
     ]
    }
   ],
   "source": [
    "def max_add(m, k, num_list):\n",
    "\n",
    "    num1 = max(num_list)    # 첫 번째로 가장 큰 숫자\n",
    "    num_list.remove(num1)\n",
    "    num2 = max(num_list)    # 두 번째로 가장 큰 숫자\n",
    "\n",
    "    if num1 == num2:        # 첫 번째, 두 번째로 큰 숫자가 서로 같을 때\n",
    "        return num1 * m \n",
    "\n",
    "    result = 0\n",
    "    count = 0\n",
    "    for i in range(m):      # m번 더함\n",
    "        if count < k:       # num1을 k번 더할 때까지 result에 더하기\n",
    "            result += num1\n",
    "            count += 1\n",
    "        else:               # num1을 k번 더하면 num2를 1번만 result에 더하기\n",
    "            result += num2\n",
    "            count = 0\n",
    "\n",
    "    return result\n",
    "\n",
    "# n 숫자 개수, m 더할 숫자 개수, k 한 인덱스당 반복 가능 수\n",
    "n, m, k = map(int, input().split())\n",
    "nums = list(map(int, input().split()))\n",
    "result = max_add(m, k, nums)\n",
    "print(result)"
   ]
  },
  {
   "cell_type": "markdown",
   "metadata": {},
   "source": [
    "### 정답 보고 다시 푼 거"
   ]
  },
  {
   "cell_type": "code",
   "execution_count": 4,
   "metadata": {},
   "outputs": [
    {
     "name": "stdout",
     "output_type": "stream",
     "text": [
      "46\n"
     ]
    }
   ],
   "source": [
    "def max_add(m, k, num_list):\n",
    "\n",
    "    num1 = max(num_list)    # 첫 번째로 가장 큰 숫자\n",
    "    num_list.remove(num1)\n",
    "    num2 = max(num_list)    # 두 번째로 가장 큰 숫자\n",
    "\n",
    "    if num1 == num2:        # 첫 번째, 두 번째로 큰 숫자가 서로 같을 때\n",
    "        return num1 * m\n",
    "\n",
    "    # num1이 더해질 count\n",
    "    count = m // (k + 1) * k + m % (k + 1)\n",
    "\n",
    "    # num2는 m-count번만 더해지면 됨\n",
    "    result = num1 * count + num2 * (m - count)\n",
    "    return result\n",
    "\n",
    "# n 숫자 개수, m 더할 숫자 개수, k 한 인덱스당 반복 가능 수\n",
    "n, m, k = map(int, input().split())\n",
    "nums = list(map(int, input().split()))\n",
    "result = max_add(m, k, nums)\n",
    "print(result)"
   ]
  },
  {
   "cell_type": "markdown",
   "metadata": {},
   "source": [
    "## 3-3 (실전) 숫자 카드 게임"
   ]
  },
  {
   "cell_type": "markdown",
   "metadata": {},
   "source": [
    "### 혼자 푼 거\n",
    "함수를 따로 만들어서 매개변수에 인풋값을 넣어야한다고 생각하고 만듦"
   ]
  },
  {
   "cell_type": "code",
   "execution_count": 23,
   "metadata": {},
   "outputs": [
    {
     "name": "stdout",
     "output_type": "stream",
     "text": [
      "2 4\n",
      "[[7, 3, 1, 8], [3, 3, 3, 4]]\n"
     ]
    }
   ],
   "source": [
    "# n행 m열\n",
    "n, m = map(int, input().split())\n",
    "num_array = []\n",
    "for _ in range(n):\n",
    "    num_array.append(list(map(int, input().split())))\n",
    "\n",
    "print(n, m)\n",
    "print(num_array)"
   ]
  },
  {
   "cell_type": "code",
   "execution_count": 24,
   "metadata": {},
   "outputs": [
    {
     "data": {
      "text/plain": [
       "3"
      ]
     },
     "execution_count": 24,
     "metadata": {},
     "output_type": "execute_result"
    }
   ],
   "source": [
    "def card_game(row, num_array):\n",
    "    \n",
    "    # 각 행에 있는 최솟값 중 가장 큰 값\n",
    "    result = 0\n",
    "\n",
    "    # 각 행에 있는 최솟값과 result를 비교\n",
    "    for i in range(row):\n",
    "        n = min(num_array[i])\n",
    "        if result < n:      # result보다 큰 최솟값이 나올 때\n",
    "            result = n\n",
    "\n",
    "    return result\n",
    "\n",
    "result = card_game(n)\n",
    "print(result)"
   ]
  },
  {
   "cell_type": "markdown",
   "metadata": {},
   "source": [
    "### 정답 보고 다시 푼 거\n",
    "num_array를 함수안에서 input하기만 하고 똑같은 코드"
   ]
  },
  {
   "cell_type": "code",
   "execution_count": 5,
   "metadata": {},
   "outputs": [
    {
     "name": "stdout",
     "output_type": "stream",
     "text": [
      "3\n"
     ]
    }
   ],
   "source": [
    "def card_game(row):\n",
    "    \n",
    "    # 각 행에 있는 최솟값 중 가장 큰 값\n",
    "    result = 0\n",
    "\n",
    "    # 각 행에 있는 최솟값과 result를 비교\n",
    "    for i in range(row):\n",
    "        num_list = list(map(int, input().split()))\n",
    "\n",
    "        n = min(num_list)\n",
    "        if result < n:      # result보다 큰 최솟값이 나올 때\n",
    "            result = n\n",
    "\n",
    "    return result\n",
    "\n",
    "# n행 m열\n",
    "n, m = map(int, input().split())\n",
    "result = card_game(n)\n",
    "print(result)"
   ]
  },
  {
   "cell_type": "markdown",
   "metadata": {},
   "source": [
    "## 3-4 (실전) 1이 될 때까지"
   ]
  },
  {
   "cell_type": "markdown",
   "metadata": {},
   "source": [
    "### 혼자 푼 거"
   ]
  },
  {
   "cell_type": "code",
   "execution_count": 54,
   "metadata": {},
   "outputs": [
    {
     "name": "stdout",
     "output_type": "stream",
     "text": [
      "119\n",
      "CPU times: total: 0 ns\n",
      "Wall time: 5.82 s\n"
     ]
    }
   ],
   "source": [
    "%%time\n",
    "def num_to_one(n, k):\n",
    "    count = 0\n",
    "    while n != 1:           # n이 1이 될 때까지 반복\n",
    "        if n % k == 0:      # n이 k로 나누어 떨어질 때\n",
    "            n //= k\n",
    "        else:\n",
    "            n -= 1\n",
    "        count += 1\n",
    "\n",
    "    return count\n",
    "\n",
    "n, k = map(int, input().split())\n",
    "count = num_to_one(n, k)\n",
    "print(count)"
   ]
  },
  {
   "cell_type": "markdown",
   "metadata": {},
   "source": [
    "### 정답 보고 다시 푼 거"
   ]
  },
  {
   "cell_type": "code",
   "execution_count": 55,
   "metadata": {},
   "outputs": [
    {
     "name": "stdout",
     "output_type": "stream",
     "text": [
      "119\n",
      "CPU times: total: 0 ns\n",
      "Wall time: 3.66 s\n"
     ]
    }
   ],
   "source": [
    "%%time\n",
    "def num_to_one(n, k):\n",
    "    count = 0\n",
    "    while True:\n",
    "\n",
    "        # n이 k보다 작을 때\n",
    "        if n < k:\n",
    "            count += n - 1      # (n-1)번만큼 1씩 빼기\n",
    "            return count\n",
    "        \n",
    "        # n이 k로 나누어 떨어질 때까지 1씩 빼기\n",
    "        target = (n // k) * k\n",
    "        count += n - target + 1     # (n-target)번만큼 1씩 빼기 / 1번 k로 나누기\n",
    "        n = target // k\n",
    "\n",
    "\n",
    "n, k = map(int, input().split())\n",
    "count = num_to_one(n, k)\n",
    "print(count)"
   ]
  }
 ],
 "metadata": {
  "kernelspec": {
   "display_name": "Python 3",
   "language": "python",
   "name": "python3"
  },
  "language_info": {
   "codemirror_mode": {
    "name": "ipython",
    "version": 3
   },
   "file_extension": ".py",
   "mimetype": "text/x-python",
   "name": "python",
   "nbconvert_exporter": "python",
   "pygments_lexer": "ipython3",
   "version": "3.10.0"
  }
 },
 "nbformat": 4,
 "nbformat_minor": 2
}
