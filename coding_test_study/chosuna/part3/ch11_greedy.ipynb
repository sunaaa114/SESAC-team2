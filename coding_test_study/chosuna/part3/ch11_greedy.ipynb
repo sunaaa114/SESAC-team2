{
 "cells": [
  {
   "cell_type": "markdown",
   "metadata": {},
   "source": [
    "# 그리디 (Greedy)"
   ]
  },
  {
   "cell_type": "markdown",
   "metadata": {},
   "source": [
    "## Q1. 모험가 길드\n",
    "- N명의 모험가를 대상으로 공포도가 존재\n",
    "- 공포도가 X인 모험가는 반드시 X명 이상으로 구성한 모험가 그룹에 참여해야 여행을 떠날 수 있음\n",
    "- 몇 명의 모험가는 마을에 그대로 남아 있어도 된다.\n",
    "- 여행을 떠날 수 있는 그룹 수의 최댓값은?"
   ]
  },
  {
   "cell_type": "markdown",
   "metadata": {},
   "source": [
    "입력 조건 :\n",
    "- 첫째 줄에 모험가의 수 N이 주어집니다. (1 <= N <= 100,000)\\\n",
    "(예시) 5\n",
    "- 둘째 줄에 각 모험가의 공포도의 값을 N 이하의 자연수로 주어지며, 각 자연수는 공백으로 구분합니다.\\\n",
    "(예시) 2 3 1 2 2"
   ]
  },
  {
   "cell_type": "markdown",
   "metadata": {},
   "source": [
    "출력 조건 :\n",
    "- 여행을 떠날 수 있는 그룹 수의 최댓값을 출력합니다.\\\n",
    "(예시) 2"
   ]
  },
  {
   "cell_type": "code",
   "execution_count": 3,
   "metadata": {},
   "outputs": [
    {
     "name": "stdout",
     "output_type": "stream",
     "text": [
      "2\n"
     ]
    }
   ],
   "source": [
    "n = int(input())\n",
    "scare_list = list(map(int, input().split()))\n",
    "scare_list.sort()\n",
    "\n",
    "# 만들어질 그룹 수\n",
    "group = 0\n",
    "# 그룹에 모인 사람 수\n",
    "people = 0\n",
    "for scare in scare_list:\n",
    "    people += 1\n",
    "    # 공포도만큼 사람 수 모이면 한 그룹 완성\n",
    "    if people == scare:\n",
    "        group += 1\n",
    "        people = 0\n",
    "        \n",
    "print(group)"
   ]
  },
  {
   "cell_type": "markdown",
   "metadata": {},
   "source": [
    "## Q2. 곱하기 혹은 더하기\n",
    "- 각 자리가 숫자(0부터 9)로만 이루어진 문자열 S가 주어졌을 때, 왼쪽부터 오른쪽으로 하나씩 모든 숫자를 확인하며 숫자 사이에 'x' 혹은 '+' 연산자를 넣어 결과적으로 만들어질 수 있는 가장 큰 수를 구하는 프로그램 작성\n",
    "- 단, +보다 x를 먼저 계산하는 일반적인 방식과는 달리, 모든 연산은 왼쪽에서부터 순서대로 이루어진다고 가정"
   ]
  },
  {
   "cell_type": "markdown",
   "metadata": {},
   "source": [
    "입력 조건 :\n",
    "- 첫째 줄에 여러 개의 숫자로 구성된 하나의 문자열 S가 주어집니다. (1 <= S의 길이 <= 20)\\\n",
    "(예시) 02984"
   ]
  },
  {
   "cell_type": "markdown",
   "metadata": {},
   "source": [
    "출력 조건 :\n",
    "- 첫째 줄에 만들어질 수 있는 가장 큰 수를 출력합니다.\\\n",
    "(예시) 576"
   ]
  },
  {
   "cell_type": "code",
   "execution_count": 7,
   "metadata": {},
   "outputs": [
    {
     "name": "stdout",
     "output_type": "stream",
     "text": [
      "576\n"
     ]
    }
   ],
   "source": [
    "s = input()\n",
    "\n",
    "def max_num_fn(s):\n",
    "    # s가 한 자리일 때\n",
    "    if len(s) == 1:\n",
    "        return int(s)\n",
    "\n",
    "    # s가 두 자리이상\n",
    "    s_0 = int(s[0])\n",
    "    s_1 = int(s[1])\n",
    "    if s_0 <= 1 or s_1 <= 1:\n",
    "        max_num = s_0 + s_1\n",
    "    else:\n",
    "        max_num = s_0 * s_1\n",
    "        \n",
    "    for n in s[2:]:\n",
    "        n = int(n)\n",
    "        \n",
    "        if n <= 1:\n",
    "            max_num += n\n",
    "        else:\n",
    "            max_num *= n\n",
    "            \n",
    "    return max_num\n",
    "        \n",
    "print(max_num_fn(s))"
   ]
  },
  {
   "cell_type": "markdown",
   "metadata": {},
   "source": [
    "## Q3. 문자열 뒤집기\n",
    "- 0과 1로만 이루어진 문자열 S가 주어짐\n",
    "- 이 문자열 S에 있는 모든 숫자를 전부 같게 만들기\n",
    "    - S에서 연속된 하나 이상의 숫자를 잡고 모두 뒤집는 것\n",
    "    - 뒤집는 것은 1을 0으로, 0을 1로 바꾸는 것을 의미\n",
    "- 예시) S = 0001100\n",
    "    1. 4번째 문자부터 5번째 문자까지 뒤집으면 0000000이 되어서 한 번 만에 모두 같은 숫자로 만들 수 있음\n",
    "- 문자열 S가 주어졌을 때, 위 행동의 최소 횟수를 출력"
   ]
  },
  {
   "cell_type": "markdown",
   "metadata": {},
   "source": [
    "입력 조건 :\n",
    "- 첫째 줄에 0과 1로만 이루어진 문자열 S가 주어집니다. S의 길이는 100만보다 작습니다.\\\n",
    "(예시) 0001100"
   ]
  },
  {
   "cell_type": "markdown",
   "metadata": {},
   "source": [
    "출력 조건 :\n",
    "- 첫째 줄에 행동의 최소 횟수를 출력합니다.\\\n",
    "(예시) 1"
   ]
  },
  {
   "cell_type": "code",
   "execution_count": 35,
   "metadata": {},
   "outputs": [
    {
     "name": "stdout",
     "output_type": "stream",
     "text": [
      "2\n"
     ]
    }
   ],
   "source": [
    "s = input()\n",
    "\n",
    "# 0이 연속으로 있는 횟수\n",
    "zero_group = 0\n",
    "# 1이 연속으로 있는 횟수\n",
    "one_group = 0\n",
    "# 현재 연속되고 있는 숫자\n",
    "zero_or_one = s[0]\n",
    "\n",
    "for n in s[1:]:\n",
    "    # 연속된 숫자가 나옴\n",
    "    if n == zero_or_one:\n",
    "        continue\n",
    "    # 1에서 0으로 바뀐 순간\n",
    "    elif n == '0':\n",
    "        one_group += 1\n",
    "    # 0에서 1로 바뀐 순간\n",
    "    else:\n",
    "        zero_group += 1\n",
    "    zero_or_one = n\n",
    "    \n",
    "# 마지막 자리에 있는 숫자 그룹 수 추가\n",
    "if n == '0':\n",
    "    zero_group += 1\n",
    "else:\n",
    "    one_group += 1\n",
    "    \n",
    "# 0 또는 1로 연속되는 횟수가 적은 것의 수만큼 뒤집으면 됨\n",
    "print(min(zero_group, one_group))"
   ]
  },
  {
   "cell_type": "markdown",
   "metadata": {},
   "source": [
    "## Q4. 만들 수 없는 금액"
   ]
  },
  {
   "cell_type": "markdown",
   "metadata": {},
   "source": [
    "입력 조건 :\n",
    "- 첫째 줄에는 동전의 개수를 나타내는 양의 정수 N이 주어집니다. (1 <= N <= 1,000)\\\n",
    "(예시) 5\n",
    "- 둘째 줄에는 각 동전의 화폐 단위를 나타내는 N개의 자연수가 주어지며, 각 자연수는 공백으로 구분합니다. 이때, 각 화폐 단위는 1,000,000 이하의 자연수입니다.\\\n",
    "(예시) 3 2 1 1 9"
   ]
  },
  {
   "cell_type": "markdown",
   "metadata": {},
   "source": [
    "출력 조건 :\n",
    "- 첫째 줄에 주어진 동전들로 만들 수 없는 양의 정수 금액 중 최솟값을 출력합니다.\\\n",
    "(예시) 8"
   ]
  },
  {
   "cell_type": "markdown",
   "metadata": {},
   "source": [
    "### 혼자 푼 거"
   ]
  },
  {
   "cell_type": "code",
   "execution_count": 5,
   "metadata": {},
   "outputs": [
    {
     "name": "stdout",
     "output_type": "stream",
     "text": [
      "8\n"
     ]
    }
   ],
   "source": [
    "n = int(input())\n",
    "coin_list = list(map(int, input().split()))\n",
    "coin_list.sort()\n",
    "\n",
    "def cant_make_num(coin_list):\n",
    "    \n",
    "    if coin_list[0] != 1:\n",
    "        return 1\n",
    "    else:\n",
    "        # 만들 수 있는 숫자 리스트\n",
    "        possible_num = [1]    \n",
    "        for coin in coin_list[1:]:\n",
    "            current_possible = possible_num.copy()\n",
    "            for pos_n in current_possible:\n",
    "                # 만들어진 정수\n",
    "                temp_num = coin + pos_n\n",
    "                \n",
    "                if temp_num == possible_num[-1] + 1:\n",
    "                    possible_num.append(temp_num)\n",
    "                # possible_num의 가장 마지막에 만들어진 정수 + 1이 안 만들어지고 더 큰 수가 만들어졌을 때\n",
    "                elif temp_num > possible_num[-1]:\n",
    "                    return possible_num[-1] + 1\n",
    "                    \n",
    "print(cant_make_num(coin_list))"
   ]
  },
  {
   "cell_type": "markdown",
   "metadata": {},
   "source": [
    "### 정답지 보고 푼 거"
   ]
  },
  {
   "cell_type": "code",
   "execution_count": 6,
   "metadata": {},
   "outputs": [
    {
     "name": "stdout",
     "output_type": "stream",
     "text": [
      "8\n"
     ]
    }
   ],
   "source": [
    "n = int(input())\n",
    "coin_list = list(map(int, input().split()))\n",
    "coin_list.sort()\n",
    "\n",
    "target = 1\n",
    "for coin in coin_list:\n",
    "    # target보다 coin이 크면 무조건 target을 만들 수 없음\n",
    "    if target < coin:\n",
    "        break\n",
    "    # target보다 coin이 같거나 작으면 숫자 하나하나 확인하지 않아도 target + coin - 1까지 숫자 만들 수 있음\n",
    "    target += coin\n",
    "    \n",
    "print(target)"
   ]
  },
  {
   "cell_type": "markdown",
   "metadata": {},
   "source": [
    "## Q5. 볼링공 고르기\n",
    "- A, B 두 사람이 볼링을 치고 있다.\n",
    "- 두 사람은 서로 무게가 다른 볼링공을 고르려고 한다.\n",
    "- 볼링공은 총 N개, 각 볼링공마다 무게가 적혀 있고 공의 번호는 1번부터 순서대로 부여\n",
    "- 같은 무게의 공이 여러 개 있을 수 있지만, 서로 다른 공으로 간주한다.\n",
    "- 볼링공의 무게는 1부터 M까지의 자연수 형태로 존재"
   ]
  },
  {
   "cell_type": "markdown",
   "metadata": {},
   "source": [
    "입력 조건 :\n",
    "- 첫째 줄에는 볼링공의 개수 N, 공의 최대 무게 M이 공백으로 구분되어 각각 자연수 형태로 주어집니다. (1 <= N <= 1,000, 1 <= M <= 10)\\\n",
    "(예시) 5 3\n",
    "- 둘째 줄에 각 볼링공의 무게 K가 공백으로 구분되어 순서대로 자연수 형태로 주어집니다. (1 <= K <= M)\\\n",
    "(예시) 1 3 2 3 2"
   ]
  },
  {
   "cell_type": "markdown",
   "metadata": {},
   "source": [
    "출력 조건 :\n",
    "- 첫째 줄에 두 사람이 고를 수 있는 볼링공 번호의 **조합** 경우의 수를 출력합니다.\\\n",
    "(예시) 8\\\n",
    "[(1, 2), (1, 3), (1, 4), (1, 5), (2, 3), (2, 5), (3, 4), (4, 5)]로 8개 (조합 문제, 순열 x)"
   ]
  },
  {
   "cell_type": "code",
   "execution_count": 12,
   "metadata": {},
   "outputs": [
    {
     "name": "stdout",
     "output_type": "stream",
     "text": [
      "8\n"
     ]
    }
   ],
   "source": [
    "import itertools\n",
    "\n",
    "n, m = map(int, input().split())\n",
    "# 각 볼링공의 무게 리스트\n",
    "k_list = list(map(int, input().split()))\n",
    "# 무게당 볼링공 개수\n",
    "k_count_dict = dict()\n",
    "for k in k_list:\n",
    "    if k in k_count_dict.keys():\n",
    "        k_count_dict[k] += 1\n",
    "    else:\n",
    "        k_count_dict[k] = 1\n",
    "        \n",
    "# 볼링공 고르는 경우의 수\n",
    "result = 0\n",
    "for n1, n2 in itertools.combinations(k_count_dict.values(), 2):\n",
    "    result += n1 * n2\n",
    "    \n",
    "print(result)"
   ]
  },
  {
   "cell_type": "markdown",
   "metadata": {},
   "source": [
    "## Q6. 무지의 먹방 라이브\n",
    "- 회전판에 먹어야 할 N개의 음식이 있다.\n",
    "- 각 음식에는 1부터 N까지 번호가 붙어있으며, 각 음식을 섭취하는데 일정 시간이 소요\n",
    "- 무지는 다음과 같은 방법으로 음식을 섭취\n",
    "    1. 무지는 1번 음식부터 먹기 시작하며, 회전판은 전호가 증가하는 순서대로 음식을 무지 앞으로 가져다 놓습니다.\n",
    "    2. 마지막 번호의 음식을 섭취한 후에는 회전판에 의해 다시 1번 음식이 무지 앞으로 옵니다.\n",
    "    3. 무지는 음식 하나를 1초 동안 섭치한 후 남은 음식은 그대로 두고, 다음 음식을 섭취합니다. 다음 음식이란, 아직 남은 음식 중 다음으로 섭취해야 할 가장 가까운 번호의 음식을 말합니다.\n",
    "    4. 회전판이 다음 음식을 무지 앞으로 가져오는 데 걸리는 시간은 없다고 가정합니다.\n",
    "- 무지가 먹방을 시작한 지 K초 후에 네트워크 장애로 인해 방송이 잠시 중단\n",
    "- 무지는 네트워크 정상화 후 다시 방송을 이어갈 때, 몇 번 음식부터 섭취해야 하는지를 알고자 한다.\n",
    "- 각 음식을 모두 먹는 데 필요한 시간이 담겨 있는 배열 food_times, 네트워크 장애가 발생한 시간 K초가 매개변수로 주어질 때 몇 번 음식부터 다시 섭취하면 되는지 return 하도록 solution 함수를 완성하세요."
   ]
  },
  {
   "cell_type": "markdown",
   "metadata": {},
   "source": [
    "제한 사항\n",
    "- food_times는 각 음식을 모두 먹는 데 필요한 시간이 음식의 번호 순서대로 들어 있는 배열\n",
    "- k는 방송이 종료된 시간\n",
    "- 만약 더 섭취해야 할 음식이 없다면 -1을 반환"
   ]
  },
  {
   "cell_type": "markdown",
   "metadata": {},
   "source": [
    "정확성 테스트 제한 사항\n",
    "- food_times의 길이는 1 이상 2,000 이하\n",
    "- food_times의 원소는 1 이상 1,000 이하의 자연수\n",
    "- k는 1 이상 2,000,000 이하의 자연수"
   ]
  },
  {
   "cell_type": "markdown",
   "metadata": {},
   "source": [
    "효율성 테스트 제한 사항\n",
    "- food_times의 길이는 1 이상 200,000 이하\n",
    "- food_times의 원소는 1 이상 100,000,000 이하의 자연수\n",
    "- k는 1 이상 2 x 10<sup>13</sup> 이하의 자연수"
   ]
  },
  {
   "cell_type": "markdown",
   "metadata": {},
   "source": [
    "입출력 예시\n",
    "|food_times|k|result|\n",
    "|--|--|--|\n",
    "|[3, 1, 2]|5|1|"
   ]
  },
  {
   "cell_type": "markdown",
   "metadata": {},
   "source": [
    "입출력 예시에 대한 설명\n",
    "- 0 ~ 1초 동안에 1번 음식을 섭취한다. 남은 시간은 [2, 1, 2]\n",
    "- 1 ~ 2초 동안에 2번 음식을 섭취한다. 남은 시간은 [2, 0, 2]\n",
    "- 2 ~ 3초 동안에 3번 음식을 섭취한다. 남은 시간은 [2, 0, 1]\n",
    "- 3 ~ 4초 동안에 1번 음식을 섭취한다. 남은 시간은 [1, 0, 1]\n",
    "- 4 ~ 5초 동안 (2번 음식은 다 먹었으므로) 3번 음식을 섭취한다. 남은 시간은 [1, 0, 0]\n",
    "- 5초에서 네트워크 장애가 발생했습니다. 1번 음식을 섭취해야 할 때 중단되었으므로, 장애 복구 후에 1번 음식부터 다시 먹기 시작하면 됩니다."
   ]
  },
  {
   "cell_type": "markdown",
   "metadata": {},
   "source": [
    "### 1번째 풀이\n",
    "- 정확성 테스트 통과 (42.9/42.9)\n",
    "- 효율성 테스트 실패 (0/57.1)"
   ]
  },
  {
   "cell_type": "code",
   "execution_count": 11,
   "metadata": {},
   "outputs": [
    {
     "name": "stdout",
     "output_type": "stream",
     "text": [
      "1\n",
      "CPU times: total: 0 ns\n",
      "Wall time: 0 ns\n"
     ]
    }
   ],
   "source": [
    "%%time\n",
    "def solution(food_times, k):\n",
    "    # 현재 시간\n",
    "    current_time = 0\n",
    "    \n",
    "    while True:\n",
    "        # 다 먹은 음식 개수\n",
    "        eat_food_count = 0\n",
    "        for i in range(len(food_times)):\n",
    "            # 다 먹은 음식이면 넘김\n",
    "            if food_times[i] == 0:\n",
    "                eat_food_count += 1\n",
    "                continue\n",
    "                \n",
    "            food_times[i] -= 1\n",
    "            current_time += 1\n",
    "            if current_time == k + 1:\n",
    "                result = i + 1\n",
    "                return result\n",
    "                \n",
    "        if  eat_food_count == len(food_times):\n",
    "            return -1\n",
    "\n",
    "                \n",
    "print(solution(food_times = [3, 1, 2], k = 5))"
   ]
  },
  {
   "cell_type": "markdown",
   "metadata": {},
   "source": [
    "### 2번째 풀이\n",
    "- 정확성 테스트 통과 (42.9/42.9)\n",
    "- 효율성 테스트 실패 (0/57.1)"
   ]
  },
  {
   "cell_type": "code",
   "execution_count": 12,
   "metadata": {},
   "outputs": [
    {
     "name": "stdout",
     "output_type": "stream",
     "text": [
      "1\n",
      "CPU times: total: 0 ns\n",
      "Wall time: 1 ms\n"
     ]
    }
   ],
   "source": [
    "%%time\n",
    "from collections import deque\n",
    "def solution(food_times, k):\n",
    "    # 현재 시간\n",
    "    current_time = 0\n",
    "    food_times = [[food_times[i], i + 1] for i in range(len(food_times))]\n",
    "    food_times = deque(food_times)\n",
    "    while food_times:\n",
    "\n",
    "        f_t = food_times.popleft()\n",
    "        f_t[0] -= 1\n",
    "        current_time += 1\n",
    "        \n",
    "        # 다 못 먹었으면 food_times에 다시 집어넣기\n",
    "        if f_t[0] != 0:\n",
    "            food_times.append(f_t)\n",
    "        \n",
    "        # 네트워크 장애 발생 이후 먹을 다음 음식    \n",
    "        if current_time == k + 1:\n",
    "            return f_t[1]\n",
    "        \n",
    "    # 네트워크 장애 발생 전에 음식 다 먹으면 -1 반환\n",
    "    return -1\n",
    "                \n",
    "print(solution(food_times = [3, 1, 2], k = 5))"
   ]
  },
  {
   "cell_type": "markdown",
   "metadata": {},
   "source": [
    "### 정답지"
   ]
  },
  {
   "cell_type": "code",
   "execution_count": 4,
   "metadata": {},
   "outputs": [
    {
     "name": "stdout",
     "output_type": "stream",
     "text": [
      "1\n",
      "CPU times: total: 0 ns\n",
      "Wall time: 0 ns\n"
     ]
    }
   ],
   "source": [
    "%%time\n",
    "import heapq\n",
    "\n",
    "def solution(food_times, k):\n",
    "    # 전체 음식을 먹는 시간보다 k가 크거나 같다면 -1\n",
    "    if sum(food_times) <= k:\n",
    "        return -1\n",
    "    \n",
    "    # 시간이 작은 음식부터 빼야 하므로 우선순위 큐를 이용\n",
    "    q = []\n",
    "    for i in range(len(food_times)):\n",
    "        # (음식 시간, 음식 번호) 형태로 우선순위 큐에 삽입\n",
    "        heapq.heappush(q, (food_times[i], i + 1))\n",
    "        \n",
    "    sum_value = 0   # 먹기 위해 사용한 시간\n",
    "    previous = 0    # 직전에 다 먹은 음식 시간\n",
    "    length = len(food_times)    # 남은 음식의 개수\n",
    "    \n",
    "    # sum_value + (현재의 음식 시간 - 이전 음식 시간) * 현재 음식 개수와 k 비교\n",
    "    while sum_value + ((q[0][0] - previous) * length) <= k:\n",
    "        now = heapq.heappop(q)[0]\n",
    "        sum_value += (now - previous) * length\n",
    "        length -= 1     # 다 먹은 음식 제외\n",
    "        previous = now  # 이전 음식 시간 재설정\n",
    "        \n",
    "    # 남은 음식 중에서 몇 번째 음식인지 확인하여 출력\n",
    "    result = sorted(q, key=lambda x : x[1]) # 음식의 번호 기준으로 정렬\n",
    "    \n",
    "    return result[(k - sum_value) % length][1]\n",
    "\n",
    "print(solution(food_times = [3, 1, 2], k = 5))"
   ]
  }
 ],
 "metadata": {
  "kernelspec": {
   "display_name": "newbie",
   "language": "python",
   "name": "python3"
  },
  "language_info": {
   "codemirror_mode": {
    "name": "ipython",
    "version": 3
   },
   "file_extension": ".py",
   "mimetype": "text/x-python",
   "name": "python",
   "nbconvert_exporter": "python",
   "pygments_lexer": "ipython3",
   "version": "3.10.0"
  }
 },
 "nbformat": 4,
 "nbformat_minor": 2
}
